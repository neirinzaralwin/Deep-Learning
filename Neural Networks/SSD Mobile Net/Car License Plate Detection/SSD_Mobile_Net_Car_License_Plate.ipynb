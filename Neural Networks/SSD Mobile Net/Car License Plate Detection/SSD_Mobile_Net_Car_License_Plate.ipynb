{
  "nbformat": 4,
  "nbformat_minor": 0,
  "metadata": {
    "colab": {
      "name": "SSD Mobile Net Car License Plate",
      "provenance": [],
      "collapsed_sections": [
        "lG4qHvX5u15S",
        "3bN-W41LvyOp",
        "0pAn26elDycJ"
      ]
    },
    "kernelspec": {
      "name": "python3",
      "display_name": "Python 3"
    },
    "language_info": {
      "name": "python"
    },
    "accelerator": "GPU"
  },
  "cells": [
    {
      "cell_type": "code",
      "source": [
        "import os"
      ],
      "metadata": {
        "id": "5IgBPB20sik6"
      },
      "execution_count": 1,
      "outputs": []
    },
    {
      "cell_type": "code",
      "source": [
        "CUSTOM_MODEL_NAME = 'my_ssd_mobnet' \n",
        "PRETRAINED_MODEL_NAME = 'ssd_mobilenet_v2_fpnlite_640x640_coco17_tpu-8'\n",
        "PRETRAINED_MODEL_URL = 'http://download.tensorflow.org/models/object_detection/tf2/20200711/ssd_mobilenet_v2_fpnlite_640x640_coco17_tpu-8.tar.gz'\n",
        "TF_RECORD_SCRIPT_NAME = 'generate_tfrecord.py'\n",
        "LABEL_MAP_NAME = 'label_map.pbtxt'"
      ],
      "metadata": {
        "id": "9V6VoEIIsmbH"
      },
      "execution_count": 2,
      "outputs": []
    },
    {
      "cell_type": "code",
      "source": [
        "!pwd"
      ],
      "metadata": {
        "colab": {
          "base_uri": "https://localhost:8080/"
        },
        "id": "m6jyRbYktC15",
        "outputId": "ceaa4d71-f7b6-4497-ce7f-cb9668123537"
      },
      "execution_count": 3,
      "outputs": [
        {
          "output_type": "stream",
          "name": "stdout",
          "text": [
            "/content\n"
          ]
        }
      ]
    },
    {
      "cell_type": "code",
      "source": [
        "!pip install tensorflow==2.8"
      ],
      "metadata": {
        "colab": {
          "base_uri": "https://localhost:8080/"
        },
        "id": "AsA4-4wr9Ivw",
        "outputId": "8d0a5a5c-f6a4-455f-fabc-a26186e8370a"
      },
      "execution_count": 4,
      "outputs": [
        {
          "output_type": "stream",
          "name": "stdout",
          "text": [
            "Looking in indexes: https://pypi.org/simple, https://us-python.pkg.dev/colab-wheels/public/simple/\n",
            "Requirement already satisfied: tensorflow==2.8 in /usr/local/lib/python3.7/dist-packages (2.8.0+zzzcolab20220506162203)\n",
            "Requirement already satisfied: gast>=0.2.1 in /usr/local/lib/python3.7/dist-packages (from tensorflow==2.8) (0.5.3)\n",
            "Requirement already satisfied: keras-preprocessing>=1.1.1 in /usr/local/lib/python3.7/dist-packages (from tensorflow==2.8) (1.1.2)\n",
            "Requirement already satisfied: numpy>=1.20 in /usr/local/lib/python3.7/dist-packages (from tensorflow==2.8) (1.21.6)\n",
            "Requirement already satisfied: libclang>=9.0.1 in /usr/local/lib/python3.7/dist-packages (from tensorflow==2.8) (14.0.1)\n",
            "Requirement already satisfied: h5py>=2.9.0 in /usr/local/lib/python3.7/dist-packages (from tensorflow==2.8) (3.1.0)\n",
            "Requirement already satisfied: typing-extensions>=3.6.6 in /usr/local/lib/python3.7/dist-packages (from tensorflow==2.8) (4.2.0)\n",
            "Requirement already satisfied: protobuf>=3.9.2 in /usr/local/lib/python3.7/dist-packages (from tensorflow==2.8) (3.17.3)\n",
            "Collecting tf-estimator-nightly==2.8.0.dev2021122109\n",
            "  Downloading tf_estimator_nightly-2.8.0.dev2021122109-py2.py3-none-any.whl (462 kB)\n",
            "\u001b[K     |████████████████████████████████| 462 kB 9.6 MB/s \n",
            "\u001b[?25hRequirement already satisfied: google-pasta>=0.1.1 in /usr/local/lib/python3.7/dist-packages (from tensorflow==2.8) (0.2.0)\n",
            "Requirement already satisfied: flatbuffers>=1.12 in /usr/local/lib/python3.7/dist-packages (from tensorflow==2.8) (2.0)\n",
            "Requirement already satisfied: wrapt>=1.11.0 in /usr/local/lib/python3.7/dist-packages (from tensorflow==2.8) (1.14.1)\n",
            "Requirement already satisfied: setuptools in /usr/local/lib/python3.7/dist-packages (from tensorflow==2.8) (57.4.0)\n",
            "Requirement already satisfied: six>=1.12.0 in /usr/local/lib/python3.7/dist-packages (from tensorflow==2.8) (1.15.0)\n",
            "Requirement already satisfied: termcolor>=1.1.0 in /usr/local/lib/python3.7/dist-packages (from tensorflow==2.8) (1.1.0)\n",
            "Requirement already satisfied: tensorboard<2.9,>=2.8 in /usr/local/lib/python3.7/dist-packages (from tensorflow==2.8) (2.8.0)\n",
            "Requirement already satisfied: grpcio<2.0,>=1.24.3 in /usr/local/lib/python3.7/dist-packages (from tensorflow==2.8) (1.46.1)\n",
            "Requirement already satisfied: keras<2.9,>=2.8.0rc0 in /usr/local/lib/python3.7/dist-packages (from tensorflow==2.8) (2.8.0)\n",
            "Requirement already satisfied: opt-einsum>=2.3.2 in /usr/local/lib/python3.7/dist-packages (from tensorflow==2.8) (3.3.0)\n",
            "Requirement already satisfied: absl-py>=0.4.0 in /usr/local/lib/python3.7/dist-packages (from tensorflow==2.8) (1.0.0)\n",
            "Requirement already satisfied: tensorflow-io-gcs-filesystem>=0.23.1 in /usr/local/lib/python3.7/dist-packages (from tensorflow==2.8) (0.26.0)\n",
            "Requirement already satisfied: astunparse>=1.6.0 in /usr/local/lib/python3.7/dist-packages (from tensorflow==2.8) (1.6.3)\n",
            "Requirement already satisfied: wheel<1.0,>=0.23.0 in /usr/local/lib/python3.7/dist-packages (from astunparse>=1.6.0->tensorflow==2.8) (0.37.1)\n",
            "Requirement already satisfied: cached-property in /usr/local/lib/python3.7/dist-packages (from h5py>=2.9.0->tensorflow==2.8) (1.5.2)\n",
            "Requirement already satisfied: requests<3,>=2.21.0 in /usr/local/lib/python3.7/dist-packages (from tensorboard<2.9,>=2.8->tensorflow==2.8) (2.23.0)\n",
            "Requirement already satisfied: markdown>=2.6.8 in /usr/local/lib/python3.7/dist-packages (from tensorboard<2.9,>=2.8->tensorflow==2.8) (3.3.7)\n",
            "Requirement already satisfied: tensorboard-data-server<0.7.0,>=0.6.0 in /usr/local/lib/python3.7/dist-packages (from tensorboard<2.9,>=2.8->tensorflow==2.8) (0.6.1)\n",
            "Requirement already satisfied: google-auth<3,>=1.6.3 in /usr/local/lib/python3.7/dist-packages (from tensorboard<2.9,>=2.8->tensorflow==2.8) (1.35.0)\n",
            "Requirement already satisfied: google-auth-oauthlib<0.5,>=0.4.1 in /usr/local/lib/python3.7/dist-packages (from tensorboard<2.9,>=2.8->tensorflow==2.8) (0.4.6)\n",
            "Requirement already satisfied: werkzeug>=0.11.15 in /usr/local/lib/python3.7/dist-packages (from tensorboard<2.9,>=2.8->tensorflow==2.8) (1.0.1)\n",
            "Requirement already satisfied: tensorboard-plugin-wit>=1.6.0 in /usr/local/lib/python3.7/dist-packages (from tensorboard<2.9,>=2.8->tensorflow==2.8) (1.8.1)\n",
            "Requirement already satisfied: rsa<5,>=3.1.4 in /usr/local/lib/python3.7/dist-packages (from google-auth<3,>=1.6.3->tensorboard<2.9,>=2.8->tensorflow==2.8) (4.8)\n",
            "Requirement already satisfied: pyasn1-modules>=0.2.1 in /usr/local/lib/python3.7/dist-packages (from google-auth<3,>=1.6.3->tensorboard<2.9,>=2.8->tensorflow==2.8) (0.2.8)\n",
            "Requirement already satisfied: cachetools<5.0,>=2.0.0 in /usr/local/lib/python3.7/dist-packages (from google-auth<3,>=1.6.3->tensorboard<2.9,>=2.8->tensorflow==2.8) (4.2.4)\n",
            "Requirement already satisfied: requests-oauthlib>=0.7.0 in /usr/local/lib/python3.7/dist-packages (from google-auth-oauthlib<0.5,>=0.4.1->tensorboard<2.9,>=2.8->tensorflow==2.8) (1.3.1)\n",
            "Requirement already satisfied: importlib-metadata>=4.4 in /usr/local/lib/python3.7/dist-packages (from markdown>=2.6.8->tensorboard<2.9,>=2.8->tensorflow==2.8) (4.11.3)\n",
            "Requirement already satisfied: zipp>=0.5 in /usr/local/lib/python3.7/dist-packages (from importlib-metadata>=4.4->markdown>=2.6.8->tensorboard<2.9,>=2.8->tensorflow==2.8) (3.8.0)\n",
            "Requirement already satisfied: pyasn1<0.5.0,>=0.4.6 in /usr/local/lib/python3.7/dist-packages (from pyasn1-modules>=0.2.1->google-auth<3,>=1.6.3->tensorboard<2.9,>=2.8->tensorflow==2.8) (0.4.8)\n",
            "Requirement already satisfied: certifi>=2017.4.17 in /usr/local/lib/python3.7/dist-packages (from requests<3,>=2.21.0->tensorboard<2.9,>=2.8->tensorflow==2.8) (2022.5.18.1)\n",
            "Requirement already satisfied: urllib3!=1.25.0,!=1.25.1,<1.26,>=1.21.1 in /usr/local/lib/python3.7/dist-packages (from requests<3,>=2.21.0->tensorboard<2.9,>=2.8->tensorflow==2.8) (1.24.3)\n",
            "Requirement already satisfied: idna<3,>=2.5 in /usr/local/lib/python3.7/dist-packages (from requests<3,>=2.21.0->tensorboard<2.9,>=2.8->tensorflow==2.8) (2.10)\n",
            "Requirement already satisfied: chardet<4,>=3.0.2 in /usr/local/lib/python3.7/dist-packages (from requests<3,>=2.21.0->tensorboard<2.9,>=2.8->tensorflow==2.8) (3.0.4)\n",
            "Requirement already satisfied: oauthlib>=3.0.0 in /usr/local/lib/python3.7/dist-packages (from requests-oauthlib>=0.7.0->google-auth-oauthlib<0.5,>=0.4.1->tensorboard<2.9,>=2.8->tensorflow==2.8) (3.2.0)\n",
            "Installing collected packages: tf-estimator-nightly\n",
            "Successfully installed tf-estimator-nightly-2.8.0.dev2021122109\n"
          ]
        }
      ]
    },
    {
      "cell_type": "code",
      "source": [
        "!pip install opencv-python-headless==4.1.2.30"
      ],
      "metadata": {
        "colab": {
          "base_uri": "https://localhost:8080/"
        },
        "id": "GBorLs5z9K2_",
        "outputId": "924b34b9-51e5-4420-f843-1bc858e3961b"
      },
      "execution_count": 5,
      "outputs": [
        {
          "output_type": "stream",
          "name": "stdout",
          "text": [
            "Looking in indexes: https://pypi.org/simple, https://us-python.pkg.dev/colab-wheels/public/simple/\n",
            "Collecting opencv-python-headless==4.1.2.30\n",
            "  Downloading opencv_python_headless-4.1.2.30-cp37-cp37m-manylinux1_x86_64.whl (21.8 MB)\n",
            "\u001b[K     |████████████████████████████████| 21.8 MB 4.3 MB/s \n",
            "\u001b[?25hRequirement already satisfied: numpy>=1.14.5 in /usr/local/lib/python3.7/dist-packages (from opencv-python-headless==4.1.2.30) (1.21.6)\n",
            "Installing collected packages: opencv-python-headless\n",
            "Successfully installed opencv-python-headless-4.1.2.30\n"
          ]
        }
      ]
    },
    {
      "cell_type": "code",
      "source": [
        "!apt install --allow-change-held-packages libcudnn8=8.1.0.77-1+cuda11.2"
      ],
      "metadata": {
        "colab": {
          "base_uri": "https://localhost:8080/"
        },
        "id": "olqlyG-n9MLF",
        "outputId": "8f8ac47b-c59f-4f15-e4f3-d7937295528c"
      },
      "execution_count": 6,
      "outputs": [
        {
          "output_type": "stream",
          "name": "stdout",
          "text": [
            "Reading package lists... Done\n",
            "Building dependency tree       \n",
            "Reading state information... Done\n",
            "The following package was automatically installed and is no longer required:\n",
            "  libnvidia-common-460\n",
            "Use 'apt autoremove' to remove it.\n",
            "The following packages will be REMOVED:\n",
            "  libcudnn8-dev\n",
            "The following held packages will be changed:\n",
            "  libcudnn8\n",
            "The following packages will be upgraded:\n",
            "  libcudnn8\n",
            "1 upgraded, 0 newly installed, 1 to remove and 40 not upgraded.\n",
            "Need to get 430 MB of archives.\n",
            "After this operation, 3,139 MB disk space will be freed.\n",
            "Get:1 https://developer.download.nvidia.com/compute/cuda/repos/ubuntu1804/x86_64  libcudnn8 8.1.0.77-1+cuda11.2 [430 MB]\n",
            "Fetched 430 MB in 15s (28.8 MB/s)\n",
            "(Reading database ... 155629 files and directories currently installed.)\n",
            "Removing libcudnn8-dev (8.0.5.39-1+cuda11.1) ...\n",
            "(Reading database ... 155607 files and directories currently installed.)\n",
            "Preparing to unpack .../libcudnn8_8.1.0.77-1+cuda11.2_amd64.deb ...\n",
            "Unpacking libcudnn8 (8.1.0.77-1+cuda11.2) over (8.0.5.39-1+cuda11.1) ...\n",
            "Setting up libcudnn8 (8.1.0.77-1+cuda11.2) ...\n"
          ]
        }
      ]
    },
    {
      "cell_type": "code",
      "source": [
        "# !pip uninstall protobuf matplotlib -y\n",
        "# !pip install matplotlib==3.2\n",
        "# !pip install protobuf==3.20"
      ],
      "metadata": {
        "id": "8-AgIHtI9HXP"
      },
      "execution_count": null,
      "outputs": []
    },
    {
      "cell_type": "markdown",
      "source": [
        "# Downlod TF Pretrained Model from tensorflow Zoo"
      ],
      "metadata": {
        "id": "lG4qHvX5u15S"
      }
    },
    {
      "cell_type": "code",
      "source": [
        "if not os.path.exists(\"models\"):\n",
        "  !git clone https://github.com/tensorflow/models "
      ],
      "metadata": {
        "colab": {
          "base_uri": "https://localhost:8080/"
        },
        "id": "Wc1gpnm2s6cb",
        "outputId": "628e5d0e-adfb-440c-c530-6fab211f209b"
      },
      "execution_count": 7,
      "outputs": [
        {
          "output_type": "stream",
          "name": "stdout",
          "text": [
            "Cloning into 'models'...\n",
            "remote: Enumerating objects: 73195, done.\u001b[K\n",
            "remote: Counting objects: 100% (98/98), done.\u001b[K\n",
            "remote: Compressing objects: 100% (74/74), done.\u001b[K\n",
            "remote: Total 73195 (delta 53), reused 43 (delta 21), pack-reused 73097\u001b[K\n",
            "Receiving objects: 100% (73195/73195), 579.33 MiB | 24.84 MiB/s, done.\n",
            "Resolving deltas: 100% (51832/51832), done.\n"
          ]
        }
      ]
    },
    {
      "cell_type": "code",
      "source": [
        "os.chdir('./models/research/')\n",
        "!protoc object_detection/protos/*.proto --python_out=.\n",
        "!cp object_detection/packages/tf2/setup.py .\n",
        "!python -m pip install ."
      ],
      "metadata": {
        "colab": {
          "base_uri": "https://localhost:8080/"
        },
        "id": "ZlSQ71VZt_vo",
        "outputId": "8899236e-1a53-447b-dab5-ece6fdec74e4"
      },
      "execution_count": 8,
      "outputs": [
        {
          "output_type": "stream",
          "name": "stdout",
          "text": [
            "Looking in indexes: https://pypi.org/simple, https://us-python.pkg.dev/colab-wheels/public/simple/\n",
            "Processing /content/models/research\n",
            "\u001b[33m  DEPRECATION: A future pip version will change local packages to be built in-place without first copying to a temporary directory. We recommend you use --use-feature=in-tree-build to test your packages with this new behavior before it becomes the default.\n",
            "   pip 21.3 will remove support for this functionality. You can find discussion regarding this at https://github.com/pypa/pip/issues/7555.\u001b[0m\n",
            "Collecting avro-python3\n",
            "  Downloading avro-python3-1.10.2.tar.gz (38 kB)\n",
            "Collecting apache-beam\n",
            "  Downloading apache_beam-2.39.0-cp37-cp37m-manylinux2010_x86_64.whl (10.3 MB)\n",
            "\u001b[K     |████████████████████████████████| 10.3 MB 18.5 MB/s \n",
            "\u001b[?25hRequirement already satisfied: pillow in /usr/local/lib/python3.7/dist-packages (from object-detection==0.1) (7.1.2)\n",
            "Requirement already satisfied: lxml in /usr/local/lib/python3.7/dist-packages (from object-detection==0.1) (4.2.6)\n",
            "Requirement already satisfied: matplotlib in /usr/local/lib/python3.7/dist-packages (from object-detection==0.1) (3.2.2)\n",
            "Requirement already satisfied: Cython in /usr/local/lib/python3.7/dist-packages (from object-detection==0.1) (0.29.30)\n",
            "Requirement already satisfied: contextlib2 in /usr/local/lib/python3.7/dist-packages (from object-detection==0.1) (0.5.5)\n",
            "Collecting tf-slim\n",
            "  Downloading tf_slim-1.1.0-py2.py3-none-any.whl (352 kB)\n",
            "\u001b[K     |████████████████████████████████| 352 kB 49.6 MB/s \n",
            "\u001b[?25hRequirement already satisfied: six in /usr/local/lib/python3.7/dist-packages (from object-detection==0.1) (1.15.0)\n",
            "Requirement already satisfied: pycocotools in /usr/local/lib/python3.7/dist-packages (from object-detection==0.1) (2.0.4)\n",
            "Collecting lvis\n",
            "  Downloading lvis-0.5.3-py3-none-any.whl (14 kB)\n",
            "Requirement already satisfied: scipy in /usr/local/lib/python3.7/dist-packages (from object-detection==0.1) (1.4.1)\n",
            "Requirement already satisfied: pandas in /usr/local/lib/python3.7/dist-packages (from object-detection==0.1) (1.3.5)\n",
            "Collecting tf-models-official>=2.5.1\n",
            "  Downloading tf_models_official-2.9.2-py2.py3-none-any.whl (2.1 MB)\n",
            "\u001b[K     |████████████████████████████████| 2.1 MB 42.6 MB/s \n",
            "\u001b[?25hCollecting tensorflow_io\n",
            "  Downloading tensorflow_io-0.26.0-cp37-cp37m-manylinux_2_12_x86_64.manylinux2010_x86_64.whl (25.9 MB)\n",
            "\u001b[K     |████████████████████████████████| 25.9 MB 1.2 MB/s \n",
            "\u001b[?25hRequirement already satisfied: keras in /usr/local/lib/python3.7/dist-packages (from object-detection==0.1) (2.8.0)\n",
            "Collecting pyparsing==2.4.7\n",
            "  Downloading pyparsing-2.4.7-py2.py3-none-any.whl (67 kB)\n",
            "\u001b[K     |████████████████████████████████| 67 kB 4.9 MB/s \n",
            "\u001b[?25hCollecting pyyaml<6.0,>=5.1\n",
            "  Downloading PyYAML-5.4.1-cp37-cp37m-manylinux1_x86_64.whl (636 kB)\n",
            "\u001b[K     |████████████████████████████████| 636 kB 56.1 MB/s \n",
            "\u001b[?25hCollecting seqeval\n",
            "  Downloading seqeval-1.2.2.tar.gz (43 kB)\n",
            "\u001b[K     |████████████████████████████████| 43 kB 1.6 MB/s \n",
            "\u001b[?25hCollecting tensorflow-model-optimization>=0.4.1\n",
            "  Downloading tensorflow_model_optimization-0.7.2-py2.py3-none-any.whl (237 kB)\n",
            "\u001b[K     |████████████████████████████████| 237 kB 49.1 MB/s \n",
            "\u001b[?25hRequirement already satisfied: oauth2client in /usr/local/lib/python3.7/dist-packages (from tf-models-official>=2.5.1->object-detection==0.1) (4.1.3)\n",
            "Collecting tensorflow-addons\n",
            "  Downloading tensorflow_addons-0.17.0-cp37-cp37m-manylinux_2_17_x86_64.manylinux2014_x86_64.whl (1.1 MB)\n",
            "\u001b[K     |████████████████████████████████| 1.1 MB 52.4 MB/s \n",
            "\u001b[?25hRequirement already satisfied: google-api-python-client>=1.6.7 in /usr/local/lib/python3.7/dist-packages (from tf-models-official>=2.5.1->object-detection==0.1) (1.12.11)\n",
            "Collecting py-cpuinfo>=3.3.0\n",
            "  Downloading py-cpuinfo-8.0.0.tar.gz (99 kB)\n",
            "\u001b[K     |████████████████████████████████| 99 kB 8.2 MB/s \n",
            "\u001b[?25hRequirement already satisfied: tensorflow-datasets in /usr/local/lib/python3.7/dist-packages (from tf-models-official>=2.5.1->object-detection==0.1) (4.0.1)\n",
            "Requirement already satisfied: tensorflow-hub>=0.6.0 in /usr/local/lib/python3.7/dist-packages (from tf-models-official>=2.5.1->object-detection==0.1) (0.12.0)\n",
            "Collecting sacrebleu\n",
            "  Downloading sacrebleu-2.1.0-py3-none-any.whl (92 kB)\n",
            "\u001b[K     |████████████████████████████████| 92 kB 9.6 MB/s \n",
            "\u001b[?25hCollecting sentencepiece\n",
            "  Downloading sentencepiece-0.1.96-cp37-cp37m-manylinux_2_17_x86_64.manylinux2014_x86_64.whl (1.2 MB)\n",
            "\u001b[K     |████████████████████████████████| 1.2 MB 47.7 MB/s \n",
            "\u001b[?25hRequirement already satisfied: kaggle>=1.3.9 in /usr/local/lib/python3.7/dist-packages (from tf-models-official>=2.5.1->object-detection==0.1) (1.5.12)\n",
            "Requirement already satisfied: numpy>=1.20 in /usr/local/lib/python3.7/dist-packages (from tf-models-official>=2.5.1->object-detection==0.1) (1.21.6)\n",
            "Collecting tensorflow~=2.9.0\n",
            "  Downloading tensorflow-2.9.1-cp37-cp37m-manylinux_2_17_x86_64.manylinux2014_x86_64.whl (511.7 MB)\n",
            "\u001b[K     |████████████████████████████████| 511.7 MB 5.4 kB/s \n",
            "\u001b[?25hCollecting tensorflow-text~=2.9.0\n",
            "  Downloading tensorflow_text-2.9.0-cp37-cp37m-manylinux_2_17_x86_64.manylinux2014_x86_64.whl (4.6 MB)\n",
            "\u001b[K     |████████████████████████████████| 4.6 MB 31.4 MB/s \n",
            "\u001b[?25hRequirement already satisfied: gin-config in /usr/local/lib/python3.7/dist-packages (from tf-models-official>=2.5.1->object-detection==0.1) (0.5.0)\n",
            "Requirement already satisfied: opencv-python-headless in /usr/local/lib/python3.7/dist-packages (from tf-models-official>=2.5.1->object-detection==0.1) (4.1.2.30)\n",
            "Requirement already satisfied: psutil>=5.4.3 in /usr/local/lib/python3.7/dist-packages (from tf-models-official>=2.5.1->object-detection==0.1) (5.4.8)\n",
            "Requirement already satisfied: uritemplate<4dev,>=3.0.0 in /usr/local/lib/python3.7/dist-packages (from google-api-python-client>=1.6.7->tf-models-official>=2.5.1->object-detection==0.1) (3.0.1)\n",
            "Requirement already satisfied: google-auth-httplib2>=0.0.3 in /usr/local/lib/python3.7/dist-packages (from google-api-python-client>=1.6.7->tf-models-official>=2.5.1->object-detection==0.1) (0.0.4)\n",
            "Requirement already satisfied: httplib2<1dev,>=0.15.0 in /usr/local/lib/python3.7/dist-packages (from google-api-python-client>=1.6.7->tf-models-official>=2.5.1->object-detection==0.1) (0.17.4)\n",
            "Requirement already satisfied: google-auth<3dev,>=1.16.0 in /usr/local/lib/python3.7/dist-packages (from google-api-python-client>=1.6.7->tf-models-official>=2.5.1->object-detection==0.1) (1.35.0)\n",
            "Requirement already satisfied: google-api-core<3dev,>=1.21.0 in /usr/local/lib/python3.7/dist-packages (from google-api-python-client>=1.6.7->tf-models-official>=2.5.1->object-detection==0.1) (1.31.5)\n",
            "Requirement already satisfied: setuptools>=40.3.0 in /usr/local/lib/python3.7/dist-packages (from google-api-core<3dev,>=1.21.0->google-api-python-client>=1.6.7->tf-models-official>=2.5.1->object-detection==0.1) (57.4.0)\n",
            "Requirement already satisfied: packaging>=14.3 in /usr/local/lib/python3.7/dist-packages (from google-api-core<3dev,>=1.21.0->google-api-python-client>=1.6.7->tf-models-official>=2.5.1->object-detection==0.1) (21.3)\n",
            "Requirement already satisfied: pytz in /usr/local/lib/python3.7/dist-packages (from google-api-core<3dev,>=1.21.0->google-api-python-client>=1.6.7->tf-models-official>=2.5.1->object-detection==0.1) (2022.1)\n",
            "Requirement already satisfied: requests<3.0.0dev,>=2.18.0 in /usr/local/lib/python3.7/dist-packages (from google-api-core<3dev,>=1.21.0->google-api-python-client>=1.6.7->tf-models-official>=2.5.1->object-detection==0.1) (2.23.0)\n",
            "Requirement already satisfied: googleapis-common-protos<2.0dev,>=1.6.0 in /usr/local/lib/python3.7/dist-packages (from google-api-core<3dev,>=1.21.0->google-api-python-client>=1.6.7->tf-models-official>=2.5.1->object-detection==0.1) (1.56.1)\n",
            "Requirement already satisfied: protobuf>=3.12.0 in /usr/local/lib/python3.7/dist-packages (from google-api-core<3dev,>=1.21.0->google-api-python-client>=1.6.7->tf-models-official>=2.5.1->object-detection==0.1) (3.17.3)\n",
            "Requirement already satisfied: pyasn1-modules>=0.2.1 in /usr/local/lib/python3.7/dist-packages (from google-auth<3dev,>=1.16.0->google-api-python-client>=1.6.7->tf-models-official>=2.5.1->object-detection==0.1) (0.2.8)\n",
            "Requirement already satisfied: cachetools<5.0,>=2.0.0 in /usr/local/lib/python3.7/dist-packages (from google-auth<3dev,>=1.16.0->google-api-python-client>=1.6.7->tf-models-official>=2.5.1->object-detection==0.1) (4.2.4)\n",
            "Requirement already satisfied: rsa<5,>=3.1.4 in /usr/local/lib/python3.7/dist-packages (from google-auth<3dev,>=1.16.0->google-api-python-client>=1.6.7->tf-models-official>=2.5.1->object-detection==0.1) (4.8)\n",
            "Requirement already satisfied: certifi in /usr/local/lib/python3.7/dist-packages (from kaggle>=1.3.9->tf-models-official>=2.5.1->object-detection==0.1) (2022.5.18.1)\n",
            "Requirement already satisfied: tqdm in /usr/local/lib/python3.7/dist-packages (from kaggle>=1.3.9->tf-models-official>=2.5.1->object-detection==0.1) (4.64.0)\n",
            "Requirement already satisfied: python-slugify in /usr/local/lib/python3.7/dist-packages (from kaggle>=1.3.9->tf-models-official>=2.5.1->object-detection==0.1) (6.1.2)\n",
            "Requirement already satisfied: python-dateutil in /usr/local/lib/python3.7/dist-packages (from kaggle>=1.3.9->tf-models-official>=2.5.1->object-detection==0.1) (2.8.2)\n",
            "Requirement already satisfied: urllib3 in /usr/local/lib/python3.7/dist-packages (from kaggle>=1.3.9->tf-models-official>=2.5.1->object-detection==0.1) (1.24.3)\n",
            "Requirement already satisfied: pyasn1<0.5.0,>=0.4.6 in /usr/local/lib/python3.7/dist-packages (from pyasn1-modules>=0.2.1->google-auth<3dev,>=1.16.0->google-api-python-client>=1.6.7->tf-models-official>=2.5.1->object-detection==0.1) (0.4.8)\n",
            "Requirement already satisfied: chardet<4,>=3.0.2 in /usr/local/lib/python3.7/dist-packages (from requests<3.0.0dev,>=2.18.0->google-api-core<3dev,>=1.21.0->google-api-python-client>=1.6.7->tf-models-official>=2.5.1->object-detection==0.1) (3.0.4)\n",
            "Requirement already satisfied: idna<3,>=2.5 in /usr/local/lib/python3.7/dist-packages (from requests<3.0.0dev,>=2.18.0->google-api-core<3dev,>=1.21.0->google-api-python-client>=1.6.7->tf-models-official>=2.5.1->object-detection==0.1) (2.10)\n",
            "Collecting keras\n",
            "  Downloading keras-2.9.0-py2.py3-none-any.whl (1.6 MB)\n",
            "\u001b[K     |████████████████████████████████| 1.6 MB 43.6 MB/s \n",
            "\u001b[?25hRequirement already satisfied: h5py>=2.9.0 in /usr/local/lib/python3.7/dist-packages (from tensorflow~=2.9.0->tf-models-official>=2.5.1->object-detection==0.1) (3.1.0)\n",
            "Requirement already satisfied: termcolor>=1.1.0 in /usr/local/lib/python3.7/dist-packages (from tensorflow~=2.9.0->tf-models-official>=2.5.1->object-detection==0.1) (1.1.0)\n",
            "Requirement already satisfied: astunparse>=1.6.0 in /usr/local/lib/python3.7/dist-packages (from tensorflow~=2.9.0->tf-models-official>=2.5.1->object-detection==0.1) (1.6.3)\n",
            "Collecting flatbuffers<2,>=1.12\n",
            "  Downloading flatbuffers-1.12-py2.py3-none-any.whl (15 kB)\n",
            "Requirement already satisfied: tensorflow-io-gcs-filesystem>=0.23.1 in /usr/local/lib/python3.7/dist-packages (from tensorflow~=2.9.0->tf-models-official>=2.5.1->object-detection==0.1) (0.26.0)\n",
            "Requirement already satisfied: grpcio<2.0,>=1.24.3 in /usr/local/lib/python3.7/dist-packages (from tensorflow~=2.9.0->tf-models-official>=2.5.1->object-detection==0.1) (1.46.1)\n",
            "Requirement already satisfied: google-pasta>=0.1.1 in /usr/local/lib/python3.7/dist-packages (from tensorflow~=2.9.0->tf-models-official>=2.5.1->object-detection==0.1) (0.2.0)\n",
            "Requirement already satisfied: typing-extensions>=3.6.6 in /usr/local/lib/python3.7/dist-packages (from tensorflow~=2.9.0->tf-models-official>=2.5.1->object-detection==0.1) (4.2.0)\n",
            "Collecting gast<=0.4.0,>=0.2.1\n",
            "  Downloading gast-0.4.0-py3-none-any.whl (9.8 kB)\n",
            "Collecting tensorflow-estimator<2.10.0,>=2.9.0rc0\n",
            "  Downloading tensorflow_estimator-2.9.0-py2.py3-none-any.whl (438 kB)\n",
            "\u001b[K     |████████████████████████████████| 438 kB 48.0 MB/s \n",
            "\u001b[?25hRequirement already satisfied: libclang>=13.0.0 in /usr/local/lib/python3.7/dist-packages (from tensorflow~=2.9.0->tf-models-official>=2.5.1->object-detection==0.1) (14.0.1)\n",
            "Collecting tensorboard<2.10,>=2.9\n",
            "  Downloading tensorboard-2.9.0-py3-none-any.whl (5.8 MB)\n",
            "\u001b[K     |████████████████████████████████| 5.8 MB 44.6 MB/s \n",
            "\u001b[?25hRequirement already satisfied: keras-preprocessing>=1.1.1 in /usr/local/lib/python3.7/dist-packages (from tensorflow~=2.9.0->tf-models-official>=2.5.1->object-detection==0.1) (1.1.2)\n",
            "Requirement already satisfied: absl-py>=1.0.0 in /usr/local/lib/python3.7/dist-packages (from tensorflow~=2.9.0->tf-models-official>=2.5.1->object-detection==0.1) (1.0.0)\n",
            "Requirement already satisfied: opt-einsum>=2.3.2 in /usr/local/lib/python3.7/dist-packages (from tensorflow~=2.9.0->tf-models-official>=2.5.1->object-detection==0.1) (3.3.0)\n",
            "Requirement already satisfied: wrapt>=1.11.0 in /usr/local/lib/python3.7/dist-packages (from tensorflow~=2.9.0->tf-models-official>=2.5.1->object-detection==0.1) (1.14.1)\n",
            "Requirement already satisfied: wheel<1.0,>=0.23.0 in /usr/local/lib/python3.7/dist-packages (from astunparse>=1.6.0->tensorflow~=2.9.0->tf-models-official>=2.5.1->object-detection==0.1) (0.37.1)\n",
            "Requirement already satisfied: cached-property in /usr/local/lib/python3.7/dist-packages (from h5py>=2.9.0->tensorflow~=2.9.0->tf-models-official>=2.5.1->object-detection==0.1) (1.5.2)\n",
            "Requirement already satisfied: markdown>=2.6.8 in /usr/local/lib/python3.7/dist-packages (from tensorboard<2.10,>=2.9->tensorflow~=2.9.0->tf-models-official>=2.5.1->object-detection==0.1) (3.3.7)\n",
            "Requirement already satisfied: google-auth-oauthlib<0.5,>=0.4.1 in /usr/local/lib/python3.7/dist-packages (from tensorboard<2.10,>=2.9->tensorflow~=2.9.0->tf-models-official>=2.5.1->object-detection==0.1) (0.4.6)\n",
            "Requirement already satisfied: tensorboard-plugin-wit>=1.6.0 in /usr/local/lib/python3.7/dist-packages (from tensorboard<2.10,>=2.9->tensorflow~=2.9.0->tf-models-official>=2.5.1->object-detection==0.1) (1.8.1)\n",
            "Requirement already satisfied: tensorboard-data-server<0.7.0,>=0.6.0 in /usr/local/lib/python3.7/dist-packages (from tensorboard<2.10,>=2.9->tensorflow~=2.9.0->tf-models-official>=2.5.1->object-detection==0.1) (0.6.1)\n",
            "Requirement already satisfied: werkzeug>=1.0.1 in /usr/local/lib/python3.7/dist-packages (from tensorboard<2.10,>=2.9->tensorflow~=2.9.0->tf-models-official>=2.5.1->object-detection==0.1) (1.0.1)\n",
            "Requirement already satisfied: requests-oauthlib>=0.7.0 in /usr/local/lib/python3.7/dist-packages (from google-auth-oauthlib<0.5,>=0.4.1->tensorboard<2.10,>=2.9->tensorflow~=2.9.0->tf-models-official>=2.5.1->object-detection==0.1) (1.3.1)\n",
            "Requirement already satisfied: importlib-metadata>=4.4 in /usr/local/lib/python3.7/dist-packages (from markdown>=2.6.8->tensorboard<2.10,>=2.9->tensorflow~=2.9.0->tf-models-official>=2.5.1->object-detection==0.1) (4.11.3)\n",
            "Requirement already satisfied: zipp>=0.5 in /usr/local/lib/python3.7/dist-packages (from importlib-metadata>=4.4->markdown>=2.6.8->tensorboard<2.10,>=2.9->tensorflow~=2.9.0->tf-models-official>=2.5.1->object-detection==0.1) (3.8.0)\n",
            "Requirement already satisfied: oauthlib>=3.0.0 in /usr/local/lib/python3.7/dist-packages (from requests-oauthlib>=0.7.0->google-auth-oauthlib<0.5,>=0.4.1->tensorboard<2.10,>=2.9->tensorflow~=2.9.0->tf-models-official>=2.5.1->object-detection==0.1) (3.2.0)\n",
            "Requirement already satisfied: dm-tree~=0.1.1 in /usr/local/lib/python3.7/dist-packages (from tensorflow-model-optimization>=0.4.1->tf-models-official>=2.5.1->object-detection==0.1) (0.1.7)\n",
            "Collecting fastavro<2,>=0.23.6\n",
            "  Downloading fastavro-1.4.12-cp37-cp37m-manylinux_2_17_x86_64.manylinux2014_x86_64.whl (2.3 MB)\n",
            "\u001b[K     |████████████████████████████████| 2.3 MB 32.1 MB/s \n",
            "\u001b[?25hCollecting orjson<4.0\n",
            "  Downloading orjson-3.6.8-cp37-cp37m-manylinux_2_24_x86_64.whl (253 kB)\n",
            "\u001b[K     |████████████████████████████████| 253 kB 45.9 MB/s \n",
            "\u001b[?25hCollecting pymongo<4.0.0,>=3.8.0\n",
            "  Downloading pymongo-3.12.3-cp37-cp37m-manylinux_2_17_x86_64.manylinux2014_x86_64.whl (508 kB)\n",
            "\u001b[K     |████████████████████████████████| 508 kB 41.5 MB/s \n",
            "\u001b[?25hCollecting hdfs<3.0.0,>=2.1.0\n",
            "  Downloading hdfs-2.7.0-py3-none-any.whl (34 kB)\n",
            "Collecting dill<0.3.2,>=0.3.1.1\n",
            "  Downloading dill-0.3.1.1.tar.gz (151 kB)\n",
            "\u001b[K     |████████████████████████████████| 151 kB 49.3 MB/s \n",
            "\u001b[?25hCollecting requests<3.0.0dev,>=2.18.0\n",
            "  Downloading requests-2.27.1-py2.py3-none-any.whl (63 kB)\n",
            "\u001b[K     |████████████████████████████████| 63 kB 1.3 MB/s \n",
            "\u001b[?25hCollecting proto-plus<2,>=1.7.1\n",
            "  Downloading proto_plus-1.20.5-py3-none-any.whl (46 kB)\n",
            "\u001b[K     |████████████████████████████████| 46 kB 3.5 MB/s \n",
            "\u001b[?25hRequirement already satisfied: pydot<2,>=1.2.0 in /usr/local/lib/python3.7/dist-packages (from apache-beam->object-detection==0.1) (1.3.0)\n",
            "Requirement already satisfied: pyarrow<8.0.0,>=0.15.1 in /usr/local/lib/python3.7/dist-packages (from apache-beam->object-detection==0.1) (6.0.1)\n",
            "Requirement already satisfied: crcmod<2.0,>=1.7 in /usr/local/lib/python3.7/dist-packages (from apache-beam->object-detection==0.1) (1.7)\n",
            "Collecting cloudpickle<3,>=2.0.0\n",
            "  Downloading cloudpickle-2.1.0-py3-none-any.whl (25 kB)\n",
            "Requirement already satisfied: docopt in /usr/local/lib/python3.7/dist-packages (from hdfs<3.0.0,>=2.1.0->apache-beam->object-detection==0.1) (0.6.2)\n",
            "Collecting protobuf>=3.12.0\n",
            "  Downloading protobuf-3.19.4-cp37-cp37m-manylinux_2_17_x86_64.manylinux2014_x86_64.whl (1.1 MB)\n",
            "\u001b[K     |████████████████████████████████| 1.1 MB 45.8 MB/s \n",
            "\u001b[?25hRequirement already satisfied: charset-normalizer~=2.0.0 in /usr/local/lib/python3.7/dist-packages (from requests<3.0.0dev,>=2.18.0->google-api-core<3dev,>=1.21.0->google-api-python-client>=1.6.7->tf-models-official>=2.5.1->object-detection==0.1) (2.0.12)\n",
            "Requirement already satisfied: kiwisolver>=1.1.0 in /usr/local/lib/python3.7/dist-packages (from lvis->object-detection==0.1) (1.4.2)\n",
            "Requirement already satisfied: opencv-python>=4.1.0.25 in /usr/local/lib/python3.7/dist-packages (from lvis->object-detection==0.1) (4.1.2.30)\n",
            "Requirement already satisfied: cycler>=0.10.0 in /usr/local/lib/python3.7/dist-packages (from lvis->object-detection==0.1) (0.11.0)\n",
            "Requirement already satisfied: text-unidecode>=1.3 in /usr/local/lib/python3.7/dist-packages (from python-slugify->kaggle>=1.3.9->tf-models-official>=2.5.1->object-detection==0.1) (1.3)\n",
            "Requirement already satisfied: regex in /usr/local/lib/python3.7/dist-packages (from sacrebleu->tf-models-official>=2.5.1->object-detection==0.1) (2019.12.20)\n",
            "Requirement already satisfied: tabulate>=0.8.9 in /usr/local/lib/python3.7/dist-packages (from sacrebleu->tf-models-official>=2.5.1->object-detection==0.1) (0.8.9)\n",
            "Collecting colorama\n",
            "  Downloading colorama-0.4.4-py2.py3-none-any.whl (16 kB)\n",
            "Collecting portalocker\n",
            "  Downloading portalocker-2.4.0-py2.py3-none-any.whl (16 kB)\n",
            "Requirement already satisfied: scikit-learn>=0.21.3 in /usr/local/lib/python3.7/dist-packages (from seqeval->tf-models-official>=2.5.1->object-detection==0.1) (1.0.2)\n",
            "Requirement already satisfied: joblib>=0.11 in /usr/local/lib/python3.7/dist-packages (from scikit-learn>=0.21.3->seqeval->tf-models-official>=2.5.1->object-detection==0.1) (1.1.0)\n",
            "Requirement already satisfied: threadpoolctl>=2.0.0 in /usr/local/lib/python3.7/dist-packages (from scikit-learn>=0.21.3->seqeval->tf-models-official>=2.5.1->object-detection==0.1) (3.1.0)\n",
            "Requirement already satisfied: typeguard>=2.7 in /usr/local/lib/python3.7/dist-packages (from tensorflow-addons->tf-models-official>=2.5.1->object-detection==0.1) (2.7.1)\n",
            "Requirement already satisfied: promise in /usr/local/lib/python3.7/dist-packages (from tensorflow-datasets->tf-models-official>=2.5.1->object-detection==0.1) (2.3)\n",
            "Requirement already satisfied: importlib-resources in /usr/local/lib/python3.7/dist-packages (from tensorflow-datasets->tf-models-official>=2.5.1->object-detection==0.1) (5.7.1)\n",
            "Requirement already satisfied: attrs>=18.1.0 in /usr/local/lib/python3.7/dist-packages (from tensorflow-datasets->tf-models-official>=2.5.1->object-detection==0.1) (21.4.0)\n",
            "Requirement already satisfied: future in /usr/local/lib/python3.7/dist-packages (from tensorflow-datasets->tf-models-official>=2.5.1->object-detection==0.1) (0.16.0)\n",
            "Requirement already satisfied: tensorflow-metadata in /usr/local/lib/python3.7/dist-packages (from tensorflow-datasets->tf-models-official>=2.5.1->object-detection==0.1) (1.8.0)\n",
            "Building wheels for collected packages: object-detection, py-cpuinfo, dill, avro-python3, seqeval\n",
            "  Building wheel for object-detection (setup.py) ... \u001b[?25l\u001b[?25hdone\n",
            "  Created wheel for object-detection: filename=object_detection-0.1-py3-none-any.whl size=1692505 sha256=d5c10198fc8dad6b2db8fa8ba6f6501e703ef4e7a78926d3c917f4f33cc06d9c\n",
            "  Stored in directory: /tmp/pip-ephem-wheel-cache-v_zd1daz/wheels/fa/a4/d2/e9a5057e414fd46c8e543d2706cd836d64e1fcd9eccceb2329\n",
            "  Building wheel for py-cpuinfo (setup.py) ... \u001b[?25l\u001b[?25hdone\n",
            "  Created wheel for py-cpuinfo: filename=py_cpuinfo-8.0.0-py3-none-any.whl size=22257 sha256=02c6a051d839bb9b694ba212eaaac2956e724eb01b4ec398e328c87c0a166400\n",
            "  Stored in directory: /root/.cache/pip/wheels/d2/f1/1f/041add21dc9c4220157f1bd2bd6afe1f1a49524c3396b94401\n",
            "  Building wheel for dill (setup.py) ... \u001b[?25l\u001b[?25hdone\n",
            "  Created wheel for dill: filename=dill-0.3.1.1-py3-none-any.whl size=78544 sha256=2d68f244f33fd3a999b3bf97d0ddfb6678a9a799c7b18be33c9516e8ed325bef\n",
            "  Stored in directory: /root/.cache/pip/wheels/a4/61/fd/c57e374e580aa78a45ed78d5859b3a44436af17e22ca53284f\n",
            "  Building wheel for avro-python3 (setup.py) ... \u001b[?25l\u001b[?25hdone\n",
            "  Created wheel for avro-python3: filename=avro_python3-1.10.2-py3-none-any.whl size=44010 sha256=6d93c292031815d197d6a9ca5bb782131e7b83ee02247e030e0fbf47e4ef40fa\n",
            "  Stored in directory: /root/.cache/pip/wheels/d6/e5/b1/6b151d9b535ee50aaa6ab27d145a0104b6df02e5636f0376da\n",
            "  Building wheel for seqeval (setup.py) ... \u001b[?25l\u001b[?25hdone\n",
            "  Created wheel for seqeval: filename=seqeval-1.2.2-py3-none-any.whl size=16180 sha256=1c8a0ae2c9082f454ca5d246b11a991dc182037b7599fea92d402d4e0bde9dd2\n",
            "  Stored in directory: /root/.cache/pip/wheels/05/96/ee/7cac4e74f3b19e3158dce26a20a1c86b3533c43ec72a549fd7\n",
            "Successfully built object-detection py-cpuinfo dill avro-python3 seqeval\n",
            "Installing collected packages: requests, pyparsing, protobuf, tensorflow-estimator, tensorboard, keras, gast, flatbuffers, tensorflow, portalocker, dill, colorama, tf-slim, tensorflow-text, tensorflow-model-optimization, tensorflow-addons, seqeval, sentencepiece, sacrebleu, pyyaml, pymongo, py-cpuinfo, proto-plus, orjson, hdfs, fastavro, cloudpickle, tf-models-official, tensorflow-io, lvis, avro-python3, apache-beam, object-detection\n",
            "  Attempting uninstall: requests\n",
            "    Found existing installation: requests 2.23.0\n",
            "    Uninstalling requests-2.23.0:\n",
            "      Successfully uninstalled requests-2.23.0\n",
            "  Attempting uninstall: pyparsing\n",
            "    Found existing installation: pyparsing 3.0.9\n",
            "    Uninstalling pyparsing-3.0.9:\n",
            "      Successfully uninstalled pyparsing-3.0.9\n",
            "  Attempting uninstall: protobuf\n",
            "    Found existing installation: protobuf 3.17.3\n",
            "    Uninstalling protobuf-3.17.3:\n",
            "      Successfully uninstalled protobuf-3.17.3\n",
            "  Attempting uninstall: tensorflow-estimator\n",
            "    Found existing installation: tensorflow-estimator 2.8.0\n",
            "    Uninstalling tensorflow-estimator-2.8.0:\n",
            "      Successfully uninstalled tensorflow-estimator-2.8.0\n",
            "  Attempting uninstall: tensorboard\n",
            "    Found existing installation: tensorboard 2.8.0\n",
            "    Uninstalling tensorboard-2.8.0:\n",
            "      Successfully uninstalled tensorboard-2.8.0\n",
            "  Attempting uninstall: keras\n",
            "    Found existing installation: keras 2.8.0\n",
            "    Uninstalling keras-2.8.0:\n",
            "      Successfully uninstalled keras-2.8.0\n",
            "  Attempting uninstall: gast\n",
            "    Found existing installation: gast 0.5.3\n",
            "    Uninstalling gast-0.5.3:\n",
            "      Successfully uninstalled gast-0.5.3\n",
            "  Attempting uninstall: flatbuffers\n",
            "    Found existing installation: flatbuffers 2.0\n",
            "    Uninstalling flatbuffers-2.0:\n",
            "      Successfully uninstalled flatbuffers-2.0\n",
            "  Attempting uninstall: tensorflow\n",
            "    Found existing installation: tensorflow 2.8.0+zzzcolab20220506162203\n",
            "    Uninstalling tensorflow-2.8.0+zzzcolab20220506162203:\n",
            "      Successfully uninstalled tensorflow-2.8.0+zzzcolab20220506162203\n",
            "  Attempting uninstall: dill\n",
            "    Found existing installation: dill 0.3.5.1\n",
            "    Uninstalling dill-0.3.5.1:\n",
            "      Successfully uninstalled dill-0.3.5.1\n",
            "  Attempting uninstall: pyyaml\n",
            "    Found existing installation: PyYAML 3.13\n",
            "    Uninstalling PyYAML-3.13:\n",
            "      Successfully uninstalled PyYAML-3.13\n",
            "  Attempting uninstall: pymongo\n",
            "    Found existing installation: pymongo 4.1.1\n",
            "    Uninstalling pymongo-4.1.1:\n",
            "      Successfully uninstalled pymongo-4.1.1\n",
            "  Attempting uninstall: cloudpickle\n",
            "    Found existing installation: cloudpickle 1.3.0\n",
            "    Uninstalling cloudpickle-1.3.0:\n",
            "      Successfully uninstalled cloudpickle-1.3.0\n",
            "\u001b[31mERROR: pip's dependency resolver does not currently take into account all the packages that are installed. This behaviour is the source of the following dependency conflicts.\n",
            "multiprocess 0.70.12.2 requires dill>=0.3.4, but you have dill 0.3.1.1 which is incompatible.\n",
            "gym 0.17.3 requires cloudpickle<1.7.0,>=1.2.0, but you have cloudpickle 2.1.0 which is incompatible.\n",
            "google-colab 1.0.0 requires requests~=2.23.0, but you have requests 2.27.1 which is incompatible.\n",
            "datascience 0.10.6 requires folium==0.2.1, but you have folium 0.8.3 which is incompatible.\n",
            "albumentations 0.1.12 requires imgaug<0.2.7,>=0.2.5, but you have imgaug 0.2.9 which is incompatible.\u001b[0m\n",
            "Successfully installed apache-beam-2.39.0 avro-python3-1.10.2 cloudpickle-2.1.0 colorama-0.4.4 dill-0.3.1.1 fastavro-1.4.12 flatbuffers-1.12 gast-0.4.0 hdfs-2.7.0 keras-2.9.0 lvis-0.5.3 object-detection-0.1 orjson-3.6.8 portalocker-2.4.0 proto-plus-1.20.5 protobuf-3.19.4 py-cpuinfo-8.0.0 pymongo-3.12.3 pyparsing-2.4.7 pyyaml-5.4.1 requests-2.27.1 sacrebleu-2.1.0 sentencepiece-0.1.96 seqeval-1.2.2 tensorboard-2.9.0 tensorflow-2.9.1 tensorflow-addons-0.17.0 tensorflow-estimator-2.9.0 tensorflow-io-0.26.0 tensorflow-model-optimization-0.7.2 tensorflow-text-2.9.0 tf-models-official-2.9.2 tf-slim-1.1.0\n"
          ]
        }
      ]
    },
    {
      "cell_type": "code",
      "source": [
        "!wget https://raw.githubusercontent.com/TannerGilbert/Tensorflow-Object-Detection-API-Train-Model/master/generate_tfrecord.py"
      ],
      "metadata": {
        "colab": {
          "base_uri": "https://localhost:8080/"
        },
        "id": "vfk6hHGALPqN",
        "outputId": "e9e23b46-f8ea-4899-8ffd-9322c462f896"
      },
      "execution_count": 9,
      "outputs": [
        {
          "output_type": "stream",
          "name": "stdout",
          "text": [
            "--2022-05-29 10:31:28--  https://raw.githubusercontent.com/TannerGilbert/Tensorflow-Object-Detection-API-Train-Model/master/generate_tfrecord.py\n",
            "Resolving raw.githubusercontent.com (raw.githubusercontent.com)... 185.199.108.133, 185.199.109.133, 185.199.110.133, ...\n",
            "Connecting to raw.githubusercontent.com (raw.githubusercontent.com)|185.199.108.133|:443... connected.\n",
            "HTTP request sent, awaiting response... 200 OK\n",
            "Length: 3470 (3.4K) [text/plain]\n",
            "Saving to: ‘generate_tfrecord.py’\n",
            "\n",
            "\rgenerate_tfrecord.p   0%[                    ]       0  --.-KB/s               \rgenerate_tfrecord.p 100%[===================>]   3.39K  --.-KB/s    in 0s      \n",
            "\n",
            "2022-05-29 10:31:29 (58.1 MB/s) - ‘generate_tfrecord.py’ saved [3470/3470]\n",
            "\n"
          ]
        }
      ]
    },
    {
      "cell_type": "code",
      "source": [
        "!python ./object_detection/builders/model_builder_tf2_test.py"
      ],
      "metadata": {
        "colab": {
          "base_uri": "https://localhost:8080/"
        },
        "id": "DcZ6qoliufJp",
        "outputId": "6b617f14-b1d1-41bd-b89f-7dcb9e5a5c2c"
      },
      "execution_count": 10,
      "outputs": [
        {
          "output_type": "stream",
          "name": "stdout",
          "text": [
            "2022-05-29 10:31:35.840038: E tensorflow/stream_executor/cuda/cuda_driver.cc:271] failed call to cuInit: CUDA_ERROR_NO_DEVICE: no CUDA-capable device is detected\n",
            "Running tests under Python 3.7.13: /usr/bin/python3\n",
            "[ RUN      ] ModelBuilderTF2Test.test_create_center_net_deepmac\n",
            "W0529 10:31:36.563207 140669845927808 model_builder.py:1102] Building experimental DeepMAC meta-arch. Some features may be omitted.\n",
            "INFO:tensorflow:time(__main__.ModelBuilderTF2Test.test_create_center_net_deepmac): 1.6s\n",
            "I0529 10:31:37.451761 140669845927808 test_util.py:2459] time(__main__.ModelBuilderTF2Test.test_create_center_net_deepmac): 1.6s\n",
            "[       OK ] ModelBuilderTF2Test.test_create_center_net_deepmac\n",
            "[ RUN      ] ModelBuilderTF2Test.test_create_center_net_model0 (customize_head_params=True)\n",
            "INFO:tensorflow:time(__main__.ModelBuilderTF2Test.test_create_center_net_model0 (customize_head_params=True)): 1.45s\n",
            "I0529 10:31:38.900854 140669845927808 test_util.py:2459] time(__main__.ModelBuilderTF2Test.test_create_center_net_model0 (customize_head_params=True)): 1.45s\n",
            "[       OK ] ModelBuilderTF2Test.test_create_center_net_model0 (customize_head_params=True)\n",
            "[ RUN      ] ModelBuilderTF2Test.test_create_center_net_model1 (customize_head_params=False)\n",
            "INFO:tensorflow:time(__main__.ModelBuilderTF2Test.test_create_center_net_model1 (customize_head_params=False)): 0.75s\n",
            "I0529 10:31:39.654876 140669845927808 test_util.py:2459] time(__main__.ModelBuilderTF2Test.test_create_center_net_model1 (customize_head_params=False)): 0.75s\n",
            "[       OK ] ModelBuilderTF2Test.test_create_center_net_model1 (customize_head_params=False)\n",
            "[ RUN      ] ModelBuilderTF2Test.test_create_center_net_model_from_keypoints\n",
            "INFO:tensorflow:time(__main__.ModelBuilderTF2Test.test_create_center_net_model_from_keypoints): 0.64s\n",
            "I0529 10:31:40.304674 140669845927808 test_util.py:2459] time(__main__.ModelBuilderTF2Test.test_create_center_net_model_from_keypoints): 0.64s\n",
            "[       OK ] ModelBuilderTF2Test.test_create_center_net_model_from_keypoints\n",
            "[ RUN      ] ModelBuilderTF2Test.test_create_center_net_model_mobilenet\n",
            "INFO:tensorflow:time(__main__.ModelBuilderTF2Test.test_create_center_net_model_mobilenet): 5.33s\n",
            "I0529 10:31:45.639077 140669845927808 test_util.py:2459] time(__main__.ModelBuilderTF2Test.test_create_center_net_model_mobilenet): 5.33s\n",
            "[       OK ] ModelBuilderTF2Test.test_create_center_net_model_mobilenet\n",
            "[ RUN      ] ModelBuilderTF2Test.test_create_experimental_model\n",
            "INFO:tensorflow:time(__main__.ModelBuilderTF2Test.test_create_experimental_model): 0.0s\n",
            "I0529 10:31:45.640334 140669845927808 test_util.py:2459] time(__main__.ModelBuilderTF2Test.test_create_experimental_model): 0.0s\n",
            "[       OK ] ModelBuilderTF2Test.test_create_experimental_model\n",
            "[ RUN      ] ModelBuilderTF2Test.test_create_faster_rcnn_from_config_with_crop_feature0 (True)\n",
            "INFO:tensorflow:time(__main__.ModelBuilderTF2Test.test_create_faster_rcnn_from_config_with_crop_feature0 (True)): 0.04s\n",
            "I0529 10:31:45.678404 140669845927808 test_util.py:2459] time(__main__.ModelBuilderTF2Test.test_create_faster_rcnn_from_config_with_crop_feature0 (True)): 0.04s\n",
            "[       OK ] ModelBuilderTF2Test.test_create_faster_rcnn_from_config_with_crop_feature0 (True)\n",
            "[ RUN      ] ModelBuilderTF2Test.test_create_faster_rcnn_from_config_with_crop_feature1 (False)\n",
            "INFO:tensorflow:time(__main__.ModelBuilderTF2Test.test_create_faster_rcnn_from_config_with_crop_feature1 (False)): 0.02s\n",
            "I0529 10:31:45.701156 140669845927808 test_util.py:2459] time(__main__.ModelBuilderTF2Test.test_create_faster_rcnn_from_config_with_crop_feature1 (False)): 0.02s\n",
            "[       OK ] ModelBuilderTF2Test.test_create_faster_rcnn_from_config_with_crop_feature1 (False)\n",
            "[ RUN      ] ModelBuilderTF2Test.test_create_faster_rcnn_model_from_config_with_example_miner\n",
            "INFO:tensorflow:time(__main__.ModelBuilderTF2Test.test_create_faster_rcnn_model_from_config_with_example_miner): 0.02s\n",
            "I0529 10:31:45.722717 140669845927808 test_util.py:2459] time(__main__.ModelBuilderTF2Test.test_create_faster_rcnn_model_from_config_with_example_miner): 0.02s\n",
            "[       OK ] ModelBuilderTF2Test.test_create_faster_rcnn_model_from_config_with_example_miner\n",
            "[ RUN      ] ModelBuilderTF2Test.test_create_faster_rcnn_models_from_config_faster_rcnn_with_matmul\n",
            "INFO:tensorflow:time(__main__.ModelBuilderTF2Test.test_create_faster_rcnn_models_from_config_faster_rcnn_with_matmul): 0.16s\n",
            "I0529 10:31:45.879529 140669845927808 test_util.py:2459] time(__main__.ModelBuilderTF2Test.test_create_faster_rcnn_models_from_config_faster_rcnn_with_matmul): 0.16s\n",
            "[       OK ] ModelBuilderTF2Test.test_create_faster_rcnn_models_from_config_faster_rcnn_with_matmul\n",
            "[ RUN      ] ModelBuilderTF2Test.test_create_faster_rcnn_models_from_config_faster_rcnn_without_matmul\n",
            "INFO:tensorflow:time(__main__.ModelBuilderTF2Test.test_create_faster_rcnn_models_from_config_faster_rcnn_without_matmul): 0.15s\n",
            "I0529 10:31:46.026606 140669845927808 test_util.py:2459] time(__main__.ModelBuilderTF2Test.test_create_faster_rcnn_models_from_config_faster_rcnn_without_matmul): 0.15s\n",
            "[       OK ] ModelBuilderTF2Test.test_create_faster_rcnn_models_from_config_faster_rcnn_without_matmul\n",
            "[ RUN      ] ModelBuilderTF2Test.test_create_faster_rcnn_models_from_config_mask_rcnn_with_matmul\n",
            "INFO:tensorflow:time(__main__.ModelBuilderTF2Test.test_create_faster_rcnn_models_from_config_mask_rcnn_with_matmul): 0.15s\n",
            "I0529 10:31:46.173754 140669845927808 test_util.py:2459] time(__main__.ModelBuilderTF2Test.test_create_faster_rcnn_models_from_config_mask_rcnn_with_matmul): 0.15s\n",
            "[       OK ] ModelBuilderTF2Test.test_create_faster_rcnn_models_from_config_mask_rcnn_with_matmul\n",
            "[ RUN      ] ModelBuilderTF2Test.test_create_faster_rcnn_models_from_config_mask_rcnn_without_matmul\n",
            "INFO:tensorflow:time(__main__.ModelBuilderTF2Test.test_create_faster_rcnn_models_from_config_mask_rcnn_without_matmul): 0.15s\n",
            "I0529 10:31:46.328876 140669845927808 test_util.py:2459] time(__main__.ModelBuilderTF2Test.test_create_faster_rcnn_models_from_config_mask_rcnn_without_matmul): 0.15s\n",
            "[       OK ] ModelBuilderTF2Test.test_create_faster_rcnn_models_from_config_mask_rcnn_without_matmul\n",
            "[ RUN      ] ModelBuilderTF2Test.test_create_rfcn_model_from_config\n",
            "INFO:tensorflow:time(__main__.ModelBuilderTF2Test.test_create_rfcn_model_from_config): 0.15s\n",
            "I0529 10:31:46.479202 140669845927808 test_util.py:2459] time(__main__.ModelBuilderTF2Test.test_create_rfcn_model_from_config): 0.15s\n",
            "[       OK ] ModelBuilderTF2Test.test_create_rfcn_model_from_config\n",
            "[ RUN      ] ModelBuilderTF2Test.test_create_ssd_fpn_model_from_config\n",
            "INFO:tensorflow:time(__main__.ModelBuilderTF2Test.test_create_ssd_fpn_model_from_config): 0.05s\n",
            "I0529 10:31:46.525121 140669845927808 test_util.py:2459] time(__main__.ModelBuilderTF2Test.test_create_ssd_fpn_model_from_config): 0.05s\n",
            "[       OK ] ModelBuilderTF2Test.test_create_ssd_fpn_model_from_config\n",
            "[ RUN      ] ModelBuilderTF2Test.test_create_ssd_models_from_config\n",
            "I0529 10:31:46.779985 140669845927808 ssd_efficientnet_bifpn_feature_extractor.py:146] EfficientDet EfficientNet backbone version: efficientnet-b0\n",
            "I0529 10:31:46.780263 140669845927808 ssd_efficientnet_bifpn_feature_extractor.py:147] EfficientDet BiFPN num filters: 64\n",
            "I0529 10:31:46.780402 140669845927808 ssd_efficientnet_bifpn_feature_extractor.py:149] EfficientDet BiFPN num iterations: 3\n",
            "I0529 10:31:46.785195 140669845927808 efficientnet_model.py:143] round_filter input=32 output=32\n",
            "I0529 10:31:46.819551 140669845927808 efficientnet_model.py:143] round_filter input=32 output=32\n",
            "I0529 10:31:46.819763 140669845927808 efficientnet_model.py:143] round_filter input=16 output=16\n",
            "I0529 10:31:46.925335 140669845927808 efficientnet_model.py:143] round_filter input=16 output=16\n",
            "I0529 10:31:46.925549 140669845927808 efficientnet_model.py:143] round_filter input=24 output=24\n",
            "I0529 10:31:47.176337 140669845927808 efficientnet_model.py:143] round_filter input=24 output=24\n",
            "I0529 10:31:47.176564 140669845927808 efficientnet_model.py:143] round_filter input=40 output=40\n",
            "I0529 10:31:47.424689 140669845927808 efficientnet_model.py:143] round_filter input=40 output=40\n",
            "I0529 10:31:47.424903 140669845927808 efficientnet_model.py:143] round_filter input=80 output=80\n",
            "I0529 10:31:47.786637 140669845927808 efficientnet_model.py:143] round_filter input=80 output=80\n",
            "I0529 10:31:47.786849 140669845927808 efficientnet_model.py:143] round_filter input=112 output=112\n",
            "I0529 10:31:48.186435 140669845927808 efficientnet_model.py:143] round_filter input=112 output=112\n",
            "I0529 10:31:48.186646 140669845927808 efficientnet_model.py:143] round_filter input=192 output=192\n",
            "I0529 10:31:48.763206 140669845927808 efficientnet_model.py:143] round_filter input=192 output=192\n",
            "I0529 10:31:48.763440 140669845927808 efficientnet_model.py:143] round_filter input=320 output=320\n",
            "I0529 10:31:48.911634 140669845927808 efficientnet_model.py:143] round_filter input=1280 output=1280\n",
            "I0529 10:31:48.995588 140669845927808 efficientnet_model.py:453] Building model efficientnet with params ModelConfig(width_coefficient=1.0, depth_coefficient=1.0, resolution=224, dropout_rate=0.2, blocks=(BlockConfig(input_filters=32, output_filters=16, kernel_size=3, num_repeat=1, expand_ratio=1, strides=(1, 1), se_ratio=0.25, id_skip=True, fused_conv=False, conv_type='depthwise'), BlockConfig(input_filters=16, output_filters=24, kernel_size=3, num_repeat=2, expand_ratio=6, strides=(2, 2), se_ratio=0.25, id_skip=True, fused_conv=False, conv_type='depthwise'), BlockConfig(input_filters=24, output_filters=40, kernel_size=5, num_repeat=2, expand_ratio=6, strides=(2, 2), se_ratio=0.25, id_skip=True, fused_conv=False, conv_type='depthwise'), BlockConfig(input_filters=40, output_filters=80, kernel_size=3, num_repeat=3, expand_ratio=6, strides=(2, 2), se_ratio=0.25, id_skip=True, fused_conv=False, conv_type='depthwise'), BlockConfig(input_filters=80, output_filters=112, kernel_size=5, num_repeat=3, expand_ratio=6, strides=(1, 1), se_ratio=0.25, id_skip=True, fused_conv=False, conv_type='depthwise'), BlockConfig(input_filters=112, output_filters=192, kernel_size=5, num_repeat=4, expand_ratio=6, strides=(2, 2), se_ratio=0.25, id_skip=True, fused_conv=False, conv_type='depthwise'), BlockConfig(input_filters=192, output_filters=320, kernel_size=3, num_repeat=1, expand_ratio=6, strides=(1, 1), se_ratio=0.25, id_skip=True, fused_conv=False, conv_type='depthwise')), stem_base_filters=32, top_base_filters=1280, activation='simple_swish', batch_norm='default', bn_momentum=0.99, bn_epsilon=0.001, weight_decay=5e-06, drop_connect_rate=0.2, depth_divisor=8, min_depth=None, use_se=True, input_channels=3, num_classes=1000, model_name='efficientnet', rescale_input=False, data_format='channels_last', dtype='float32')\n",
            "I0529 10:31:49.283773 140669845927808 ssd_efficientnet_bifpn_feature_extractor.py:146] EfficientDet EfficientNet backbone version: efficientnet-b1\n",
            "I0529 10:31:49.284011 140669845927808 ssd_efficientnet_bifpn_feature_extractor.py:147] EfficientDet BiFPN num filters: 88\n",
            "I0529 10:31:49.284094 140669845927808 ssd_efficientnet_bifpn_feature_extractor.py:149] EfficientDet BiFPN num iterations: 4\n",
            "I0529 10:31:49.286247 140669845927808 efficientnet_model.py:143] round_filter input=32 output=32\n",
            "I0529 10:31:49.315562 140669845927808 efficientnet_model.py:143] round_filter input=32 output=32\n",
            "I0529 10:31:49.315776 140669845927808 efficientnet_model.py:143] round_filter input=16 output=16\n",
            "I0529 10:31:49.499511 140669845927808 efficientnet_model.py:143] round_filter input=16 output=16\n",
            "I0529 10:31:49.499707 140669845927808 efficientnet_model.py:143] round_filter input=24 output=24\n",
            "I0529 10:31:49.853726 140669845927808 efficientnet_model.py:143] round_filter input=24 output=24\n",
            "I0529 10:31:49.853948 140669845927808 efficientnet_model.py:143] round_filter input=40 output=40\n",
            "I0529 10:31:50.234358 140669845927808 efficientnet_model.py:143] round_filter input=40 output=40\n",
            "I0529 10:31:50.234571 140669845927808 efficientnet_model.py:143] round_filter input=80 output=80\n",
            "I0529 10:31:50.746527 140669845927808 efficientnet_model.py:143] round_filter input=80 output=80\n",
            "I0529 10:31:50.746759 140669845927808 efficientnet_model.py:143] round_filter input=112 output=112\n",
            "I0529 10:31:51.244325 140669845927808 efficientnet_model.py:143] round_filter input=112 output=112\n",
            "I0529 10:31:51.244554 140669845927808 efficientnet_model.py:143] round_filter input=192 output=192\n",
            "I0529 10:31:51.866609 140669845927808 efficientnet_model.py:143] round_filter input=192 output=192\n",
            "I0529 10:31:51.866822 140669845927808 efficientnet_model.py:143] round_filter input=320 output=320\n",
            "I0529 10:31:52.166519 140669845927808 efficientnet_model.py:143] round_filter input=1280 output=1280\n",
            "I0529 10:31:52.234193 140669845927808 efficientnet_model.py:453] Building model efficientnet with params ModelConfig(width_coefficient=1.0, depth_coefficient=1.1, resolution=240, dropout_rate=0.2, blocks=(BlockConfig(input_filters=32, output_filters=16, kernel_size=3, num_repeat=1, expand_ratio=1, strides=(1, 1), se_ratio=0.25, id_skip=True, fused_conv=False, conv_type='depthwise'), BlockConfig(input_filters=16, output_filters=24, kernel_size=3, num_repeat=2, expand_ratio=6, strides=(2, 2), se_ratio=0.25, id_skip=True, fused_conv=False, conv_type='depthwise'), BlockConfig(input_filters=24, output_filters=40, kernel_size=5, num_repeat=2, expand_ratio=6, strides=(2, 2), se_ratio=0.25, id_skip=True, fused_conv=False, conv_type='depthwise'), BlockConfig(input_filters=40, output_filters=80, kernel_size=3, num_repeat=3, expand_ratio=6, strides=(2, 2), se_ratio=0.25, id_skip=True, fused_conv=False, conv_type='depthwise'), BlockConfig(input_filters=80, output_filters=112, kernel_size=5, num_repeat=3, expand_ratio=6, strides=(1, 1), se_ratio=0.25, id_skip=True, fused_conv=False, conv_type='depthwise'), BlockConfig(input_filters=112, output_filters=192, kernel_size=5, num_repeat=4, expand_ratio=6, strides=(2, 2), se_ratio=0.25, id_skip=True, fused_conv=False, conv_type='depthwise'), BlockConfig(input_filters=192, output_filters=320, kernel_size=3, num_repeat=1, expand_ratio=6, strides=(1, 1), se_ratio=0.25, id_skip=True, fused_conv=False, conv_type='depthwise')), stem_base_filters=32, top_base_filters=1280, activation='simple_swish', batch_norm='default', bn_momentum=0.99, bn_epsilon=0.001, weight_decay=5e-06, drop_connect_rate=0.2, depth_divisor=8, min_depth=None, use_se=True, input_channels=3, num_classes=1000, model_name='efficientnet', rescale_input=False, data_format='channels_last', dtype='float32')\n",
            "I0529 10:31:52.312814 140669845927808 ssd_efficientnet_bifpn_feature_extractor.py:146] EfficientDet EfficientNet backbone version: efficientnet-b2\n",
            "I0529 10:31:52.313097 140669845927808 ssd_efficientnet_bifpn_feature_extractor.py:147] EfficientDet BiFPN num filters: 112\n",
            "I0529 10:31:52.313211 140669845927808 ssd_efficientnet_bifpn_feature_extractor.py:149] EfficientDet BiFPN num iterations: 5\n",
            "I0529 10:31:52.315385 140669845927808 efficientnet_model.py:143] round_filter input=32 output=32\n",
            "I0529 10:31:52.337177 140669845927808 efficientnet_model.py:143] round_filter input=32 output=32\n",
            "I0529 10:31:52.337377 140669845927808 efficientnet_model.py:143] round_filter input=16 output=16\n",
            "I0529 10:31:52.518742 140669845927808 efficientnet_model.py:143] round_filter input=16 output=16\n",
            "I0529 10:31:52.518933 140669845927808 efficientnet_model.py:143] round_filter input=24 output=24\n",
            "I0529 10:31:52.844241 140669845927808 efficientnet_model.py:143] round_filter input=24 output=24\n",
            "I0529 10:31:52.844454 140669845927808 efficientnet_model.py:143] round_filter input=40 output=48\n",
            "I0529 10:31:53.184805 140669845927808 efficientnet_model.py:143] round_filter input=40 output=48\n",
            "I0529 10:31:53.185009 140669845927808 efficientnet_model.py:143] round_filter input=80 output=88\n",
            "I0529 10:31:53.647202 140669845927808 efficientnet_model.py:143] round_filter input=80 output=88\n",
            "I0529 10:31:53.647428 140669845927808 efficientnet_model.py:143] round_filter input=112 output=120\n",
            "I0529 10:31:54.131394 140669845927808 efficientnet_model.py:143] round_filter input=112 output=120\n",
            "I0529 10:31:54.131617 140669845927808 efficientnet_model.py:143] round_filter input=192 output=208\n",
            "I0529 10:31:54.758433 140669845927808 efficientnet_model.py:143] round_filter input=192 output=208\n",
            "I0529 10:31:54.758653 140669845927808 efficientnet_model.py:143] round_filter input=320 output=352\n",
            "I0529 10:31:55.058521 140669845927808 efficientnet_model.py:143] round_filter input=1280 output=1408\n",
            "I0529 10:31:55.127430 140669845927808 efficientnet_model.py:453] Building model efficientnet with params ModelConfig(width_coefficient=1.1, depth_coefficient=1.2, resolution=260, dropout_rate=0.3, blocks=(BlockConfig(input_filters=32, output_filters=16, kernel_size=3, num_repeat=1, expand_ratio=1, strides=(1, 1), se_ratio=0.25, id_skip=True, fused_conv=False, conv_type='depthwise'), BlockConfig(input_filters=16, output_filters=24, kernel_size=3, num_repeat=2, expand_ratio=6, strides=(2, 2), se_ratio=0.25, id_skip=True, fused_conv=False, conv_type='depthwise'), BlockConfig(input_filters=24, output_filters=40, kernel_size=5, num_repeat=2, expand_ratio=6, strides=(2, 2), se_ratio=0.25, id_skip=True, fused_conv=False, conv_type='depthwise'), BlockConfig(input_filters=40, output_filters=80, kernel_size=3, num_repeat=3, expand_ratio=6, strides=(2, 2), se_ratio=0.25, id_skip=True, fused_conv=False, conv_type='depthwise'), BlockConfig(input_filters=80, output_filters=112, kernel_size=5, num_repeat=3, expand_ratio=6, strides=(1, 1), se_ratio=0.25, id_skip=True, fused_conv=False, conv_type='depthwise'), BlockConfig(input_filters=112, output_filters=192, kernel_size=5, num_repeat=4, expand_ratio=6, strides=(2, 2), se_ratio=0.25, id_skip=True, fused_conv=False, conv_type='depthwise'), BlockConfig(input_filters=192, output_filters=320, kernel_size=3, num_repeat=1, expand_ratio=6, strides=(1, 1), se_ratio=0.25, id_skip=True, fused_conv=False, conv_type='depthwise')), stem_base_filters=32, top_base_filters=1280, activation='simple_swish', batch_norm='default', bn_momentum=0.99, bn_epsilon=0.001, weight_decay=5e-06, drop_connect_rate=0.2, depth_divisor=8, min_depth=None, use_se=True, input_channels=3, num_classes=1000, model_name='efficientnet', rescale_input=False, data_format='channels_last', dtype='float32')\n",
            "I0529 10:31:55.207632 140669845927808 ssd_efficientnet_bifpn_feature_extractor.py:146] EfficientDet EfficientNet backbone version: efficientnet-b3\n",
            "I0529 10:31:55.207853 140669845927808 ssd_efficientnet_bifpn_feature_extractor.py:147] EfficientDet BiFPN num filters: 160\n",
            "I0529 10:31:55.207954 140669845927808 ssd_efficientnet_bifpn_feature_extractor.py:149] EfficientDet BiFPN num iterations: 6\n",
            "I0529 10:31:55.210065 140669845927808 efficientnet_model.py:143] round_filter input=32 output=40\n",
            "I0529 10:31:55.232424 140669845927808 efficientnet_model.py:143] round_filter input=32 output=40\n",
            "I0529 10:31:55.232663 140669845927808 efficientnet_model.py:143] round_filter input=16 output=24\n",
            "I0529 10:31:55.411654 140669845927808 efficientnet_model.py:143] round_filter input=16 output=24\n",
            "I0529 10:31:55.411866 140669845927808 efficientnet_model.py:143] round_filter input=24 output=32\n",
            "I0529 10:31:55.733319 140669845927808 efficientnet_model.py:143] round_filter input=24 output=32\n",
            "I0529 10:31:55.733538 140669845927808 efficientnet_model.py:143] round_filter input=40 output=48\n",
            "I0529 10:31:56.087410 140669845927808 efficientnet_model.py:143] round_filter input=40 output=48\n",
            "I0529 10:31:56.087628 140669845927808 efficientnet_model.py:143] round_filter input=80 output=96\n",
            "I0529 10:31:56.664825 140669845927808 efficientnet_model.py:143] round_filter input=80 output=96\n",
            "I0529 10:31:56.665026 140669845927808 efficientnet_model.py:143] round_filter input=112 output=136\n",
            "I0529 10:31:57.523542 140669845927808 efficientnet_model.py:143] round_filter input=112 output=136\n",
            "I0529 10:31:57.523748 140669845927808 efficientnet_model.py:143] round_filter input=192 output=232\n",
            "I0529 10:31:58.327971 140669845927808 efficientnet_model.py:143] round_filter input=192 output=232\n",
            "I0529 10:31:58.328207 140669845927808 efficientnet_model.py:143] round_filter input=320 output=384\n",
            "I0529 10:31:58.634776 140669845927808 efficientnet_model.py:143] round_filter input=1280 output=1536\n",
            "I0529 10:31:58.716097 140669845927808 efficientnet_model.py:453] Building model efficientnet with params ModelConfig(width_coefficient=1.2, depth_coefficient=1.4, resolution=300, dropout_rate=0.3, blocks=(BlockConfig(input_filters=32, output_filters=16, kernel_size=3, num_repeat=1, expand_ratio=1, strides=(1, 1), se_ratio=0.25, id_skip=True, fused_conv=False, conv_type='depthwise'), BlockConfig(input_filters=16, output_filters=24, kernel_size=3, num_repeat=2, expand_ratio=6, strides=(2, 2), se_ratio=0.25, id_skip=True, fused_conv=False, conv_type='depthwise'), BlockConfig(input_filters=24, output_filters=40, kernel_size=5, num_repeat=2, expand_ratio=6, strides=(2, 2), se_ratio=0.25, id_skip=True, fused_conv=False, conv_type='depthwise'), BlockConfig(input_filters=40, output_filters=80, kernel_size=3, num_repeat=3, expand_ratio=6, strides=(2, 2), se_ratio=0.25, id_skip=True, fused_conv=False, conv_type='depthwise'), BlockConfig(input_filters=80, output_filters=112, kernel_size=5, num_repeat=3, expand_ratio=6, strides=(1, 1), se_ratio=0.25, id_skip=True, fused_conv=False, conv_type='depthwise'), BlockConfig(input_filters=112, output_filters=192, kernel_size=5, num_repeat=4, expand_ratio=6, strides=(2, 2), se_ratio=0.25, id_skip=True, fused_conv=False, conv_type='depthwise'), BlockConfig(input_filters=192, output_filters=320, kernel_size=3, num_repeat=1, expand_ratio=6, strides=(1, 1), se_ratio=0.25, id_skip=True, fused_conv=False, conv_type='depthwise')), stem_base_filters=32, top_base_filters=1280, activation='simple_swish', batch_norm='default', bn_momentum=0.99, bn_epsilon=0.001, weight_decay=5e-06, drop_connect_rate=0.2, depth_divisor=8, min_depth=None, use_se=True, input_channels=3, num_classes=1000, model_name='efficientnet', rescale_input=False, data_format='channels_last', dtype='float32')\n",
            "I0529 10:31:58.799892 140669845927808 ssd_efficientnet_bifpn_feature_extractor.py:146] EfficientDet EfficientNet backbone version: efficientnet-b4\n",
            "I0529 10:31:58.800151 140669845927808 ssd_efficientnet_bifpn_feature_extractor.py:147] EfficientDet BiFPN num filters: 224\n",
            "I0529 10:31:58.800238 140669845927808 ssd_efficientnet_bifpn_feature_extractor.py:149] EfficientDet BiFPN num iterations: 7\n",
            "I0529 10:31:58.802328 140669845927808 efficientnet_model.py:143] round_filter input=32 output=48\n",
            "I0529 10:31:58.824728 140669845927808 efficientnet_model.py:143] round_filter input=32 output=48\n",
            "I0529 10:31:58.824943 140669845927808 efficientnet_model.py:143] round_filter input=16 output=24\n",
            "I0529 10:31:59.023308 140669845927808 efficientnet_model.py:143] round_filter input=16 output=24\n",
            "I0529 10:31:59.023520 140669845927808 efficientnet_model.py:143] round_filter input=24 output=32\n",
            "I0529 10:31:59.488654 140669845927808 efficientnet_model.py:143] round_filter input=24 output=32\n",
            "I0529 10:31:59.488873 140669845927808 efficientnet_model.py:143] round_filter input=40 output=56\n",
            "I0529 10:31:59.940471 140669845927808 efficientnet_model.py:143] round_filter input=40 output=56\n",
            "I0529 10:31:59.940683 140669845927808 efficientnet_model.py:143] round_filter input=80 output=112\n",
            "I0529 10:32:00.653072 140669845927808 efficientnet_model.py:143] round_filter input=80 output=112\n",
            "I0529 10:32:00.653301 140669845927808 efficientnet_model.py:143] round_filter input=112 output=160\n",
            "I0529 10:32:01.401958 140669845927808 efficientnet_model.py:143] round_filter input=112 output=160\n",
            "I0529 10:32:01.402190 140669845927808 efficientnet_model.py:143] round_filter input=192 output=272\n",
            "I0529 10:32:02.532920 140669845927808 efficientnet_model.py:143] round_filter input=192 output=272\n",
            "I0529 10:32:02.533159 140669845927808 efficientnet_model.py:143] round_filter input=320 output=448\n",
            "I0529 10:32:02.880050 140669845927808 efficientnet_model.py:143] round_filter input=1280 output=1792\n",
            "I0529 10:32:02.966082 140669845927808 efficientnet_model.py:453] Building model efficientnet with params ModelConfig(width_coefficient=1.4, depth_coefficient=1.8, resolution=380, dropout_rate=0.4, blocks=(BlockConfig(input_filters=32, output_filters=16, kernel_size=3, num_repeat=1, expand_ratio=1, strides=(1, 1), se_ratio=0.25, id_skip=True, fused_conv=False, conv_type='depthwise'), BlockConfig(input_filters=16, output_filters=24, kernel_size=3, num_repeat=2, expand_ratio=6, strides=(2, 2), se_ratio=0.25, id_skip=True, fused_conv=False, conv_type='depthwise'), BlockConfig(input_filters=24, output_filters=40, kernel_size=5, num_repeat=2, expand_ratio=6, strides=(2, 2), se_ratio=0.25, id_skip=True, fused_conv=False, conv_type='depthwise'), BlockConfig(input_filters=40, output_filters=80, kernel_size=3, num_repeat=3, expand_ratio=6, strides=(2, 2), se_ratio=0.25, id_skip=True, fused_conv=False, conv_type='depthwise'), BlockConfig(input_filters=80, output_filters=112, kernel_size=5, num_repeat=3, expand_ratio=6, strides=(1, 1), se_ratio=0.25, id_skip=True, fused_conv=False, conv_type='depthwise'), BlockConfig(input_filters=112, output_filters=192, kernel_size=5, num_repeat=4, expand_ratio=6, strides=(2, 2), se_ratio=0.25, id_skip=True, fused_conv=False, conv_type='depthwise'), BlockConfig(input_filters=192, output_filters=320, kernel_size=3, num_repeat=1, expand_ratio=6, strides=(1, 1), se_ratio=0.25, id_skip=True, fused_conv=False, conv_type='depthwise')), stem_base_filters=32, top_base_filters=1280, activation='simple_swish', batch_norm='default', bn_momentum=0.99, bn_epsilon=0.001, weight_decay=5e-06, drop_connect_rate=0.2, depth_divisor=8, min_depth=None, use_se=True, input_channels=3, num_classes=1000, model_name='efficientnet', rescale_input=False, data_format='channels_last', dtype='float32')\n",
            "I0529 10:32:03.061523 140669845927808 ssd_efficientnet_bifpn_feature_extractor.py:146] EfficientDet EfficientNet backbone version: efficientnet-b5\n",
            "I0529 10:32:03.061738 140669845927808 ssd_efficientnet_bifpn_feature_extractor.py:147] EfficientDet BiFPN num filters: 288\n",
            "I0529 10:32:03.061839 140669845927808 ssd_efficientnet_bifpn_feature_extractor.py:149] EfficientDet BiFPN num iterations: 7\n",
            "I0529 10:32:03.063884 140669845927808 efficientnet_model.py:143] round_filter input=32 output=48\n",
            "I0529 10:32:03.085617 140669845927808 efficientnet_model.py:143] round_filter input=32 output=48\n",
            "I0529 10:32:03.085838 140669845927808 efficientnet_model.py:143] round_filter input=16 output=24\n",
            "I0529 10:32:03.358629 140669845927808 efficientnet_model.py:143] round_filter input=16 output=24\n",
            "I0529 10:32:03.358846 140669845927808 efficientnet_model.py:143] round_filter input=24 output=40\n",
            "I0529 10:32:03.908314 140669845927808 efficientnet_model.py:143] round_filter input=24 output=40\n",
            "I0529 10:32:03.908533 140669845927808 efficientnet_model.py:143] round_filter input=40 output=64\n",
            "I0529 10:32:04.510434 140669845927808 efficientnet_model.py:143] round_filter input=40 output=64\n",
            "I0529 10:32:04.510694 140669845927808 efficientnet_model.py:143] round_filter input=80 output=128\n",
            "I0529 10:32:05.389077 140669845927808 efficientnet_model.py:143] round_filter input=80 output=128\n",
            "I0529 10:32:05.389443 140669845927808 efficientnet_model.py:143] round_filter input=112 output=176\n",
            "I0529 10:32:06.609939 140669845927808 efficientnet_model.py:143] round_filter input=112 output=176\n",
            "I0529 10:32:06.610204 140669845927808 efficientnet_model.py:143] round_filter input=192 output=304\n",
            "I0529 10:32:08.001284 140669845927808 efficientnet_model.py:143] round_filter input=192 output=304\n",
            "I0529 10:32:08.001586 140669845927808 efficientnet_model.py:143] round_filter input=320 output=512\n",
            "I0529 10:32:08.612089 140669845927808 efficientnet_model.py:143] round_filter input=1280 output=2048\n",
            "I0529 10:32:08.706114 140669845927808 efficientnet_model.py:453] Building model efficientnet with params ModelConfig(width_coefficient=1.6, depth_coefficient=2.2, resolution=456, dropout_rate=0.4, blocks=(BlockConfig(input_filters=32, output_filters=16, kernel_size=3, num_repeat=1, expand_ratio=1, strides=(1, 1), se_ratio=0.25, id_skip=True, fused_conv=False, conv_type='depthwise'), BlockConfig(input_filters=16, output_filters=24, kernel_size=3, num_repeat=2, expand_ratio=6, strides=(2, 2), se_ratio=0.25, id_skip=True, fused_conv=False, conv_type='depthwise'), BlockConfig(input_filters=24, output_filters=40, kernel_size=5, num_repeat=2, expand_ratio=6, strides=(2, 2), se_ratio=0.25, id_skip=True, fused_conv=False, conv_type='depthwise'), BlockConfig(input_filters=40, output_filters=80, kernel_size=3, num_repeat=3, expand_ratio=6, strides=(2, 2), se_ratio=0.25, id_skip=True, fused_conv=False, conv_type='depthwise'), BlockConfig(input_filters=80, output_filters=112, kernel_size=5, num_repeat=3, expand_ratio=6, strides=(1, 1), se_ratio=0.25, id_skip=True, fused_conv=False, conv_type='depthwise'), BlockConfig(input_filters=112, output_filters=192, kernel_size=5, num_repeat=4, expand_ratio=6, strides=(2, 2), se_ratio=0.25, id_skip=True, fused_conv=False, conv_type='depthwise'), BlockConfig(input_filters=192, output_filters=320, kernel_size=3, num_repeat=1, expand_ratio=6, strides=(1, 1), se_ratio=0.25, id_skip=True, fused_conv=False, conv_type='depthwise')), stem_base_filters=32, top_base_filters=1280, activation='simple_swish', batch_norm='default', bn_momentum=0.99, bn_epsilon=0.001, weight_decay=5e-06, drop_connect_rate=0.2, depth_divisor=8, min_depth=None, use_se=True, input_channels=3, num_classes=1000, model_name='efficientnet', rescale_input=False, data_format='channels_last', dtype='float32')\n",
            "I0529 10:32:08.818579 140669845927808 ssd_efficientnet_bifpn_feature_extractor.py:146] EfficientDet EfficientNet backbone version: efficientnet-b6\n",
            "I0529 10:32:08.818797 140669845927808 ssd_efficientnet_bifpn_feature_extractor.py:147] EfficientDet BiFPN num filters: 384\n",
            "I0529 10:32:08.818896 140669845927808 ssd_efficientnet_bifpn_feature_extractor.py:149] EfficientDet BiFPN num iterations: 8\n",
            "I0529 10:32:08.821008 140669845927808 efficientnet_model.py:143] round_filter input=32 output=56\n",
            "I0529 10:32:08.842615 140669845927808 efficientnet_model.py:143] round_filter input=32 output=56\n",
            "I0529 10:32:08.842823 140669845927808 efficientnet_model.py:143] round_filter input=16 output=32\n",
            "I0529 10:32:09.116972 140669845927808 efficientnet_model.py:143] round_filter input=16 output=32\n",
            "I0529 10:32:09.117241 140669845927808 efficientnet_model.py:143] round_filter input=24 output=40\n",
            "I0529 10:32:09.833672 140669845927808 efficientnet_model.py:143] round_filter input=24 output=40\n",
            "I0529 10:32:09.833904 140669845927808 efficientnet_model.py:143] round_filter input=40 output=72\n",
            "I0529 10:32:10.541888 140669845927808 efficientnet_model.py:143] round_filter input=40 output=72\n",
            "I0529 10:32:10.542135 140669845927808 efficientnet_model.py:143] round_filter input=80 output=144\n",
            "I0529 10:32:11.556960 140669845927808 efficientnet_model.py:143] round_filter input=80 output=144\n",
            "I0529 10:32:11.557194 140669845927808 efficientnet_model.py:143] round_filter input=112 output=200\n",
            "I0529 10:32:12.628122 140669845927808 efficientnet_model.py:143] round_filter input=112 output=200\n",
            "I0529 10:32:12.628341 140669845927808 efficientnet_model.py:143] round_filter input=192 output=344\n",
            "I0529 10:32:14.430094 140669845927808 efficientnet_model.py:143] round_filter input=192 output=344\n",
            "I0529 10:32:14.430442 140669845927808 efficientnet_model.py:143] round_filter input=320 output=576\n",
            "I0529 10:32:15.117202 140669845927808 efficientnet_model.py:143] round_filter input=1280 output=2304\n",
            "I0529 10:32:15.224641 140669845927808 efficientnet_model.py:453] Building model efficientnet with params ModelConfig(width_coefficient=1.8, depth_coefficient=2.6, resolution=528, dropout_rate=0.5, blocks=(BlockConfig(input_filters=32, output_filters=16, kernel_size=3, num_repeat=1, expand_ratio=1, strides=(1, 1), se_ratio=0.25, id_skip=True, fused_conv=False, conv_type='depthwise'), BlockConfig(input_filters=16, output_filters=24, kernel_size=3, num_repeat=2, expand_ratio=6, strides=(2, 2), se_ratio=0.25, id_skip=True, fused_conv=False, conv_type='depthwise'), BlockConfig(input_filters=24, output_filters=40, kernel_size=5, num_repeat=2, expand_ratio=6, strides=(2, 2), se_ratio=0.25, id_skip=True, fused_conv=False, conv_type='depthwise'), BlockConfig(input_filters=40, output_filters=80, kernel_size=3, num_repeat=3, expand_ratio=6, strides=(2, 2), se_ratio=0.25, id_skip=True, fused_conv=False, conv_type='depthwise'), BlockConfig(input_filters=80, output_filters=112, kernel_size=5, num_repeat=3, expand_ratio=6, strides=(1, 1), se_ratio=0.25, id_skip=True, fused_conv=False, conv_type='depthwise'), BlockConfig(input_filters=112, output_filters=192, kernel_size=5, num_repeat=4, expand_ratio=6, strides=(2, 2), se_ratio=0.25, id_skip=True, fused_conv=False, conv_type='depthwise'), BlockConfig(input_filters=192, output_filters=320, kernel_size=3, num_repeat=1, expand_ratio=6, strides=(1, 1), se_ratio=0.25, id_skip=True, fused_conv=False, conv_type='depthwise')), stem_base_filters=32, top_base_filters=1280, activation='simple_swish', batch_norm='default', bn_momentum=0.99, bn_epsilon=0.001, weight_decay=5e-06, drop_connect_rate=0.2, depth_divisor=8, min_depth=None, use_se=True, input_channels=3, num_classes=1000, model_name='efficientnet', rescale_input=False, data_format='channels_last', dtype='float32')\n",
            "I0529 10:32:15.356125 140669845927808 ssd_efficientnet_bifpn_feature_extractor.py:146] EfficientDet EfficientNet backbone version: efficientnet-b7\n",
            "I0529 10:32:15.356329 140669845927808 ssd_efficientnet_bifpn_feature_extractor.py:147] EfficientDet BiFPN num filters: 384\n",
            "I0529 10:32:15.356419 140669845927808 ssd_efficientnet_bifpn_feature_extractor.py:149] EfficientDet BiFPN num iterations: 8\n",
            "I0529 10:32:15.358718 140669845927808 efficientnet_model.py:143] round_filter input=32 output=64\n",
            "I0529 10:32:15.381226 140669845927808 efficientnet_model.py:143] round_filter input=32 output=64\n",
            "I0529 10:32:15.381441 140669845927808 efficientnet_model.py:143] round_filter input=16 output=32\n",
            "I0529 10:32:15.745787 140669845927808 efficientnet_model.py:143] round_filter input=16 output=32\n",
            "I0529 10:32:15.746025 140669845927808 efficientnet_model.py:143] round_filter input=24 output=48\n",
            "I0529 10:32:16.944144 140669845927808 efficientnet_model.py:143] round_filter input=24 output=48\n",
            "I0529 10:32:16.944405 140669845927808 efficientnet_model.py:143] round_filter input=40 output=80\n",
            "I0529 10:32:17.774772 140669845927808 efficientnet_model.py:143] round_filter input=40 output=80\n",
            "I0529 10:32:17.774993 140669845927808 efficientnet_model.py:143] round_filter input=80 output=160\n",
            "I0529 10:32:19.077827 140669845927808 efficientnet_model.py:143] round_filter input=80 output=160\n",
            "I0529 10:32:19.078063 140669845927808 efficientnet_model.py:143] round_filter input=112 output=224\n",
            "I0529 10:32:20.485931 140669845927808 efficientnet_model.py:143] round_filter input=112 output=224\n",
            "I0529 10:32:20.486164 140669845927808 efficientnet_model.py:143] round_filter input=192 output=384\n",
            "I0529 10:32:22.777119 140669845927808 efficientnet_model.py:143] round_filter input=192 output=384\n",
            "I0529 10:32:22.777340 140669845927808 efficientnet_model.py:143] round_filter input=320 output=640\n",
            "I0529 10:32:23.760024 140669845927808 efficientnet_model.py:143] round_filter input=1280 output=2560\n",
            "I0529 10:32:23.871271 140669845927808 efficientnet_model.py:453] Building model efficientnet with params ModelConfig(width_coefficient=2.0, depth_coefficient=3.1, resolution=600, dropout_rate=0.5, blocks=(BlockConfig(input_filters=32, output_filters=16, kernel_size=3, num_repeat=1, expand_ratio=1, strides=(1, 1), se_ratio=0.25, id_skip=True, fused_conv=False, conv_type='depthwise'), BlockConfig(input_filters=16, output_filters=24, kernel_size=3, num_repeat=2, expand_ratio=6, strides=(2, 2), se_ratio=0.25, id_skip=True, fused_conv=False, conv_type='depthwise'), BlockConfig(input_filters=24, output_filters=40, kernel_size=5, num_repeat=2, expand_ratio=6, strides=(2, 2), se_ratio=0.25, id_skip=True, fused_conv=False, conv_type='depthwise'), BlockConfig(input_filters=40, output_filters=80, kernel_size=3, num_repeat=3, expand_ratio=6, strides=(2, 2), se_ratio=0.25, id_skip=True, fused_conv=False, conv_type='depthwise'), BlockConfig(input_filters=80, output_filters=112, kernel_size=5, num_repeat=3, expand_ratio=6, strides=(1, 1), se_ratio=0.25, id_skip=True, fused_conv=False, conv_type='depthwise'), BlockConfig(input_filters=112, output_filters=192, kernel_size=5, num_repeat=4, expand_ratio=6, strides=(2, 2), se_ratio=0.25, id_skip=True, fused_conv=False, conv_type='depthwise'), BlockConfig(input_filters=192, output_filters=320, kernel_size=3, num_repeat=1, expand_ratio=6, strides=(1, 1), se_ratio=0.25, id_skip=True, fused_conv=False, conv_type='depthwise')), stem_base_filters=32, top_base_filters=1280, activation='simple_swish', batch_norm='default', bn_momentum=0.99, bn_epsilon=0.001, weight_decay=5e-06, drop_connect_rate=0.2, depth_divisor=8, min_depth=None, use_se=True, input_channels=3, num_classes=1000, model_name='efficientnet', rescale_input=False, data_format='channels_last', dtype='float32')\n",
            "INFO:tensorflow:time(__main__.ModelBuilderTF2Test.test_create_ssd_models_from_config): 37.51s\n",
            "I0529 10:32:24.036385 140669845927808 test_util.py:2459] time(__main__.ModelBuilderTF2Test.test_create_ssd_models_from_config): 37.51s\n",
            "[       OK ] ModelBuilderTF2Test.test_create_ssd_models_from_config\n",
            "[ RUN      ] ModelBuilderTF2Test.test_invalid_faster_rcnn_batchnorm_update\n",
            "INFO:tensorflow:time(__main__.ModelBuilderTF2Test.test_invalid_faster_rcnn_batchnorm_update): 0.0s\n",
            "I0529 10:32:24.043746 140669845927808 test_util.py:2459] time(__main__.ModelBuilderTF2Test.test_invalid_faster_rcnn_batchnorm_update): 0.0s\n",
            "[       OK ] ModelBuilderTF2Test.test_invalid_faster_rcnn_batchnorm_update\n",
            "[ RUN      ] ModelBuilderTF2Test.test_invalid_first_stage_nms_iou_threshold\n",
            "INFO:tensorflow:time(__main__.ModelBuilderTF2Test.test_invalid_first_stage_nms_iou_threshold): 0.0s\n",
            "I0529 10:32:24.046679 140669845927808 test_util.py:2459] time(__main__.ModelBuilderTF2Test.test_invalid_first_stage_nms_iou_threshold): 0.0s\n",
            "[       OK ] ModelBuilderTF2Test.test_invalid_first_stage_nms_iou_threshold\n",
            "[ RUN      ] ModelBuilderTF2Test.test_invalid_model_config_proto\n",
            "INFO:tensorflow:time(__main__.ModelBuilderTF2Test.test_invalid_model_config_proto): 0.0s\n",
            "I0529 10:32:24.047544 140669845927808 test_util.py:2459] time(__main__.ModelBuilderTF2Test.test_invalid_model_config_proto): 0.0s\n",
            "[       OK ] ModelBuilderTF2Test.test_invalid_model_config_proto\n",
            "[ RUN      ] ModelBuilderTF2Test.test_invalid_second_stage_batch_size\n",
            "INFO:tensorflow:time(__main__.ModelBuilderTF2Test.test_invalid_second_stage_batch_size): 0.0s\n",
            "I0529 10:32:24.049680 140669845927808 test_util.py:2459] time(__main__.ModelBuilderTF2Test.test_invalid_second_stage_batch_size): 0.0s\n",
            "[       OK ] ModelBuilderTF2Test.test_invalid_second_stage_batch_size\n",
            "[ RUN      ] ModelBuilderTF2Test.test_session\n",
            "[  SKIPPED ] ModelBuilderTF2Test.test_session\n",
            "[ RUN      ] ModelBuilderTF2Test.test_unknown_faster_rcnn_feature_extractor\n",
            "INFO:tensorflow:time(__main__.ModelBuilderTF2Test.test_unknown_faster_rcnn_feature_extractor): 0.0s\n",
            "I0529 10:32:24.051508 140669845927808 test_util.py:2459] time(__main__.ModelBuilderTF2Test.test_unknown_faster_rcnn_feature_extractor): 0.0s\n",
            "[       OK ] ModelBuilderTF2Test.test_unknown_faster_rcnn_feature_extractor\n",
            "[ RUN      ] ModelBuilderTF2Test.test_unknown_meta_architecture\n",
            "INFO:tensorflow:time(__main__.ModelBuilderTF2Test.test_unknown_meta_architecture): 0.0s\n",
            "I0529 10:32:24.052193 140669845927808 test_util.py:2459] time(__main__.ModelBuilderTF2Test.test_unknown_meta_architecture): 0.0s\n",
            "[       OK ] ModelBuilderTF2Test.test_unknown_meta_architecture\n",
            "[ RUN      ] ModelBuilderTF2Test.test_unknown_ssd_feature_extractor\n",
            "INFO:tensorflow:time(__main__.ModelBuilderTF2Test.test_unknown_ssd_feature_extractor): 0.0s\n",
            "I0529 10:32:24.053483 140669845927808 test_util.py:2459] time(__main__.ModelBuilderTF2Test.test_unknown_ssd_feature_extractor): 0.0s\n",
            "[       OK ] ModelBuilderTF2Test.test_unknown_ssd_feature_extractor\n",
            "----------------------------------------------------------------------\n",
            "Ran 24 tests in 48.203s\n",
            "\n",
            "OK (skipped=1)\n"
          ]
        }
      ]
    },
    {
      "cell_type": "code",
      "source": [
        "# !git clone https://github.com/nicknochnack/GenerateTFRecord"
      ],
      "metadata": {
        "id": "C-MCskglxsZh"
      },
      "execution_count": 11,
      "outputs": []
    },
    {
      "cell_type": "code",
      "source": [
        "# import shutil\n",
        "\n",
        "# shutil.move('./GenerateTFRecord/generate_tfrecord.py','generate_tfrecord.py')"
      ],
      "metadata": {
        "id": "t76jTcXdwSTT"
      },
      "execution_count": 12,
      "outputs": []
    },
    {
      "cell_type": "code",
      "source": [
        "!wget {PRETRAINED_MODEL_URL}\n",
        "!tar -xf ssd_mobilenet_v2_fpnlite_640x640_coco17_tpu-8.tar.gz"
      ],
      "metadata": {
        "colab": {
          "base_uri": "https://localhost:8080/"
        },
        "id": "-A06P8Lkv0l8",
        "outputId": "8492943d-21aa-4b99-d77b-7226388d6aed"
      },
      "execution_count": 13,
      "outputs": [
        {
          "output_type": "stream",
          "name": "stdout",
          "text": [
            "--2022-05-29 10:32:25--  http://download.tensorflow.org/models/object_detection/tf2/20200711/ssd_mobilenet_v2_fpnlite_640x640_coco17_tpu-8.tar.gz\n",
            "Resolving download.tensorflow.org (download.tensorflow.org)... 74.125.143.128, 2a00:1450:4013:c03::80\n",
            "Connecting to download.tensorflow.org (download.tensorflow.org)|74.125.143.128|:80... connected.\n",
            "HTTP request sent, awaiting response... 200 OK\n",
            "Length: 20518283 (20M) [application/x-tar]\n",
            "Saving to: ‘ssd_mobilenet_v2_fpnlite_640x640_coco17_tpu-8.tar.gz’\n",
            "\n",
            "ssd_mobilenet_v2_fp 100%[===================>]  19.57M  81.3MB/s    in 0.2s    \n",
            "\n",
            "2022-05-29 10:32:25 (81.3 MB/s) - ‘ssd_mobilenet_v2_fpnlite_640x640_coco17_tpu-8.tar.gz’ saved [20518283/20518283]\n",
            "\n"
          ]
        }
      ]
    },
    {
      "cell_type": "markdown",
      "source": [
        "# Download Dataset"
      ],
      "metadata": {
        "id": "3bN-W41LvyOp"
      }
    },
    {
      "cell_type": "code",
      "source": [
        "from google.colab import files\n",
        "\n",
        "uploaded = files.upload()\n",
        "\n",
        "for fn in uploaded.keys():\n",
        "  print('User uploaded file \"{name}\" with length {length} bytes'.format(\n",
        "      name=fn, length=len(uploaded[fn])))\n",
        "  \n",
        "# Then move kaggle.json into the folder where the API expects to find it.\n",
        "!mkdir -p ~/.kaggle/ && mv kaggle.json ~/.kaggle/ && chmod 600 ~/.kaggle/kaggle.json"
      ],
      "metadata": {
        "colab": {
          "resources": {
            "http://localhost:8080/nbextensions/google.colab/files.js": {
              "data": "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",
              "ok": true,
              "headers": [
                [
                  "content-type",
                  "application/javascript"
                ]
              ],
              "status": 200,
              "status_text": ""
            }
          },
          "base_uri": "https://localhost:8080/",
          "height": 89
        },
        "id": "eBRAjkEFwZQq",
        "outputId": "0c4ac5cf-c9af-45a9-e7c3-a8329dddf3b5"
      },
      "execution_count": 14,
      "outputs": [
        {
          "output_type": "display_data",
          "data": {
            "text/plain": [
              "<IPython.core.display.HTML object>"
            ],
            "text/html": [
              "\n",
              "     <input type=\"file\" id=\"files-fd49c7bb-c790-48cf-823e-8a40b512a47b\" name=\"files[]\" multiple disabled\n",
              "        style=\"border:none\" />\n",
              "     <output id=\"result-fd49c7bb-c790-48cf-823e-8a40b512a47b\">\n",
              "      Upload widget is only available when the cell has been executed in the\n",
              "      current browser session. Please rerun this cell to enable.\n",
              "      </output>\n",
              "      <script src=\"/nbextensions/google.colab/files.js\"></script> "
            ]
          },
          "metadata": {}
        },
        {
          "output_type": "stream",
          "name": "stdout",
          "text": [
            "Saving kaggle.json to kaggle.json\n",
            "User uploaded file \"kaggle.json\" with length 70 bytes\n"
          ]
        }
      ]
    },
    {
      "cell_type": "code",
      "source": [
        "%cd /content/models/research/"
      ],
      "metadata": {
        "colab": {
          "base_uri": "https://localhost:8080/"
        },
        "id": "ga1JSJkx3aeF",
        "outputId": "4a66a73e-3d10-4cfa-8acf-7ed14296e7c9"
      },
      "execution_count": 161,
      "outputs": [
        {
          "output_type": "stream",
          "name": "stdout",
          "text": [
            "/content/models/research\n"
          ]
        }
      ]
    },
    {
      "cell_type": "code",
      "source": [
        "!rm -rf './car-plate-detection'"
      ],
      "metadata": {
        "id": "Pl7GSUE30Szh"
      },
      "execution_count": 162,
      "outputs": []
    },
    {
      "cell_type": "code",
      "source": [
        "!mkdir './car-plate-detection'\n",
        "!mkdir './car-plate-detection/data/'"
      ],
      "metadata": {
        "id": "x9NsiRlUzU_W"
      },
      "execution_count": 163,
      "outputs": []
    },
    {
      "cell_type": "code",
      "source": [
        "os.chdir('./car-plate-detection/data/')"
      ],
      "metadata": {
        "id": "-J4BxMyIzdDi"
      },
      "execution_count": 164,
      "outputs": []
    },
    {
      "cell_type": "code",
      "source": [
        "!kaggle datasets download -d andrewmvd/car-plate-detection"
      ],
      "metadata": {
        "colab": {
          "base_uri": "https://localhost:8080/"
        },
        "id": "eozWOdONw0yw",
        "outputId": "97cb0e07-5a08-438f-f1a2-c0e9dc794d4e"
      },
      "execution_count": 165,
      "outputs": [
        {
          "output_type": "stream",
          "name": "stdout",
          "text": [
            "Downloading car-plate-detection.zip to /content/models/research/car-plate-detection/data\n",
            " 92% 186M/203M [00:00<00:00, 193MB/s]\n",
            "100% 203M/203M [00:01<00:00, 207MB/s]\n"
          ]
        }
      ]
    },
    {
      "cell_type": "code",
      "source": [
        "!unzip car-plate-detection.zip"
      ],
      "metadata": {
        "id": "WTHao321xOgM",
        "colab": {
          "base_uri": "https://localhost:8080/"
        },
        "outputId": "413d07bd-3f61-42ed-fe9b-4fa913a5a298"
      },
      "execution_count": 166,
      "outputs": [
        {
          "output_type": "stream",
          "name": "stdout",
          "text": [
            "Archive:  car-plate-detection.zip\n",
            "  inflating: annotations/Cars0.xml   \n",
            "  inflating: annotations/Cars1.xml   \n",
            "  inflating: annotations/Cars10.xml  \n",
            "  inflating: annotations/Cars100.xml  \n",
            "  inflating: annotations/Cars101.xml  \n",
            "  inflating: annotations/Cars102.xml  \n",
            "  inflating: annotations/Cars103.xml  \n",
            "  inflating: annotations/Cars104.xml  \n",
            "  inflating: annotations/Cars105.xml  \n",
            "  inflating: annotations/Cars106.xml  \n",
            "  inflating: annotations/Cars107.xml  \n",
            "  inflating: annotations/Cars108.xml  \n",
            "  inflating: annotations/Cars109.xml  \n",
            "  inflating: annotations/Cars11.xml  \n",
            "  inflating: annotations/Cars110.xml  \n",
            "  inflating: annotations/Cars111.xml  \n",
            "  inflating: annotations/Cars112.xml  \n",
            "  inflating: annotations/Cars113.xml  \n",
            "  inflating: annotations/Cars114.xml  \n",
            "  inflating: annotations/Cars115.xml  \n",
            "  inflating: annotations/Cars116.xml  \n",
            "  inflating: annotations/Cars117.xml  \n",
            "  inflating: annotations/Cars118.xml  \n",
            "  inflating: annotations/Cars119.xml  \n",
            "  inflating: annotations/Cars12.xml  \n",
            "  inflating: annotations/Cars120.xml  \n",
            "  inflating: annotations/Cars121.xml  \n",
            "  inflating: annotations/Cars122.xml  \n",
            "  inflating: annotations/Cars123.xml  \n",
            "  inflating: annotations/Cars124.xml  \n",
            "  inflating: annotations/Cars125.xml  \n",
            "  inflating: annotations/Cars126.xml  \n",
            "  inflating: annotations/Cars127.xml  \n",
            "  inflating: annotations/Cars128.xml  \n",
            "  inflating: annotations/Cars129.xml  \n",
            "  inflating: annotations/Cars13.xml  \n",
            "  inflating: annotations/Cars130.xml  \n",
            "  inflating: annotations/Cars131.xml  \n",
            "  inflating: annotations/Cars132.xml  \n",
            "  inflating: annotations/Cars133.xml  \n",
            "  inflating: annotations/Cars134.xml  \n",
            "  inflating: annotations/Cars135.xml  \n",
            "  inflating: annotations/Cars136.xml  \n",
            "  inflating: annotations/Cars137.xml  \n",
            "  inflating: annotations/Cars138.xml  \n",
            "  inflating: annotations/Cars139.xml  \n",
            "  inflating: annotations/Cars14.xml  \n",
            "  inflating: annotations/Cars140.xml  \n",
            "  inflating: annotations/Cars141.xml  \n",
            "  inflating: annotations/Cars142.xml  \n",
            "  inflating: annotations/Cars143.xml  \n",
            "  inflating: annotations/Cars144.xml  \n",
            "  inflating: annotations/Cars145.xml  \n",
            "  inflating: annotations/Cars146.xml  \n",
            "  inflating: annotations/Cars147.xml  \n",
            "  inflating: annotations/Cars148.xml  \n",
            "  inflating: annotations/Cars149.xml  \n",
            "  inflating: annotations/Cars15.xml  \n",
            "  inflating: annotations/Cars150.xml  \n",
            "  inflating: annotations/Cars151.xml  \n",
            "  inflating: annotations/Cars152.xml  \n",
            "  inflating: annotations/Cars153.xml  \n",
            "  inflating: annotations/Cars154.xml  \n",
            "  inflating: annotations/Cars155.xml  \n",
            "  inflating: annotations/Cars156.xml  \n",
            "  inflating: annotations/Cars157.xml  \n",
            "  inflating: annotations/Cars158.xml  \n",
            "  inflating: annotations/Cars159.xml  \n",
            "  inflating: annotations/Cars16.xml  \n",
            "  inflating: annotations/Cars160.xml  \n",
            "  inflating: annotations/Cars161.xml  \n",
            "  inflating: annotations/Cars162.xml  \n",
            "  inflating: annotations/Cars163.xml  \n",
            "  inflating: annotations/Cars164.xml  \n",
            "  inflating: annotations/Cars165.xml  \n",
            "  inflating: annotations/Cars166.xml  \n",
            "  inflating: annotations/Cars167.xml  \n",
            "  inflating: annotations/Cars168.xml  \n",
            "  inflating: annotations/Cars169.xml  \n",
            "  inflating: annotations/Cars17.xml  \n",
            "  inflating: annotations/Cars170.xml  \n",
            "  inflating: annotations/Cars171.xml  \n",
            "  inflating: annotations/Cars172.xml  \n",
            "  inflating: annotations/Cars173.xml  \n",
            "  inflating: annotations/Cars174.xml  \n",
            "  inflating: annotations/Cars175.xml  \n",
            "  inflating: annotations/Cars176.xml  \n",
            "  inflating: annotations/Cars177.xml  \n",
            "  inflating: annotations/Cars178.xml  \n",
            "  inflating: annotations/Cars179.xml  \n",
            "  inflating: annotations/Cars18.xml  \n",
            "  inflating: annotations/Cars180.xml  \n",
            "  inflating: annotations/Cars181.xml  \n",
            "  inflating: annotations/Cars182.xml  \n",
            "  inflating: annotations/Cars183.xml  \n",
            "  inflating: annotations/Cars184.xml  \n",
            "  inflating: annotations/Cars185.xml  \n",
            "  inflating: annotations/Cars186.xml  \n",
            "  inflating: annotations/Cars187.xml  \n",
            "  inflating: annotations/Cars188.xml  \n",
            "  inflating: annotations/Cars189.xml  \n",
            "  inflating: annotations/Cars19.xml  \n",
            "  inflating: annotations/Cars190.xml  \n",
            "  inflating: annotations/Cars191.xml  \n",
            "  inflating: annotations/Cars192.xml  \n",
            "  inflating: annotations/Cars193.xml  \n",
            "  inflating: annotations/Cars194.xml  \n",
            "  inflating: annotations/Cars195.xml  \n",
            "  inflating: annotations/Cars196.xml  \n",
            "  inflating: annotations/Cars197.xml  \n",
            "  inflating: annotations/Cars198.xml  \n",
            "  inflating: annotations/Cars199.xml  \n",
            "  inflating: annotations/Cars2.xml   \n",
            "  inflating: annotations/Cars20.xml  \n",
            "  inflating: annotations/Cars200.xml  \n",
            "  inflating: annotations/Cars201.xml  \n",
            "  inflating: annotations/Cars202.xml  \n",
            "  inflating: annotations/Cars203.xml  \n",
            "  inflating: annotations/Cars204.xml  \n",
            "  inflating: annotations/Cars205.xml  \n",
            "  inflating: annotations/Cars206.xml  \n",
            "  inflating: annotations/Cars207.xml  \n",
            "  inflating: annotations/Cars208.xml  \n",
            "  inflating: annotations/Cars209.xml  \n",
            "  inflating: annotations/Cars21.xml  \n",
            "  inflating: annotations/Cars210.xml  \n",
            "  inflating: annotations/Cars211.xml  \n",
            "  inflating: annotations/Cars212.xml  \n",
            "  inflating: annotations/Cars213.xml  \n",
            "  inflating: annotations/Cars214.xml  \n",
            "  inflating: annotations/Cars215.xml  \n",
            "  inflating: annotations/Cars216.xml  \n",
            "  inflating: annotations/Cars217.xml  \n",
            "  inflating: annotations/Cars218.xml  \n",
            "  inflating: annotations/Cars219.xml  \n",
            "  inflating: annotations/Cars22.xml  \n",
            "  inflating: annotations/Cars220.xml  \n",
            "  inflating: annotations/Cars221.xml  \n",
            "  inflating: annotations/Cars222.xml  \n",
            "  inflating: annotations/Cars223.xml  \n",
            "  inflating: annotations/Cars224.xml  \n",
            "  inflating: annotations/Cars225.xml  \n",
            "  inflating: annotations/Cars226.xml  \n",
            "  inflating: annotations/Cars227.xml  \n",
            "  inflating: annotations/Cars228.xml  \n",
            "  inflating: annotations/Cars229.xml  \n",
            "  inflating: annotations/Cars23.xml  \n",
            "  inflating: annotations/Cars230.xml  \n",
            "  inflating: annotations/Cars231.xml  \n",
            "  inflating: annotations/Cars232.xml  \n",
            "  inflating: annotations/Cars233.xml  \n",
            "  inflating: annotations/Cars234.xml  \n",
            "  inflating: annotations/Cars235.xml  \n",
            "  inflating: annotations/Cars236.xml  \n",
            "  inflating: annotations/Cars237.xml  \n",
            "  inflating: annotations/Cars238.xml  \n",
            "  inflating: annotations/Cars239.xml  \n",
            "  inflating: annotations/Cars24.xml  \n",
            "  inflating: annotations/Cars240.xml  \n",
            "  inflating: annotations/Cars241.xml  \n",
            "  inflating: annotations/Cars242.xml  \n",
            "  inflating: annotations/Cars243.xml  \n",
            "  inflating: annotations/Cars244.xml  \n",
            "  inflating: annotations/Cars245.xml  \n",
            "  inflating: annotations/Cars246.xml  \n",
            "  inflating: annotations/Cars247.xml  \n",
            "  inflating: annotations/Cars248.xml  \n",
            "  inflating: annotations/Cars249.xml  \n",
            "  inflating: annotations/Cars25.xml  \n",
            "  inflating: annotations/Cars250.xml  \n",
            "  inflating: annotations/Cars251.xml  \n",
            "  inflating: annotations/Cars252.xml  \n",
            "  inflating: annotations/Cars253.xml  \n",
            "  inflating: annotations/Cars254.xml  \n",
            "  inflating: annotations/Cars255.xml  \n",
            "  inflating: annotations/Cars256.xml  \n",
            "  inflating: annotations/Cars257.xml  \n",
            "  inflating: annotations/Cars258.xml  \n",
            "  inflating: annotations/Cars259.xml  \n",
            "  inflating: annotations/Cars26.xml  \n",
            "  inflating: annotations/Cars260.xml  \n",
            "  inflating: annotations/Cars261.xml  \n",
            "  inflating: annotations/Cars262.xml  \n",
            "  inflating: annotations/Cars263.xml  \n",
            "  inflating: annotations/Cars264.xml  \n",
            "  inflating: annotations/Cars265.xml  \n",
            "  inflating: annotations/Cars266.xml  \n",
            "  inflating: annotations/Cars267.xml  \n",
            "  inflating: annotations/Cars268.xml  \n",
            "  inflating: annotations/Cars269.xml  \n",
            "  inflating: annotations/Cars27.xml  \n",
            "  inflating: annotations/Cars270.xml  \n",
            "  inflating: annotations/Cars271.xml  \n",
            "  inflating: annotations/Cars272.xml  \n",
            "  inflating: annotations/Cars273.xml  \n",
            "  inflating: annotations/Cars274.xml  \n",
            "  inflating: annotations/Cars275.xml  \n",
            "  inflating: annotations/Cars276.xml  \n",
            "  inflating: annotations/Cars277.xml  \n",
            "  inflating: annotations/Cars278.xml  \n",
            "  inflating: annotations/Cars279.xml  \n",
            "  inflating: annotations/Cars28.xml  \n",
            "  inflating: annotations/Cars280.xml  \n",
            "  inflating: annotations/Cars281.xml  \n",
            "  inflating: annotations/Cars282.xml  \n",
            "  inflating: annotations/Cars283.xml  \n",
            "  inflating: annotations/Cars284.xml  \n",
            "  inflating: annotations/Cars285.xml  \n",
            "  inflating: annotations/Cars286.xml  \n",
            "  inflating: annotations/Cars287.xml  \n",
            "  inflating: annotations/Cars288.xml  \n",
            "  inflating: annotations/Cars289.xml  \n",
            "  inflating: annotations/Cars29.xml  \n",
            "  inflating: annotations/Cars290.xml  \n",
            "  inflating: annotations/Cars291.xml  \n",
            "  inflating: annotations/Cars292.xml  \n",
            "  inflating: annotations/Cars293.xml  \n",
            "  inflating: annotations/Cars294.xml  \n",
            "  inflating: annotations/Cars295.xml  \n",
            "  inflating: annotations/Cars296.xml  \n",
            "  inflating: annotations/Cars297.xml  \n",
            "  inflating: annotations/Cars298.xml  \n",
            "  inflating: annotations/Cars299.xml  \n",
            "  inflating: annotations/Cars3.xml   \n",
            "  inflating: annotations/Cars30.xml  \n",
            "  inflating: annotations/Cars300.xml  \n",
            "  inflating: annotations/Cars301.xml  \n",
            "  inflating: annotations/Cars302.xml  \n",
            "  inflating: annotations/Cars303.xml  \n",
            "  inflating: annotations/Cars304.xml  \n",
            "  inflating: annotations/Cars305.xml  \n",
            "  inflating: annotations/Cars306.xml  \n",
            "  inflating: annotations/Cars307.xml  \n",
            "  inflating: annotations/Cars308.xml  \n",
            "  inflating: annotations/Cars309.xml  \n",
            "  inflating: annotations/Cars31.xml  \n",
            "  inflating: annotations/Cars310.xml  \n",
            "  inflating: annotations/Cars311.xml  \n",
            "  inflating: annotations/Cars312.xml  \n",
            "  inflating: annotations/Cars313.xml  \n",
            "  inflating: annotations/Cars314.xml  \n",
            "  inflating: annotations/Cars315.xml  \n",
            "  inflating: annotations/Cars316.xml  \n",
            "  inflating: annotations/Cars317.xml  \n",
            "  inflating: annotations/Cars318.xml  \n",
            "  inflating: annotations/Cars319.xml  \n",
            "  inflating: annotations/Cars32.xml  \n",
            "  inflating: annotations/Cars320.xml  \n",
            "  inflating: annotations/Cars321.xml  \n",
            "  inflating: annotations/Cars322.xml  \n",
            "  inflating: annotations/Cars323.xml  \n",
            "  inflating: annotations/Cars324.xml  \n",
            "  inflating: annotations/Cars325.xml  \n",
            "  inflating: annotations/Cars326.xml  \n",
            "  inflating: annotations/Cars327.xml  \n",
            "  inflating: annotations/Cars328.xml  \n",
            "  inflating: annotations/Cars329.xml  \n",
            "  inflating: annotations/Cars33.xml  \n",
            "  inflating: annotations/Cars330.xml  \n",
            "  inflating: annotations/Cars331.xml  \n",
            "  inflating: annotations/Cars332.xml  \n",
            "  inflating: annotations/Cars333.xml  \n",
            "  inflating: annotations/Cars334.xml  \n",
            "  inflating: annotations/Cars335.xml  \n",
            "  inflating: annotations/Cars336.xml  \n",
            "  inflating: annotations/Cars337.xml  \n",
            "  inflating: annotations/Cars338.xml  \n",
            "  inflating: annotations/Cars339.xml  \n",
            "  inflating: annotations/Cars34.xml  \n",
            "  inflating: annotations/Cars340.xml  \n",
            "  inflating: annotations/Cars341.xml  \n",
            "  inflating: annotations/Cars342.xml  \n",
            "  inflating: annotations/Cars343.xml  \n",
            "  inflating: annotations/Cars344.xml  \n",
            "  inflating: annotations/Cars345.xml  \n",
            "  inflating: annotations/Cars346.xml  \n",
            "  inflating: annotations/Cars347.xml  \n",
            "  inflating: annotations/Cars348.xml  \n",
            "  inflating: annotations/Cars349.xml  \n",
            "  inflating: annotations/Cars35.xml  \n",
            "  inflating: annotations/Cars350.xml  \n",
            "  inflating: annotations/Cars351.xml  \n",
            "  inflating: annotations/Cars352.xml  \n",
            "  inflating: annotations/Cars353.xml  \n",
            "  inflating: annotations/Cars354.xml  \n",
            "  inflating: annotations/Cars355.xml  \n",
            "  inflating: annotations/Cars356.xml  \n",
            "  inflating: annotations/Cars357.xml  \n",
            "  inflating: annotations/Cars358.xml  \n",
            "  inflating: annotations/Cars359.xml  \n",
            "  inflating: annotations/Cars36.xml  \n",
            "  inflating: annotations/Cars360.xml  \n",
            "  inflating: annotations/Cars361.xml  \n",
            "  inflating: annotations/Cars362.xml  \n",
            "  inflating: annotations/Cars363.xml  \n",
            "  inflating: annotations/Cars364.xml  \n",
            "  inflating: annotations/Cars365.xml  \n",
            "  inflating: annotations/Cars366.xml  \n",
            "  inflating: annotations/Cars367.xml  \n",
            "  inflating: annotations/Cars368.xml  \n",
            "  inflating: annotations/Cars369.xml  \n",
            "  inflating: annotations/Cars37.xml  \n",
            "  inflating: annotations/Cars370.xml  \n",
            "  inflating: annotations/Cars371.xml  \n",
            "  inflating: annotations/Cars372.xml  \n",
            "  inflating: annotations/Cars373.xml  \n",
            "  inflating: annotations/Cars374.xml  \n",
            "  inflating: annotations/Cars375.xml  \n",
            "  inflating: annotations/Cars376.xml  \n",
            "  inflating: annotations/Cars377.xml  \n",
            "  inflating: annotations/Cars378.xml  \n",
            "  inflating: annotations/Cars379.xml  \n",
            "  inflating: annotations/Cars38.xml  \n",
            "  inflating: annotations/Cars380.xml  \n",
            "  inflating: annotations/Cars381.xml  \n",
            "  inflating: annotations/Cars382.xml  \n",
            "  inflating: annotations/Cars383.xml  \n",
            "  inflating: annotations/Cars384.xml  \n",
            "  inflating: annotations/Cars385.xml  \n",
            "  inflating: annotations/Cars386.xml  \n",
            "  inflating: annotations/Cars387.xml  \n",
            "  inflating: annotations/Cars388.xml  \n",
            "  inflating: annotations/Cars389.xml  \n",
            "  inflating: annotations/Cars39.xml  \n",
            "  inflating: annotations/Cars390.xml  \n",
            "  inflating: annotations/Cars391.xml  \n",
            "  inflating: annotations/Cars392.xml  \n",
            "  inflating: annotations/Cars393.xml  \n",
            "  inflating: annotations/Cars394.xml  \n",
            "  inflating: annotations/Cars395.xml  \n",
            "  inflating: annotations/Cars396.xml  \n",
            "  inflating: annotations/Cars397.xml  \n",
            "  inflating: annotations/Cars398.xml  \n",
            "  inflating: annotations/Cars399.xml  \n",
            "  inflating: annotations/Cars4.xml   \n",
            "  inflating: annotations/Cars40.xml  \n",
            "  inflating: annotations/Cars400.xml  \n",
            "  inflating: annotations/Cars401.xml  \n",
            "  inflating: annotations/Cars402.xml  \n",
            "  inflating: annotations/Cars403.xml  \n",
            "  inflating: annotations/Cars404.xml  \n",
            "  inflating: annotations/Cars405.xml  \n",
            "  inflating: annotations/Cars406.xml  \n",
            "  inflating: annotations/Cars407.xml  \n",
            "  inflating: annotations/Cars408.xml  \n",
            "  inflating: annotations/Cars409.xml  \n",
            "  inflating: annotations/Cars41.xml  \n",
            "  inflating: annotations/Cars410.xml  \n",
            "  inflating: annotations/Cars411.xml  \n",
            "  inflating: annotations/Cars412.xml  \n",
            "  inflating: annotations/Cars413.xml  \n",
            "  inflating: annotations/Cars414.xml  \n",
            "  inflating: annotations/Cars415.xml  \n",
            "  inflating: annotations/Cars416.xml  \n",
            "  inflating: annotations/Cars417.xml  \n",
            "  inflating: annotations/Cars418.xml  \n",
            "  inflating: annotations/Cars419.xml  \n",
            "  inflating: annotations/Cars42.xml  \n",
            "  inflating: annotations/Cars420.xml  \n",
            "  inflating: annotations/Cars421.xml  \n",
            "  inflating: annotations/Cars422.xml  \n",
            "  inflating: annotations/Cars423.xml  \n",
            "  inflating: annotations/Cars424.xml  \n",
            "  inflating: annotations/Cars425.xml  \n",
            "  inflating: annotations/Cars426.xml  \n",
            "  inflating: annotations/Cars427.xml  \n",
            "  inflating: annotations/Cars428.xml  \n",
            "  inflating: annotations/Cars429.xml  \n",
            "  inflating: annotations/Cars43.xml  \n",
            "  inflating: annotations/Cars430.xml  \n",
            "  inflating: annotations/Cars431.xml  \n",
            "  inflating: annotations/Cars432.xml  \n",
            "  inflating: annotations/Cars44.xml  \n",
            "  inflating: annotations/Cars45.xml  \n",
            "  inflating: annotations/Cars46.xml  \n",
            "  inflating: annotations/Cars47.xml  \n",
            "  inflating: annotations/Cars48.xml  \n",
            "  inflating: annotations/Cars49.xml  \n",
            "  inflating: annotations/Cars5.xml   \n",
            "  inflating: annotations/Cars50.xml  \n",
            "  inflating: annotations/Cars51.xml  \n",
            "  inflating: annotations/Cars52.xml  \n",
            "  inflating: annotations/Cars53.xml  \n",
            "  inflating: annotations/Cars54.xml  \n",
            "  inflating: annotations/Cars55.xml  \n",
            "  inflating: annotations/Cars56.xml  \n",
            "  inflating: annotations/Cars57.xml  \n",
            "  inflating: annotations/Cars58.xml  \n",
            "  inflating: annotations/Cars59.xml  \n",
            "  inflating: annotations/Cars6.xml   \n",
            "  inflating: annotations/Cars60.xml  \n",
            "  inflating: annotations/Cars61.xml  \n",
            "  inflating: annotations/Cars62.xml  \n",
            "  inflating: annotations/Cars63.xml  \n",
            "  inflating: annotations/Cars64.xml  \n",
            "  inflating: annotations/Cars65.xml  \n",
            "  inflating: annotations/Cars66.xml  \n",
            "  inflating: annotations/Cars67.xml  \n",
            "  inflating: annotations/Cars68.xml  \n",
            "  inflating: annotations/Cars69.xml  \n",
            "  inflating: annotations/Cars7.xml   \n",
            "  inflating: annotations/Cars70.xml  \n",
            "  inflating: annotations/Cars71.xml  \n",
            "  inflating: annotations/Cars72.xml  \n",
            "  inflating: annotations/Cars73.xml  \n",
            "  inflating: annotations/Cars74.xml  \n",
            "  inflating: annotations/Cars75.xml  \n",
            "  inflating: annotations/Cars76.xml  \n",
            "  inflating: annotations/Cars77.xml  \n",
            "  inflating: annotations/Cars78.xml  \n",
            "  inflating: annotations/Cars79.xml  \n",
            "  inflating: annotations/Cars8.xml   \n",
            "  inflating: annotations/Cars80.xml  \n",
            "  inflating: annotations/Cars81.xml  \n",
            "  inflating: annotations/Cars82.xml  \n",
            "  inflating: annotations/Cars83.xml  \n",
            "  inflating: annotations/Cars84.xml  \n",
            "  inflating: annotations/Cars85.xml  \n",
            "  inflating: annotations/Cars86.xml  \n",
            "  inflating: annotations/Cars87.xml  \n",
            "  inflating: annotations/Cars88.xml  \n",
            "  inflating: annotations/Cars89.xml  \n",
            "  inflating: annotations/Cars9.xml   \n",
            "  inflating: annotations/Cars90.xml  \n",
            "  inflating: annotations/Cars91.xml  \n",
            "  inflating: annotations/Cars92.xml  \n",
            "  inflating: annotations/Cars93.xml  \n",
            "  inflating: annotations/Cars94.xml  \n",
            "  inflating: annotations/Cars95.xml  \n",
            "  inflating: annotations/Cars96.xml  \n",
            "  inflating: annotations/Cars97.xml  \n",
            "  inflating: annotations/Cars98.xml  \n",
            "  inflating: annotations/Cars99.xml  \n",
            "  inflating: images/Cars0.png        \n",
            "  inflating: images/Cars1.png        \n",
            "  inflating: images/Cars10.png       \n",
            "  inflating: images/Cars100.png      \n",
            "  inflating: images/Cars101.png      \n",
            "  inflating: images/Cars102.png      \n",
            "  inflating: images/Cars103.png      \n",
            "  inflating: images/Cars104.png      \n",
            "  inflating: images/Cars105.png      \n",
            "  inflating: images/Cars106.png      \n",
            "  inflating: images/Cars107.png      \n",
            "  inflating: images/Cars108.png      \n",
            "  inflating: images/Cars109.png      \n",
            "  inflating: images/Cars11.png       \n",
            "  inflating: images/Cars110.png      \n",
            "  inflating: images/Cars111.png      \n",
            "  inflating: images/Cars112.png      \n",
            "  inflating: images/Cars113.png      \n",
            "  inflating: images/Cars114.png      \n",
            "  inflating: images/Cars115.png      \n",
            "  inflating: images/Cars116.png      \n",
            "  inflating: images/Cars117.png      \n",
            "  inflating: images/Cars118.png      \n",
            "  inflating: images/Cars119.png      \n",
            "  inflating: images/Cars12.png       \n",
            "  inflating: images/Cars120.png      \n",
            "  inflating: images/Cars121.png      \n",
            "  inflating: images/Cars122.png      \n",
            "  inflating: images/Cars123.png      \n",
            "  inflating: images/Cars124.png      \n",
            "  inflating: images/Cars125.png      \n",
            "  inflating: images/Cars126.png      \n",
            "  inflating: images/Cars127.png      \n",
            "  inflating: images/Cars128.png      \n",
            "  inflating: images/Cars129.png      \n",
            "  inflating: images/Cars13.png       \n",
            "  inflating: images/Cars130.png      \n",
            "  inflating: images/Cars131.png      \n",
            "  inflating: images/Cars132.png      \n",
            "  inflating: images/Cars133.png      \n",
            "  inflating: images/Cars134.png      \n",
            "  inflating: images/Cars135.png      \n",
            "  inflating: images/Cars136.png      \n",
            "  inflating: images/Cars137.png      \n",
            "  inflating: images/Cars138.png      \n",
            "  inflating: images/Cars139.png      \n",
            "  inflating: images/Cars14.png       \n",
            "  inflating: images/Cars140.png      \n",
            "  inflating: images/Cars141.png      \n",
            "  inflating: images/Cars142.png      \n",
            "  inflating: images/Cars143.png      \n",
            "  inflating: images/Cars144.png      \n",
            "  inflating: images/Cars145.png      \n",
            "  inflating: images/Cars146.png      \n",
            "  inflating: images/Cars147.png      \n",
            "  inflating: images/Cars148.png      \n",
            "  inflating: images/Cars149.png      \n",
            "  inflating: images/Cars15.png       \n",
            "  inflating: images/Cars150.png      \n",
            "  inflating: images/Cars151.png      \n",
            "  inflating: images/Cars152.png      \n",
            "  inflating: images/Cars153.png      \n",
            "  inflating: images/Cars154.png      \n",
            "  inflating: images/Cars155.png      \n",
            "  inflating: images/Cars156.png      \n",
            "  inflating: images/Cars157.png      \n",
            "  inflating: images/Cars158.png      \n",
            "  inflating: images/Cars159.png      \n",
            "  inflating: images/Cars16.png       \n",
            "  inflating: images/Cars160.png      \n",
            "  inflating: images/Cars161.png      \n",
            "  inflating: images/Cars162.png      \n",
            "  inflating: images/Cars163.png      \n",
            "  inflating: images/Cars164.png      \n",
            "  inflating: images/Cars165.png      \n",
            "  inflating: images/Cars166.png      \n",
            "  inflating: images/Cars167.png      \n",
            "  inflating: images/Cars168.png      \n",
            "  inflating: images/Cars169.png      \n",
            "  inflating: images/Cars17.png       \n",
            "  inflating: images/Cars170.png      \n",
            "  inflating: images/Cars171.png      \n",
            "  inflating: images/Cars172.png      \n",
            "  inflating: images/Cars173.png      \n",
            "  inflating: images/Cars174.png      \n",
            "  inflating: images/Cars175.png      \n",
            "  inflating: images/Cars176.png      \n",
            "  inflating: images/Cars177.png      \n",
            "  inflating: images/Cars178.png      \n",
            "  inflating: images/Cars179.png      \n",
            "  inflating: images/Cars18.png       \n",
            "  inflating: images/Cars180.png      \n",
            "  inflating: images/Cars181.png      \n",
            "  inflating: images/Cars182.png      \n",
            "  inflating: images/Cars183.png      \n",
            "  inflating: images/Cars184.png      \n",
            "  inflating: images/Cars185.png      \n",
            "  inflating: images/Cars186.png      \n",
            "  inflating: images/Cars187.png      \n",
            "  inflating: images/Cars188.png      \n",
            "  inflating: images/Cars189.png      \n",
            "  inflating: images/Cars19.png       \n",
            "  inflating: images/Cars190.png      \n",
            "  inflating: images/Cars191.png      \n",
            "  inflating: images/Cars192.png      \n",
            "  inflating: images/Cars193.png      \n",
            "  inflating: images/Cars194.png      \n",
            "  inflating: images/Cars195.png      \n",
            "  inflating: images/Cars196.png      \n",
            "  inflating: images/Cars197.png      \n",
            "  inflating: images/Cars198.png      \n",
            "  inflating: images/Cars199.png      \n",
            "  inflating: images/Cars2.png        \n",
            "  inflating: images/Cars20.png       \n",
            "  inflating: images/Cars200.png      \n",
            "  inflating: images/Cars201.png      \n",
            "  inflating: images/Cars202.png      \n",
            "  inflating: images/Cars203.png      \n",
            "  inflating: images/Cars204.png      \n",
            "  inflating: images/Cars205.png      \n",
            "  inflating: images/Cars206.png      \n",
            "  inflating: images/Cars207.png      \n",
            "  inflating: images/Cars208.png      \n",
            "  inflating: images/Cars209.png      \n",
            "  inflating: images/Cars21.png       \n",
            "  inflating: images/Cars210.png      \n",
            "  inflating: images/Cars211.png      \n",
            "  inflating: images/Cars212.png      \n",
            "  inflating: images/Cars213.png      \n",
            "  inflating: images/Cars214.png      \n",
            "  inflating: images/Cars215.png      \n",
            "  inflating: images/Cars216.png      \n",
            "  inflating: images/Cars217.png      \n",
            "  inflating: images/Cars218.png      \n",
            "  inflating: images/Cars219.png      \n",
            "  inflating: images/Cars22.png       \n",
            "  inflating: images/Cars220.png      \n",
            "  inflating: images/Cars221.png      \n",
            "  inflating: images/Cars222.png      \n",
            "  inflating: images/Cars223.png      \n",
            "  inflating: images/Cars224.png      \n",
            "  inflating: images/Cars225.png      \n",
            "  inflating: images/Cars226.png      \n",
            "  inflating: images/Cars227.png      \n",
            "  inflating: images/Cars228.png      \n",
            "  inflating: images/Cars229.png      \n",
            "  inflating: images/Cars23.png       \n",
            "  inflating: images/Cars230.png      \n",
            "  inflating: images/Cars231.png      \n",
            "  inflating: images/Cars232.png      \n",
            "  inflating: images/Cars233.png      \n",
            "  inflating: images/Cars234.png      \n",
            "  inflating: images/Cars235.png      \n",
            "  inflating: images/Cars236.png      \n",
            "  inflating: images/Cars237.png      \n",
            "  inflating: images/Cars238.png      \n",
            "  inflating: images/Cars239.png      \n",
            "  inflating: images/Cars24.png       \n",
            "  inflating: images/Cars240.png      \n",
            "  inflating: images/Cars241.png      \n",
            "  inflating: images/Cars242.png      \n",
            "  inflating: images/Cars243.png      \n",
            "  inflating: images/Cars244.png      \n",
            "  inflating: images/Cars245.png      \n",
            "  inflating: images/Cars246.png      \n",
            "  inflating: images/Cars247.png      \n",
            "  inflating: images/Cars248.png      \n",
            "  inflating: images/Cars249.png      \n",
            "  inflating: images/Cars25.png       \n",
            "  inflating: images/Cars250.png      \n",
            "  inflating: images/Cars251.png      \n",
            "  inflating: images/Cars252.png      \n",
            "  inflating: images/Cars253.png      \n",
            "  inflating: images/Cars254.png      \n",
            "  inflating: images/Cars255.png      \n",
            "  inflating: images/Cars256.png      \n",
            "  inflating: images/Cars257.png      \n",
            "  inflating: images/Cars258.png      \n",
            "  inflating: images/Cars259.png      \n",
            "  inflating: images/Cars26.png       \n",
            "  inflating: images/Cars260.png      \n",
            "  inflating: images/Cars261.png      \n",
            "  inflating: images/Cars262.png      \n",
            "  inflating: images/Cars263.png      \n",
            "  inflating: images/Cars264.png      \n",
            "  inflating: images/Cars265.png      \n",
            "  inflating: images/Cars266.png      \n",
            "  inflating: images/Cars267.png      \n",
            "  inflating: images/Cars268.png      \n",
            "  inflating: images/Cars269.png      \n",
            "  inflating: images/Cars27.png       \n",
            "  inflating: images/Cars270.png      \n",
            "  inflating: images/Cars271.png      \n",
            "  inflating: images/Cars272.png      \n",
            "  inflating: images/Cars273.png      \n",
            "  inflating: images/Cars274.png      \n",
            "  inflating: images/Cars275.png      \n",
            "  inflating: images/Cars276.png      \n",
            "  inflating: images/Cars277.png      \n",
            "  inflating: images/Cars278.png      \n",
            "  inflating: images/Cars279.png      \n",
            "  inflating: images/Cars28.png       \n",
            "  inflating: images/Cars280.png      \n",
            "  inflating: images/Cars281.png      \n",
            "  inflating: images/Cars282.png      \n",
            "  inflating: images/Cars283.png      \n",
            "  inflating: images/Cars284.png      \n",
            "  inflating: images/Cars285.png      \n",
            "  inflating: images/Cars286.png      \n",
            "  inflating: images/Cars287.png      \n",
            "  inflating: images/Cars288.png      \n",
            "  inflating: images/Cars289.png      \n",
            "  inflating: images/Cars29.png       \n",
            "  inflating: images/Cars290.png      \n",
            "  inflating: images/Cars291.png      \n",
            "  inflating: images/Cars292.png      \n",
            "  inflating: images/Cars293.png      \n",
            "  inflating: images/Cars294.png      \n",
            "  inflating: images/Cars295.png      \n",
            "  inflating: images/Cars296.png      \n",
            "  inflating: images/Cars297.png      \n",
            "  inflating: images/Cars298.png      \n",
            "  inflating: images/Cars299.png      \n",
            "  inflating: images/Cars3.png        \n",
            "  inflating: images/Cars30.png       \n",
            "  inflating: images/Cars300.png      \n",
            "  inflating: images/Cars301.png      \n",
            "  inflating: images/Cars302.png      \n",
            "  inflating: images/Cars303.png      \n",
            "  inflating: images/Cars304.png      \n",
            "  inflating: images/Cars305.png      \n",
            "  inflating: images/Cars306.png      \n",
            "  inflating: images/Cars307.png      \n",
            "  inflating: images/Cars308.png      \n",
            "  inflating: images/Cars309.png      \n",
            "  inflating: images/Cars31.png       \n",
            "  inflating: images/Cars310.png      \n",
            "  inflating: images/Cars311.png      \n",
            "  inflating: images/Cars312.png      \n",
            "  inflating: images/Cars313.png      \n",
            "  inflating: images/Cars314.png      \n",
            "  inflating: images/Cars315.png      \n",
            "  inflating: images/Cars316.png      \n",
            "  inflating: images/Cars317.png      \n",
            "  inflating: images/Cars318.png      \n",
            "  inflating: images/Cars319.png      \n",
            "  inflating: images/Cars32.png       \n",
            "  inflating: images/Cars320.png      \n",
            "  inflating: images/Cars321.png      \n",
            "  inflating: images/Cars322.png      \n",
            "  inflating: images/Cars323.png      \n",
            "  inflating: images/Cars324.png      \n",
            "  inflating: images/Cars325.png      \n",
            "  inflating: images/Cars326.png      \n",
            "  inflating: images/Cars327.png      \n",
            "  inflating: images/Cars328.png      \n",
            "  inflating: images/Cars329.png      \n",
            "  inflating: images/Cars33.png       \n",
            "  inflating: images/Cars330.png      \n",
            "  inflating: images/Cars331.png      \n",
            "  inflating: images/Cars332.png      \n",
            "  inflating: images/Cars333.png      \n",
            "  inflating: images/Cars334.png      \n",
            "  inflating: images/Cars335.png      \n",
            "  inflating: images/Cars336.png      \n",
            "  inflating: images/Cars337.png      \n",
            "  inflating: images/Cars338.png      \n",
            "  inflating: images/Cars339.png      \n",
            "  inflating: images/Cars34.png       \n",
            "  inflating: images/Cars340.png      \n",
            "  inflating: images/Cars341.png      \n",
            "  inflating: images/Cars342.png      \n",
            "  inflating: images/Cars343.png      \n",
            "  inflating: images/Cars344.png      \n",
            "  inflating: images/Cars345.png      \n",
            "  inflating: images/Cars346.png      \n",
            "  inflating: images/Cars347.png      \n",
            "  inflating: images/Cars348.png      \n",
            "  inflating: images/Cars349.png      \n",
            "  inflating: images/Cars35.png       \n",
            "  inflating: images/Cars350.png      \n",
            "  inflating: images/Cars351.png      \n",
            "  inflating: images/Cars352.png      \n",
            "  inflating: images/Cars353.png      \n",
            "  inflating: images/Cars354.png      \n",
            "  inflating: images/Cars355.png      \n",
            "  inflating: images/Cars356.png      \n",
            "  inflating: images/Cars357.png      \n",
            "  inflating: images/Cars358.png      \n",
            "  inflating: images/Cars359.png      \n",
            "  inflating: images/Cars36.png       \n",
            "  inflating: images/Cars360.png      \n",
            "  inflating: images/Cars361.png      \n",
            "  inflating: images/Cars362.png      \n",
            "  inflating: images/Cars363.png      \n",
            "  inflating: images/Cars364.png      \n",
            "  inflating: images/Cars365.png      \n",
            "  inflating: images/Cars366.png      \n",
            "  inflating: images/Cars367.png      \n",
            "  inflating: images/Cars368.png      \n",
            "  inflating: images/Cars369.png      \n",
            "  inflating: images/Cars37.png       \n",
            "  inflating: images/Cars370.png      \n",
            "  inflating: images/Cars371.png      \n",
            "  inflating: images/Cars372.png      \n",
            "  inflating: images/Cars373.png      \n",
            "  inflating: images/Cars374.png      \n",
            "  inflating: images/Cars375.png      \n",
            "  inflating: images/Cars376.png      \n",
            "  inflating: images/Cars377.png      \n",
            "  inflating: images/Cars378.png      \n",
            "  inflating: images/Cars379.png      \n",
            "  inflating: images/Cars38.png       \n",
            "  inflating: images/Cars380.png      \n",
            "  inflating: images/Cars381.png      \n",
            "  inflating: images/Cars382.png      \n",
            "  inflating: images/Cars383.png      \n",
            "  inflating: images/Cars384.png      \n",
            "  inflating: images/Cars385.png      \n",
            "  inflating: images/Cars386.png      \n",
            "  inflating: images/Cars387.png      \n",
            "  inflating: images/Cars388.png      \n",
            "  inflating: images/Cars389.png      \n",
            "  inflating: images/Cars39.png       \n",
            "  inflating: images/Cars390.png      \n",
            "  inflating: images/Cars391.png      \n",
            "  inflating: images/Cars392.png      \n",
            "  inflating: images/Cars393.png      \n",
            "  inflating: images/Cars394.png      \n",
            "  inflating: images/Cars395.png      \n",
            "  inflating: images/Cars396.png      \n",
            "  inflating: images/Cars397.png      \n",
            "  inflating: images/Cars398.png      \n",
            "  inflating: images/Cars399.png      \n",
            "  inflating: images/Cars4.png        \n",
            "  inflating: images/Cars40.png       \n",
            "  inflating: images/Cars400.png      \n",
            "  inflating: images/Cars401.png      \n",
            "  inflating: images/Cars402.png      \n",
            "  inflating: images/Cars403.png      \n",
            "  inflating: images/Cars404.png      \n",
            "  inflating: images/Cars405.png      \n",
            "  inflating: images/Cars406.png      \n",
            "  inflating: images/Cars407.png      \n",
            "  inflating: images/Cars408.png      \n",
            "  inflating: images/Cars409.png      \n",
            "  inflating: images/Cars41.png       \n",
            "  inflating: images/Cars410.png      \n",
            "  inflating: images/Cars411.png      \n",
            "  inflating: images/Cars412.png      \n",
            "  inflating: images/Cars413.png      \n",
            "  inflating: images/Cars414.png      \n",
            "  inflating: images/Cars415.png      \n",
            "  inflating: images/Cars416.png      \n",
            "  inflating: images/Cars417.png      \n",
            "  inflating: images/Cars418.png      \n",
            "  inflating: images/Cars419.png      \n",
            "  inflating: images/Cars42.png       \n",
            "  inflating: images/Cars420.png      \n",
            "  inflating: images/Cars421.png      \n",
            "  inflating: images/Cars422.png      \n",
            "  inflating: images/Cars423.png      \n",
            "  inflating: images/Cars424.png      \n",
            "  inflating: images/Cars425.png      \n",
            "  inflating: images/Cars426.png      \n",
            "  inflating: images/Cars427.png      \n",
            "  inflating: images/Cars428.png      \n",
            "  inflating: images/Cars429.png      \n",
            "  inflating: images/Cars43.png       \n",
            "  inflating: images/Cars430.png      \n",
            "  inflating: images/Cars431.png      \n",
            "  inflating: images/Cars432.png      \n",
            "  inflating: images/Cars44.png       \n",
            "  inflating: images/Cars45.png       \n",
            "  inflating: images/Cars46.png       \n",
            "  inflating: images/Cars47.png       \n",
            "  inflating: images/Cars48.png       \n",
            "  inflating: images/Cars49.png       \n",
            "  inflating: images/Cars5.png        \n",
            "  inflating: images/Cars50.png       \n",
            "  inflating: images/Cars51.png       \n",
            "  inflating: images/Cars52.png       \n",
            "  inflating: images/Cars53.png       \n",
            "  inflating: images/Cars54.png       \n",
            "  inflating: images/Cars55.png       \n",
            "  inflating: images/Cars56.png       \n",
            "  inflating: images/Cars57.png       \n",
            "  inflating: images/Cars58.png       \n",
            "  inflating: images/Cars59.png       \n",
            "  inflating: images/Cars6.png        \n",
            "  inflating: images/Cars60.png       \n",
            "  inflating: images/Cars61.png       \n",
            "  inflating: images/Cars62.png       \n",
            "  inflating: images/Cars63.png       \n",
            "  inflating: images/Cars64.png       \n",
            "  inflating: images/Cars65.png       \n",
            "  inflating: images/Cars66.png       \n",
            "  inflating: images/Cars67.png       \n",
            "  inflating: images/Cars68.png       \n",
            "  inflating: images/Cars69.png       \n",
            "  inflating: images/Cars7.png        \n",
            "  inflating: images/Cars70.png       \n",
            "  inflating: images/Cars71.png       \n",
            "  inflating: images/Cars72.png       \n",
            "  inflating: images/Cars73.png       \n",
            "  inflating: images/Cars74.png       \n",
            "  inflating: images/Cars75.png       \n",
            "  inflating: images/Cars76.png       \n",
            "  inflating: images/Cars77.png       \n",
            "  inflating: images/Cars78.png       \n",
            "  inflating: images/Cars79.png       \n",
            "  inflating: images/Cars8.png        \n",
            "  inflating: images/Cars80.png       \n",
            "  inflating: images/Cars81.png       \n",
            "  inflating: images/Cars82.png       \n",
            "  inflating: images/Cars83.png       \n",
            "  inflating: images/Cars84.png       \n",
            "  inflating: images/Cars85.png       \n",
            "  inflating: images/Cars86.png       \n",
            "  inflating: images/Cars87.png       \n",
            "  inflating: images/Cars88.png       \n",
            "  inflating: images/Cars89.png       \n",
            "  inflating: images/Cars9.png        \n",
            "  inflating: images/Cars90.png       \n",
            "  inflating: images/Cars91.png       \n",
            "  inflating: images/Cars92.png       \n",
            "  inflating: images/Cars93.png       \n",
            "  inflating: images/Cars94.png       \n",
            "  inflating: images/Cars95.png       \n",
            "  inflating: images/Cars96.png       \n",
            "  inflating: images/Cars97.png       \n",
            "  inflating: images/Cars98.png       \n",
            "  inflating: images/Cars99.png       \n"
          ]
        }
      ]
    },
    {
      "cell_type": "code",
      "source": [
        "!rm car-plate-detection.zip"
      ],
      "metadata": {
        "id": "kQDIqSyqxWaa"
      },
      "execution_count": 167,
      "outputs": []
    },
    {
      "cell_type": "code",
      "source": [
        "!pwd"
      ],
      "metadata": {
        "colab": {
          "base_uri": "https://localhost:8080/"
        },
        "id": "bWyfd52A63wp",
        "outputId": "18532a03-b32a-499a-e7a2-ccbbb8946527"
      },
      "execution_count": 168,
      "outputs": [
        {
          "output_type": "stream",
          "name": "stdout",
          "text": [
            "/content/models/research/car-plate-detection/data\n"
          ]
        }
      ]
    },
    {
      "cell_type": "code",
      "source": [
        "%cd /content/models/research/"
      ],
      "metadata": {
        "colab": {
          "base_uri": "https://localhost:8080/"
        },
        "id": "ztK_Kkyl_QMe",
        "outputId": "ee5d56e6-0aa5-4458-8dfd-100ea1aaccf1"
      },
      "execution_count": 169,
      "outputs": [
        {
          "output_type": "stream",
          "name": "stdout",
          "text": [
            "/content/models/research\n"
          ]
        }
      ]
    },
    {
      "cell_type": "code",
      "source": [
        "# !dir /content/models/research/car-plate-detection/data/images/"
      ],
      "metadata": {
        "id": "MekyKt2Sz9F_"
      },
      "execution_count": 170,
      "outputs": []
    },
    {
      "cell_type": "markdown",
      "source": [
        "# Reading the dataset"
      ],
      "metadata": {
        "id": "0pAn26elDycJ"
      }
    },
    {
      "cell_type": "code",
      "source": [
        "img_list = [] \n",
        "annot_list = []\n",
        "\n",
        "for dirname, _, filenames in os.walk('/content/models/research/car-plate-detection/'):\n",
        "    for filename in filenames:\n",
        "        if os.path.join(dirname, filename)[-3:]!=\"xml\":\n",
        "            img_list.append(os.path.join(dirname, filename))\n",
        "        else:\n",
        "            annot_list.append(os.path.join(dirname, filename))\n",
        "            \n",
        "img_list.sort()\n",
        "annot_list.sort()"
      ],
      "metadata": {
        "id": "Y5gtdVLWCdyp"
      },
      "execution_count": 171,
      "outputs": []
    },
    {
      "cell_type": "code",
      "source": [
        "%cat /content/models/research/car-plate-detection/data/annotations/Cars0.xml"
      ],
      "metadata": {
        "colab": {
          "base_uri": "https://localhost:8080/"
        },
        "id": "EiNJegBB17nZ",
        "outputId": "11c20e6e-f67d-4865-ecf0-7b74dab656c9"
      },
      "execution_count": 172,
      "outputs": [
        {
          "output_type": "stream",
          "name": "stdout",
          "text": [
            "\n",
            "<annotation>\n",
            "    <folder>images</folder>\n",
            "    <filename>Cars0.png</filename>\n",
            "    <size>\n",
            "        <width>500</width>\n",
            "        <height>268</height>\n",
            "        <depth>3</depth>\n",
            "    </size>\n",
            "    <segmented>0</segmented>\n",
            "    <object>\n",
            "        <name>licence</name>\n",
            "        <pose>Unspecified</pose>\n",
            "        <truncated>0</truncated>\n",
            "        <occluded>0</occluded>\n",
            "        <difficult>0</difficult>\n",
            "        <bndbox>\n",
            "            <xmin>226</xmin>\n",
            "            <ymin>125</ymin>\n",
            "            <xmax>419</xmax>\n",
            "            <ymax>173</ymax>\n",
            "        </bndbox>\n",
            "    </object>\n",
            "</annotation>"
          ]
        }
      ]
    },
    {
      "cell_type": "code",
      "source": [
        "img_list[0]"
      ],
      "metadata": {
        "colab": {
          "base_uri": "https://localhost:8080/",
          "height": 36
        },
        "id": "vcejLUH4i48P",
        "outputId": "054fff43-558b-43b7-828e-c0d8459ccdde"
      },
      "execution_count": 186,
      "outputs": [
        {
          "output_type": "execute_result",
          "data": {
            "text/plain": [
              "'/content/models/research/car-plate-detection/data/images/Cars0.png'"
            ],
            "application/vnd.google.colaboratory.intrinsic+json": {
              "type": "string"
            }
          },
          "metadata": {},
          "execution_count": 186
        }
      ]
    },
    {
      "cell_type": "markdown",
      "source": [
        "# Data Preprocessing"
      ],
      "metadata": {
        "id": "KYjTM6w8ERH3"
      }
    },
    {
      "cell_type": "code",
      "source": [
        "%cd ./car-plate-detection/"
      ],
      "metadata": {
        "colab": {
          "base_uri": "https://localhost:8080/"
        },
        "id": "QILbqeu2jD5a",
        "outputId": "05784472-3fa5-4bb8-a402-d5f28f338af3"
      },
      "execution_count": 174,
      "outputs": [
        {
          "output_type": "stream",
          "name": "stdout",
          "text": [
            "/content/models/research/car-plate-detection\n"
          ]
        }
      ]
    },
    {
      "cell_type": "code",
      "source": [
        "!rm -rf train\n",
        "!rm -rf test"
      ],
      "metadata": {
        "id": "Nv3KC4vtxMHv"
      },
      "execution_count": 175,
      "outputs": []
    },
    {
      "cell_type": "code",
      "source": [
        "!mkdir train\n",
        "!mkdir test"
      ],
      "metadata": {
        "id": "bAN1RSIFkW_W"
      },
      "execution_count": 176,
      "outputs": []
    },
    {
      "cell_type": "code",
      "source": [
        "import cv2\n",
        "from PIL import Image\n",
        "import shutil\n",
        "LENGHT = len(img_list)"
      ],
      "metadata": {
        "id": "pJU8AkcbrSUw"
      },
      "execution_count": 177,
      "outputs": []
    },
    {
      "cell_type": "code",
      "source": [
        "for i in range(LENGHT):\n",
        "  img_png = Image.open(img_list[i])\n",
        "  img_png = img_png.convert('RGB')\n",
        "  img_png.save(img_list[i][0:-4]+'.jpg','JPEG')\n",
        "  os.remove(img_list[i])"
      ],
      "metadata": {
        "id": "lhrxsIDO1Fym"
      },
      "execution_count": 178,
      "outputs": []
    },
    {
      "cell_type": "code",
      "source": [
        "import xml.etree.ElementTree as ET\n",
        "\n",
        "# for i,xmlfile in enumerate(glob.glob(annot_list)):\n",
        "for i in range(len(annot_list)):\n",
        "  tree = ET.parse(annot_list[i])\n",
        "\n",
        "  for fname in tree.iter('filename'):\n",
        "    fname.text = annot_list[i].split('/')[-1][0:-4] + '.jpg'\n",
        "\n",
        "  tree.write(annot_list[i])    "
      ],
      "metadata": {
        "id": "mQxB7P_X4lSo"
      },
      "execution_count": 183,
      "outputs": []
    },
    {
      "cell_type": "code",
      "source": [
        "img_list = [] \n",
        "annot_list = []\n",
        "\n",
        "for dirname, _, filenames in os.walk('/content/models/research/car-plate-detection/'):\n",
        "    for filename in filenames:\n",
        "        if os.path.join(dirname, filename)[-3:]!=\"xml\":\n",
        "            img_list.append(os.path.join(dirname, filename))\n",
        "        else:\n",
        "            annot_list.append(os.path.join(dirname, filename))\n",
        "            \n",
        "img_list.sort()\n",
        "annot_list.sort()"
      ],
      "metadata": {
        "id": "S3Svm1pL91BM"
      },
      "execution_count": 187,
      "outputs": []
    },
    {
      "cell_type": "code",
      "source": [
        "for i in range(LENGHT):\n",
        "\n",
        "  if i < 400:\n",
        "    shutil.move(img_list[i],\"/content/models/research/car-plate-detection/train/\")\n",
        "    shutil.move(annot_list[i],\"/content/models/research/car-plate-detection/train/\")\n",
        "  else:\n",
        "    shutil.move(img_list[i],\"/content/models/research/car-plate-detection/test/\")\n",
        "    shutil.move(annot_list[i],\"/content/models/research/car-plate-detection/test/\")\n",
        "\n",
        "!dir /content/models/research/car-plate-detection/test/   "
      ],
      "metadata": {
        "id": "HZQn75GvkrE9",
        "colab": {
          "base_uri": "https://localhost:8080/"
        },
        "outputId": "91ca5444-ac07-47ee-aba7-e9a24d91a354"
      },
      "execution_count": 188,
      "outputs": [
        {
          "output_type": "stream",
          "name": "stdout",
          "text": [
            "Cars70.jpg  Cars75.xml\tCars80.jpg  Cars85.xml\tCars90.jpg  Cars95.xml\n",
            "Cars70.xml  Cars76.jpg\tCars80.xml  Cars86.jpg\tCars90.xml  Cars96.jpg\n",
            "Cars71.jpg  Cars76.xml\tCars81.jpg  Cars86.xml\tCars91.jpg  Cars96.xml\n",
            "Cars71.xml  Cars77.jpg\tCars81.xml  Cars87.jpg\tCars91.xml  Cars97.jpg\n",
            "Cars72.jpg  Cars77.xml\tCars82.jpg  Cars87.xml\tCars92.jpg  Cars97.xml\n",
            "Cars72.xml  Cars78.jpg\tCars82.xml  Cars88.jpg\tCars92.xml  Cars98.jpg\n",
            "Cars73.jpg  Cars78.xml\tCars83.jpg  Cars88.xml\tCars93.jpg  Cars98.xml\n",
            "Cars73.xml  Cars79.jpg\tCars83.xml  Cars89.jpg\tCars93.xml  Cars99.jpg\n",
            "Cars74.jpg  Cars79.xml\tCars84.jpg  Cars89.xml\tCars94.jpg  Cars99.xml\n",
            "Cars74.xml  Cars7.jpg\tCars84.xml  Cars8.jpg\tCars94.xml  Cars9.jpg\n",
            "Cars75.jpg  Cars7.xml\tCars85.jpg  Cars8.xml\tCars95.jpg  Cars9.xml\n"
          ]
        }
      ]
    },
    {
      "cell_type": "code",
      "source": [
        "import glob"
      ],
      "metadata": {
        "id": "8ykjrV5BYJ-x"
      },
      "execution_count": 189,
      "outputs": []
    },
    {
      "cell_type": "code",
      "source": [
        "templist = []\n",
        "for img in glob.glob(\"/content/models/research/car-plate-detection/train/\"+\"/*.png\"):\n",
        "    templist.append(img)\n",
        "\n",
        "templist"
      ],
      "metadata": {
        "colab": {
          "base_uri": "https://localhost:8080/"
        },
        "id": "g0CO0Hn5Dgid",
        "outputId": "5d10b5ce-81fb-47ea-818b-c4036ed8f7b7"
      },
      "execution_count": 190,
      "outputs": [
        {
          "output_type": "execute_result",
          "data": {
            "text/plain": [
              "[]"
            ]
          },
          "metadata": {},
          "execution_count": 190
        }
      ]
    },
    {
      "cell_type": "code",
      "source": [
        "import glob\n",
        "import xml.etree.ElementTree as ET\n",
        "import pandas as pd\n",
        "\n",
        "dataset = {\n",
        "        \"filename\": [],\n",
        "        \"width\": [],\n",
        "        \"height\": [],\n",
        "        \"class\": [],\n",
        "        \"xmin\": [],\n",
        "        \"ymin\": [],\n",
        "        \"xmax\": [],\n",
        "        \"ymax\": [],\n",
        "    }\n",
        "\n",
        "path_an = \"./train/\"\n",
        "\n",
        "for anno in glob.glob(path_an+\"/*.xml\"):\n",
        "    tree = ET.parse(anno)\n",
        "\n",
        "    for elem in tree.iter():\n",
        "        if 'size' in elem.tag:\n",
        "            for attr in list(elem):\n",
        "                if 'width' in attr.tag:\n",
        "                    width = int(round(float(attr.text)))\n",
        "                if 'height' in attr.tag:\n",
        "                    height = int(round(float(attr.text)))\n",
        "\n",
        "        if 'object' in elem.tag:\n",
        "            for attr in list(elem):\n",
        "\n",
        "                if 'name' in attr.tag:\n",
        "                    name = attr.text\n",
        "                    dataset['class'] += [name]\n",
        "                    dataset['width'] += [width]\n",
        "                    dataset['height'] += [height]\n",
        "                    dataset['filename'] += [anno.split('/')[-1][0:-4]+'.jpg']\n",
        "\n",
        "                if 'bndbox' in attr.tag:\n",
        "                    for dim in list(attr):\n",
        "                        if 'xmin' in dim.tag:\n",
        "                            xmin = int(round(float(dim.text)))\n",
        "                            dataset['xmin'] += [xmin]\n",
        "                        if 'ymin' in dim.tag:\n",
        "                            ymin = int(round(float(dim.text)))\n",
        "                            dataset['ymin'] += [ymin]\n",
        "                        if 'xmax' in dim.tag:\n",
        "                            xmax = int(round(float(dim.text)))\n",
        "                            dataset['xmax'] += [xmax]\n",
        "                        if 'ymax' in dim.tag:\n",
        "                            ymax = int(round(float(dim.text)))\n",
        "                            dataset['ymax'] += [ymax]\n",
        "    \n",
        "data0 = pd.DataFrame(dataset)\n"
      ],
      "metadata": {
        "id": "FzYP3-AzDnzC"
      },
      "execution_count": 191,
      "outputs": []
    },
    {
      "cell_type": "code",
      "source": [
        "data0.to_csv('./train.csv', index=False)"
      ],
      "metadata": {
        "id": "LjwvRUDlI8er"
      },
      "execution_count": 192,
      "outputs": []
    },
    {
      "cell_type": "code",
      "source": [
        "dataset = {\n",
        "        \"filename\": [],\n",
        "        \"width\": [],\n",
        "        \"height\": [],\n",
        "        \"class\": [],\n",
        "        \"xmin\": [],\n",
        "        \"ymin\": [],\n",
        "        \"xmax\": [],\n",
        "        \"ymax\": [],\n",
        "    }\n",
        "\n",
        "path_an = \"./test/\"\n",
        "\n",
        "for anno in glob.glob(path_an+\"/*.xml\"):\n",
        "    tree = ET.parse(anno)\n",
        "\n",
        "    for elem in tree.iter():\n",
        "        if 'size' in elem.tag:\n",
        "            for attr in list(elem):\n",
        "                if 'width' in attr.tag:\n",
        "                    width = int(round(float(attr.text)))\n",
        "                if 'height' in attr.tag:\n",
        "                    height = int(round(float(attr.text)))\n",
        "\n",
        "        if 'object' in elem.tag:\n",
        "            for attr in list(elem):\n",
        "\n",
        "                if 'name' in attr.tag:\n",
        "                    name = attr.text\n",
        "                    dataset['class'] += [name]\n",
        "                    dataset['width'] += [width]\n",
        "                    dataset['height'] += [height]\n",
        "                    dataset['filename'] += [anno.split('/')[-1][0:-4]+'.jpg']\n",
        "\n",
        "                if 'bndbox' in attr.tag:\n",
        "                    for dim in list(attr):\n",
        "                        if 'xmin' in dim.tag:\n",
        "                            xmin = int(round(float(dim.text)))\n",
        "                            dataset['xmin'] += [xmin]\n",
        "                        if 'ymin' in dim.tag:\n",
        "                            ymin = int(round(float(dim.text)))\n",
        "                            dataset['ymin'] += [ymin]\n",
        "                        if 'xmax' in dim.tag:\n",
        "                            xmax = int(round(float(dim.text)))\n",
        "                            dataset['xmax'] += [xmax]\n",
        "                        if 'ymax' in dim.tag:\n",
        "                            ymax = int(round(float(dim.text)))\n",
        "                            dataset['ymax'] += [ymax]\n",
        "    \n",
        "data1 = pd.DataFrame(dataset)\n"
      ],
      "metadata": {
        "id": "Cj5YAhHQJtSI"
      },
      "execution_count": 193,
      "outputs": []
    },
    {
      "cell_type": "code",
      "source": [
        "data1.to_csv('./test.csv', index=False)"
      ],
      "metadata": {
        "id": "iBAOmaBsJwf_"
      },
      "execution_count": 194,
      "outputs": []
    },
    {
      "cell_type": "code",
      "source": [
        "data0.head(5)"
      ],
      "metadata": {
        "colab": {
          "base_uri": "https://localhost:8080/",
          "height": 206
        },
        "id": "_YLm4d3CQDzC",
        "outputId": "ab3b61b0-debc-438c-82ef-841fb591f9e3"
      },
      "execution_count": 195,
      "outputs": [
        {
          "output_type": "execute_result",
          "data": {
            "text/plain": [
              "      filename  width  height    class  xmin  ymin  xmax  ymax\n",
              "0  Cars243.jpg    600     450  licence   129   174   465   235\n",
              "1  Cars351.jpg    400     225  licence   249    48   368   129\n",
              "2  Cars147.jpg    500     268  licence   226   125   420   169\n",
              "3  Cars223.jpg    600     400  licence   347   231   407   249\n",
              "4  Cars318.jpg    400     225  licence   119   117   263   160"
            ],
            "text/html": [
              "\n",
              "  <div id=\"df-834d0f67-00f6-4219-9b9f-383ef9f23f3a\">\n",
              "    <div class=\"colab-df-container\">\n",
              "      <div>\n",
              "<style scoped>\n",
              "    .dataframe tbody tr th:only-of-type {\n",
              "        vertical-align: middle;\n",
              "    }\n",
              "\n",
              "    .dataframe tbody tr th {\n",
              "        vertical-align: top;\n",
              "    }\n",
              "\n",
              "    .dataframe thead th {\n",
              "        text-align: right;\n",
              "    }\n",
              "</style>\n",
              "<table border=\"1\" class=\"dataframe\">\n",
              "  <thead>\n",
              "    <tr style=\"text-align: right;\">\n",
              "      <th></th>\n",
              "      <th>filename</th>\n",
              "      <th>width</th>\n",
              "      <th>height</th>\n",
              "      <th>class</th>\n",
              "      <th>xmin</th>\n",
              "      <th>ymin</th>\n",
              "      <th>xmax</th>\n",
              "      <th>ymax</th>\n",
              "    </tr>\n",
              "  </thead>\n",
              "  <tbody>\n",
              "    <tr>\n",
              "      <th>0</th>\n",
              "      <td>Cars243.jpg</td>\n",
              "      <td>600</td>\n",
              "      <td>450</td>\n",
              "      <td>licence</td>\n",
              "      <td>129</td>\n",
              "      <td>174</td>\n",
              "      <td>465</td>\n",
              "      <td>235</td>\n",
              "    </tr>\n",
              "    <tr>\n",
              "      <th>1</th>\n",
              "      <td>Cars351.jpg</td>\n",
              "      <td>400</td>\n",
              "      <td>225</td>\n",
              "      <td>licence</td>\n",
              "      <td>249</td>\n",
              "      <td>48</td>\n",
              "      <td>368</td>\n",
              "      <td>129</td>\n",
              "    </tr>\n",
              "    <tr>\n",
              "      <th>2</th>\n",
              "      <td>Cars147.jpg</td>\n",
              "      <td>500</td>\n",
              "      <td>268</td>\n",
              "      <td>licence</td>\n",
              "      <td>226</td>\n",
              "      <td>125</td>\n",
              "      <td>420</td>\n",
              "      <td>169</td>\n",
              "    </tr>\n",
              "    <tr>\n",
              "      <th>3</th>\n",
              "      <td>Cars223.jpg</td>\n",
              "      <td>600</td>\n",
              "      <td>400</td>\n",
              "      <td>licence</td>\n",
              "      <td>347</td>\n",
              "      <td>231</td>\n",
              "      <td>407</td>\n",
              "      <td>249</td>\n",
              "    </tr>\n",
              "    <tr>\n",
              "      <th>4</th>\n",
              "      <td>Cars318.jpg</td>\n",
              "      <td>400</td>\n",
              "      <td>225</td>\n",
              "      <td>licence</td>\n",
              "      <td>119</td>\n",
              "      <td>117</td>\n",
              "      <td>263</td>\n",
              "      <td>160</td>\n",
              "    </tr>\n",
              "  </tbody>\n",
              "</table>\n",
              "</div>\n",
              "      <button class=\"colab-df-convert\" onclick=\"convertToInteractive('df-834d0f67-00f6-4219-9b9f-383ef9f23f3a')\"\n",
              "              title=\"Convert this dataframe to an interactive table.\"\n",
              "              style=\"display:none;\">\n",
              "        \n",
              "  <svg xmlns=\"http://www.w3.org/2000/svg\" height=\"24px\"viewBox=\"0 0 24 24\"\n",
              "       width=\"24px\">\n",
              "    <path d=\"M0 0h24v24H0V0z\" fill=\"none\"/>\n",
              "    <path d=\"M18.56 5.44l.94 2.06.94-2.06 2.06-.94-2.06-.94-.94-2.06-.94 2.06-2.06.94zm-11 1L8.5 8.5l.94-2.06 2.06-.94-2.06-.94L8.5 2.5l-.94 2.06-2.06.94zm10 10l.94 2.06.94-2.06 2.06-.94-2.06-.94-.94-2.06-.94 2.06-2.06.94z\"/><path d=\"M17.41 7.96l-1.37-1.37c-.4-.4-.92-.59-1.43-.59-.52 0-1.04.2-1.43.59L10.3 9.45l-7.72 7.72c-.78.78-.78 2.05 0 2.83L4 21.41c.39.39.9.59 1.41.59.51 0 1.02-.2 1.41-.59l7.78-7.78 2.81-2.81c.8-.78.8-2.07 0-2.86zM5.41 20L4 18.59l7.72-7.72 1.47 1.35L5.41 20z\"/>\n",
              "  </svg>\n",
              "      </button>\n",
              "      \n",
              "  <style>\n",
              "    .colab-df-container {\n",
              "      display:flex;\n",
              "      flex-wrap:wrap;\n",
              "      gap: 12px;\n",
              "    }\n",
              "\n",
              "    .colab-df-convert {\n",
              "      background-color: #E8F0FE;\n",
              "      border: none;\n",
              "      border-radius: 50%;\n",
              "      cursor: pointer;\n",
              "      display: none;\n",
              "      fill: #1967D2;\n",
              "      height: 32px;\n",
              "      padding: 0 0 0 0;\n",
              "      width: 32px;\n",
              "    }\n",
              "\n",
              "    .colab-df-convert:hover {\n",
              "      background-color: #E2EBFA;\n",
              "      box-shadow: 0px 1px 2px rgba(60, 64, 67, 0.3), 0px 1px 3px 1px rgba(60, 64, 67, 0.15);\n",
              "      fill: #174EA6;\n",
              "    }\n",
              "\n",
              "    [theme=dark] .colab-df-convert {\n",
              "      background-color: #3B4455;\n",
              "      fill: #D2E3FC;\n",
              "    }\n",
              "\n",
              "    [theme=dark] .colab-df-convert:hover {\n",
              "      background-color: #434B5C;\n",
              "      box-shadow: 0px 1px 3px 1px rgba(0, 0, 0, 0.15);\n",
              "      filter: drop-shadow(0px 1px 2px rgba(0, 0, 0, 0.3));\n",
              "      fill: #FFFFFF;\n",
              "    }\n",
              "  </style>\n",
              "\n",
              "      <script>\n",
              "        const buttonEl =\n",
              "          document.querySelector('#df-834d0f67-00f6-4219-9b9f-383ef9f23f3a button.colab-df-convert');\n",
              "        buttonEl.style.display =\n",
              "          google.colab.kernel.accessAllowed ? 'block' : 'none';\n",
              "\n",
              "        async function convertToInteractive(key) {\n",
              "          const element = document.querySelector('#df-834d0f67-00f6-4219-9b9f-383ef9f23f3a');\n",
              "          const dataTable =\n",
              "            await google.colab.kernel.invokeFunction('convertToInteractive',\n",
              "                                                     [key], {});\n",
              "          if (!dataTable) return;\n",
              "\n",
              "          const docLinkHtml = 'Like what you see? Visit the ' +\n",
              "            '<a target=\"_blank\" href=https://colab.research.google.com/notebooks/data_table.ipynb>data table notebook</a>'\n",
              "            + ' to learn more about interactive tables.';\n",
              "          element.innerHTML = '';\n",
              "          dataTable['output_type'] = 'display_data';\n",
              "          await google.colab.output.renderOutput(dataTable, element);\n",
              "          const docLink = document.createElement('div');\n",
              "          docLink.innerHTML = docLinkHtml;\n",
              "          element.appendChild(docLink);\n",
              "        }\n",
              "      </script>\n",
              "    </div>\n",
              "  </div>\n",
              "  "
            ]
          },
          "metadata": {},
          "execution_count": 195
        }
      ]
    },
    {
      "cell_type": "code",
      "source": [
        "!dir /content/models/research/car-plate-detection/"
      ],
      "metadata": {
        "colab": {
          "base_uri": "https://localhost:8080/"
        },
        "id": "u-1BDEMjHhng",
        "outputId": "07f77cfe-ca77-4a5c-a56b-7c4daa501b11"
      },
      "execution_count": 196,
      "outputs": [
        {
          "output_type": "stream",
          "name": "stdout",
          "text": [
            "data  test  test.csv  train  train.csv\n"
          ]
        }
      ]
    },
    {
      "cell_type": "markdown",
      "source": [
        "# Create Label Map"
      ],
      "metadata": {
        "id": "uoU1o4MswRsY"
      }
    },
    {
      "cell_type": "code",
      "source": [
        "!pwd"
      ],
      "metadata": {
        "colab": {
          "base_uri": "https://localhost:8080/"
        },
        "id": "ZlJaJ2SNYTSy",
        "outputId": "7cfa4c6a-200c-4728-9b47-8c411bf807b7"
      },
      "execution_count": 197,
      "outputs": [
        {
          "output_type": "stream",
          "name": "stdout",
          "text": [
            "/content/models/research/car-plate-detection\n"
          ]
        }
      ]
    },
    {
      "cell_type": "code",
      "source": [
        "os.chdir('../')"
      ],
      "metadata": {
        "id": "AXCSrNxxzn2r"
      },
      "execution_count": 198,
      "outputs": []
    },
    {
      "cell_type": "code",
      "source": [
        "!wget https://raw.githubusercontent.com/TannerGilbert/Tensorflow-Object-Detection-API-Train-Model/master/training/labelmap.pbtxt"
      ],
      "metadata": {
        "id": "Os3d6h1Gxw7Z",
        "colab": {
          "base_uri": "https://localhost:8080/"
        },
        "outputId": "a9d230c8-013a-48d1-956e-35606120ec03"
      },
      "execution_count": 199,
      "outputs": [
        {
          "output_type": "stream",
          "name": "stdout",
          "text": [
            "--2022-05-29 13:19:13--  https://raw.githubusercontent.com/TannerGilbert/Tensorflow-Object-Detection-API-Train-Model/master/training/labelmap.pbtxt\n",
            "Resolving raw.githubusercontent.com (raw.githubusercontent.com)... 185.199.108.133, 185.199.109.133, 185.199.110.133, ...\n",
            "Connecting to raw.githubusercontent.com (raw.githubusercontent.com)|185.199.108.133|:443... connected.\n",
            "HTTP request sent, awaiting response... 200 OK\n",
            "Length: 177 [text/plain]\n",
            "Saving to: ‘labelmap.pbtxt.1’\n",
            "\n",
            "labelmap.pbtxt.1    100%[===================>]     177  --.-KB/s    in 0s      \n",
            "\n",
            "2022-05-29 13:19:13 (5.97 MB/s) - ‘labelmap.pbtxt.1’ saved [177/177]\n",
            "\n"
          ]
        }
      ]
    },
    {
      "cell_type": "code",
      "source": [
        "labels = [{'name':'licence', 'id':1}]\n",
        "\n",
        "with open(\"./labelmap.pbtxt\", 'w') as f:\n",
        "    for label in labels:\n",
        "        f.write('item { \\n')\n",
        "        f.write('\\tname:\\'{}\\'\\n'.format(label['name']))\n",
        "        f.write('\\tid:{}\\n'.format(label['id']))\n",
        "        f.write('}\\n')"
      ],
      "metadata": {
        "id": "wMxFJrpNwuMT"
      },
      "execution_count": 200,
      "outputs": []
    },
    {
      "cell_type": "code",
      "source": [
        "%cat labelmap.pbtxt"
      ],
      "metadata": {
        "id": "sGYLd82-x6Lx",
        "colab": {
          "base_uri": "https://localhost:8080/"
        },
        "outputId": "c019bc69-8f90-4283-868d-8e4a21bb4a44"
      },
      "execution_count": 201,
      "outputs": [
        {
          "output_type": "stream",
          "name": "stdout",
          "text": [
            "item { \n",
            "\tname:'licence'\n",
            "\tid:1\n",
            "}\n"
          ]
        }
      ]
    },
    {
      "cell_type": "markdown",
      "source": [
        "# Generated Record"
      ],
      "metadata": {
        "id": "P7BQYu651j9m"
      }
    },
    {
      "cell_type": "code",
      "source": [
        "IMAGE_PATH = './content/models/research/car-plate-detection/'\n",
        "LABEL_MAP_PATH = './content/models/research/labelmap.pbtxt'"
      ],
      "metadata": {
        "id": "fTH6X5BAyxxz"
      },
      "execution_count": 202,
      "outputs": []
    },
    {
      "cell_type": "code",
      "source": [
        "os.chdir('/content/models/research/')"
      ],
      "metadata": {
        "id": "7T5wie5ZMVCC"
      },
      "execution_count": 203,
      "outputs": []
    },
    {
      "cell_type": "code",
      "source": [
        "!pwd"
      ],
      "metadata": {
        "colab": {
          "base_uri": "https://localhost:8080/"
        },
        "id": "dNCeuk2JTCeU",
        "outputId": "97665a39-6775-478a-e61b-f9a22c9b3832"
      },
      "execution_count": 204,
      "outputs": [
        {
          "output_type": "stream",
          "name": "stdout",
          "text": [
            "/content/models/research\n"
          ]
        }
      ]
    },
    {
      "cell_type": "code",
      "source": [
        "!python generate_tfrecord.py --csv_input=car-plate-detection/train.csv --image_dir=car-plate-detection/train --output_path=train.record\n",
        "!python generate_tfrecord.py --csv_input=car-plate-detection/test.csv --image_dir=car-plate-detection/test --output_path=test.record"
      ],
      "metadata": {
        "colab": {
          "base_uri": "https://localhost:8080/"
        },
        "id": "1dtBPIKsLtSz",
        "outputId": "6bac8069-6e1d-4323-c267-94493eb1d659"
      },
      "execution_count": 205,
      "outputs": [
        {
          "output_type": "stream",
          "name": "stdout",
          "text": [
            "2022-05-29 13:19:56.628821: E tensorflow/stream_executor/cuda/cuda_driver.cc:271] failed call to cuInit: CUDA_ERROR_NO_DEVICE: no CUDA-capable device is detected\n",
            "Successfully created the TFRecords: /content/models/research/train.record\n",
            "2022-05-29 13:20:01.174392: E tensorflow/stream_executor/cuda/cuda_driver.cc:271] failed call to cuInit: CUDA_ERROR_NO_DEVICE: no CUDA-capable device is detected\n",
            "Successfully created the TFRecords: /content/models/research/test.record\n"
          ]
        }
      ]
    },
    {
      "cell_type": "markdown",
      "source": [
        "# Custom Configuration"
      ],
      "metadata": {
        "id": "L3Vv7XaH1ob8"
      }
    },
    {
      "cell_type": "code",
      "source": [
        "train_record_path = 'train.record'\n",
        "test_record_path = 'test.record'\n",
        "labelmap_path = './labelmap.pbtxt'"
      ],
      "metadata": {
        "id": "O_Lb8fJmoHri"
      },
      "execution_count": 206,
      "outputs": []
    },
    {
      "cell_type": "code",
      "source": [
        "batch_size = 8\n",
        "num_steps = 8000\n",
        "num_eval_steps = 1000"
      ],
      "metadata": {
        "id": "sqJvvhN3znru"
      },
      "execution_count": 207,
      "outputs": []
    },
    {
      "cell_type": "code",
      "source": [
        "%ls ssd_mobilenet_v2_fpnlite_640x640_coco17_tpu-8/"
      ],
      "metadata": {
        "colab": {
          "base_uri": "https://localhost:8080/"
        },
        "id": "MVPweMNCz5P2",
        "outputId": "9bb26b24-7b72-4592-b157-4e9c0261579b"
      },
      "execution_count": 208,
      "outputs": [
        {
          "output_type": "stream",
          "name": "stdout",
          "text": [
            "\u001b[0m\u001b[01;34mcheckpoint\u001b[0m/  pipeline.config  \u001b[01;34msaved_model\u001b[0m/\n"
          ]
        }
      ]
    },
    {
      "cell_type": "code",
      "source": [
        "!wget https://raw.githubusercontent.com/tensorflow/models/master/research/object_detection/configs/tf2/ssd_mobilenet_v2_fpnlite_640x640_coco17_tpu-8.config"
      ],
      "metadata": {
        "colab": {
          "base_uri": "https://localhost:8080/"
        },
        "id": "RUvYMy9K1MLt",
        "outputId": "3fcc9dfd-c52b-4a64-c1c3-eb7ebc070a70"
      },
      "execution_count": 220,
      "outputs": [
        {
          "output_type": "stream",
          "name": "stdout",
          "text": [
            "--2022-05-29 13:28:50--  https://raw.githubusercontent.com/tensorflow/models/master/research/object_detection/configs/tf2/ssd_mobilenet_v2_fpnlite_640x640_coco17_tpu-8.config\n",
            "Resolving raw.githubusercontent.com (raw.githubusercontent.com)... 185.199.108.133, 185.199.109.133, 185.199.110.133, ...\n",
            "Connecting to raw.githubusercontent.com (raw.githubusercontent.com)|185.199.108.133|:443... connected.\n",
            "HTTP request sent, awaiting response... 200 OK\n",
            "Length: 4684 (4.6K) [text/plain]\n",
            "Saving to: ‘ssd_mobilenet_v2_fpnlite_640x640_coco17_tpu-8.config’\n",
            "\n",
            "\r          ssd_mobil   0%[                    ]       0  --.-KB/s               \rssd_mobilenet_v2_fp 100%[===================>]   4.57K  --.-KB/s    in 0s      \n",
            "\n",
            "2022-05-29 13:28:50 (40.5 MB/s) - ‘ssd_mobilenet_v2_fpnlite_640x640_coco17_tpu-8.config’ saved [4684/4684]\n",
            "\n"
          ]
        }
      ]
    },
    {
      "cell_type": "code",
      "source": [
        "fine_tune_checkpoint = 'ssd_mobilenet_v2_fpnlite_640x640_coco17_tpu-8/checkpoint/ckpt-0'\n",
        "base_config_path = 'ssd_mobilenet_v2_fpnlite_640x640_coco17_tpu-8.config'"
      ],
      "metadata": {
        "id": "Y8MmPgqd0UES"
      },
      "execution_count": 221,
      "outputs": []
    },
    {
      "cell_type": "code",
      "source": [
        "import re\n",
        "\n",
        "with open(base_config_path) as f:\n",
        "    config = f.read()\n",
        "\n",
        "with open('model_config.config', 'w') as f:\n",
        "  \n",
        "  # Set labelmap path\n",
        "  config = re.sub('label_map_path: \".*?\"', \n",
        "             'label_map_path: \"{}\"'.format(labelmap_path), config)\n",
        "  \n",
        "  # Set fine_tune_checkpoint path\n",
        "  config = re.sub('fine_tune_checkpoint: \".*?\"',\n",
        "                  'fine_tune_checkpoint: \"{}\"'.format(fine_tune_checkpoint), config)\n",
        "  \n",
        "  # Set train tf-record file path\n",
        "  config = re.sub('(input_path: \".*?)(PATH_TO_BE_CONFIGURED/train)(.*?\")', \n",
        "                  'input_path: \"{}\"'.format(train_record_path), config)\n",
        "  \n",
        "  # Set test tf-record file path\n",
        "  config = re.sub('(input_path: \".*?)(PATH_TO_BE_CONFIGURED/val)(.*?\")', \n",
        "                  'input_path: \"{}\"'.format(test_record_path), config)\n",
        "  \n",
        "  # Set number of classes.\n",
        "  config = re.sub('num_classes: [0-9]+',\n",
        "                  'num_classes: {}'.format(1), config)\n",
        "  \n",
        "  # Set batch size\n",
        "  config = re.sub('batch_size: [0-9]+',\n",
        "                  'batch_size: {}'.format(batch_size), config)\n",
        "  \n",
        "  # Set training steps\n",
        "  config = re.sub('num_steps: [0-9]+',\n",
        "                  'num_steps: {}'.format(num_steps), config)\n",
        "  \n",
        "  # Set fine-tune checkpoint type to detection\n",
        "  config = re.sub('fine_tune_checkpoint_type: \"classification\"', \n",
        "             'fine_tune_checkpoint_type: \"{}\"'.format('detection'), config)\n",
        "  \n",
        "  f.write(config)"
      ],
      "metadata": {
        "id": "6GD_7OcW0jkU"
      },
      "execution_count": 222,
      "outputs": []
    },
    {
      "cell_type": "code",
      "source": [
        "%cat model_config.config"
      ],
      "metadata": {
        "colab": {
          "base_uri": "https://localhost:8080/"
        },
        "id": "UNXO1vKL046b",
        "outputId": "89d1eb65-4bcc-47e8-cbe2-af42f8fdb587"
      },
      "execution_count": 223,
      "outputs": [
        {
          "output_type": "stream",
          "name": "stdout",
          "text": [
            "# SSD with Mobilenet v2 FPN-lite (go/fpn-lite) feature extractor, shared box\n",
            "# predictor and focal loss (a mobile version of Retinanet).\n",
            "# Retinanet: see Lin et al, https://arxiv.org/abs/1708.02002\n",
            "# Trained on COCO, initialized from Imagenet classification checkpoint\n",
            "# Train on TPU-8\n",
            "#\n",
            "# Achieves 28.2 mAP on COCO17 Val\n",
            "\n",
            "model {\n",
            "  ssd {\n",
            "    inplace_batchnorm_update: true\n",
            "    freeze_batchnorm: false\n",
            "    num_classes: 1\n",
            "    box_coder {\n",
            "      faster_rcnn_box_coder {\n",
            "        y_scale: 10.0\n",
            "        x_scale: 10.0\n",
            "        height_scale: 5.0\n",
            "        width_scale: 5.0\n",
            "      }\n",
            "    }\n",
            "    matcher {\n",
            "      argmax_matcher {\n",
            "        matched_threshold: 0.5\n",
            "        unmatched_threshold: 0.5\n",
            "        ignore_thresholds: false\n",
            "        negatives_lower_than_unmatched: true\n",
            "        force_match_for_each_row: true\n",
            "        use_matmul_gather: true\n",
            "      }\n",
            "    }\n",
            "    similarity_calculator {\n",
            "      iou_similarity {\n",
            "      }\n",
            "    }\n",
            "    encode_background_as_zeros: true\n",
            "    anchor_generator {\n",
            "      multiscale_anchor_generator {\n",
            "        min_level: 3\n",
            "        max_level: 7\n",
            "        anchor_scale: 4.0\n",
            "        aspect_ratios: [1.0, 2.0, 0.5]\n",
            "        scales_per_octave: 2\n",
            "      }\n",
            "    }\n",
            "    image_resizer {\n",
            "      fixed_shape_resizer {\n",
            "        height: 640\n",
            "        width: 640\n",
            "      }\n",
            "    }\n",
            "    box_predictor {\n",
            "      weight_shared_convolutional_box_predictor {\n",
            "        depth: 128\n",
            "        class_prediction_bias_init: -4.6\n",
            "        conv_hyperparams {\n",
            "          activation: RELU_6,\n",
            "          regularizer {\n",
            "            l2_regularizer {\n",
            "              weight: 0.00004\n",
            "            }\n",
            "          }\n",
            "          initializer {\n",
            "            random_normal_initializer {\n",
            "              stddev: 0.01\n",
            "              mean: 0.0\n",
            "            }\n",
            "          }\n",
            "          batch_norm {\n",
            "            scale: true,\n",
            "            decay: 0.997,\n",
            "            epsilon: 0.001,\n",
            "          }\n",
            "        }\n",
            "        num_layers_before_predictor: 4\n",
            "        share_prediction_tower: true\n",
            "        use_depthwise: true\n",
            "        kernel_size: 3\n",
            "      }\n",
            "    }\n",
            "    feature_extractor {\n",
            "      type: 'ssd_mobilenet_v2_fpn_keras'\n",
            "      use_depthwise: true\n",
            "      fpn {\n",
            "        min_level: 3\n",
            "        max_level: 7\n",
            "        additional_layer_depth: 128\n",
            "      }\n",
            "      min_depth: 16\n",
            "      depth_multiplier: 1.0\n",
            "      conv_hyperparams {\n",
            "        activation: RELU_6,\n",
            "        regularizer {\n",
            "          l2_regularizer {\n",
            "            weight: 0.00004\n",
            "          }\n",
            "        }\n",
            "        initializer {\n",
            "          random_normal_initializer {\n",
            "            stddev: 0.01\n",
            "            mean: 0.0\n",
            "          }\n",
            "        }\n",
            "        batch_norm {\n",
            "          scale: true,\n",
            "          decay: 0.997,\n",
            "          epsilon: 0.001,\n",
            "        }\n",
            "      }\n",
            "      override_base_feature_extractor_hyperparams: true\n",
            "    }\n",
            "    loss {\n",
            "      classification_loss {\n",
            "        weighted_sigmoid_focal {\n",
            "          alpha: 0.25\n",
            "          gamma: 2.0\n",
            "        }\n",
            "      }\n",
            "      localization_loss {\n",
            "        weighted_smooth_l1 {\n",
            "        }\n",
            "      }\n",
            "      classification_weight: 1.0\n",
            "      localization_weight: 1.0\n",
            "    }\n",
            "    normalize_loss_by_num_matches: true\n",
            "    normalize_loc_loss_by_codesize: true\n",
            "    post_processing {\n",
            "      batch_non_max_suppression {\n",
            "        score_threshold: 1e-8\n",
            "        iou_threshold: 0.6\n",
            "        max_detections_per_class: 100\n",
            "        max_total_detections: 100\n",
            "      }\n",
            "      score_converter: SIGMOID\n",
            "    }\n",
            "  }\n",
            "}\n",
            "\n",
            "train_config: {\n",
            "  fine_tune_checkpoint_version: V2\n",
            "  fine_tune_checkpoint: \"ssd_mobilenet_v2_fpnlite_640x640_coco17_tpu-8/checkpoint/ckpt-0\"\n",
            "  fine_tune_checkpoint_type: \"detection\"\n",
            "  batch_size: 8\n",
            "  sync_replicas: true\n",
            "  startup_delay_steps: 0\n",
            "  replicas_to_aggregate: 8\n",
            "  num_steps: 8000\n",
            "  data_augmentation_options {\n",
            "    random_horizontal_flip {\n",
            "    }\n",
            "  }\n",
            "  data_augmentation_options {\n",
            "    random_crop_image {\n",
            "      min_object_covered: 0.0\n",
            "      min_aspect_ratio: 0.75\n",
            "      max_aspect_ratio: 3.0\n",
            "      min_area: 0.75\n",
            "      max_area: 1.0\n",
            "      overlap_thresh: 0.0\n",
            "    }\n",
            "  }\n",
            "  optimizer {\n",
            "    momentum_optimizer: {\n",
            "      learning_rate: {\n",
            "        cosine_decay_learning_rate {\n",
            "          learning_rate_base: .08\n",
            "          total_steps: 50000\n",
            "          warmup_learning_rate: .026666\n",
            "          warmup_steps: 1000\n",
            "        }\n",
            "      }\n",
            "      momentum_optimizer_value: 0.9\n",
            "    }\n",
            "    use_moving_average: false\n",
            "  }\n",
            "  max_number_of_boxes: 100\n",
            "  unpad_groundtruth_tensors: false\n",
            "}\n",
            "\n",
            "train_input_reader: {\n",
            "  label_map_path: \"./labelmap.pbtxt\"\n",
            "  tf_record_input_reader {\n",
            "    input_path: \"train.record\"\n",
            "  }\n",
            "}\n",
            "\n",
            "eval_config: {\n",
            "  metrics_set: \"coco_detection_metrics\"\n",
            "  use_moving_averages: false\n",
            "}\n",
            "\n",
            "eval_input_reader: {\n",
            "  label_map_path: \"./labelmap.pbtxt\"\n",
            "  shuffle: false\n",
            "  num_epochs: 1\n",
            "  tf_record_input_reader {\n",
            "    input_path: \"test.record\"\n",
            "  }\n",
            "}\n",
            "\n"
          ]
        }
      ]
    },
    {
      "cell_type": "code",
      "source": [
        "!mkdir training"
      ],
      "metadata": {
        "colab": {
          "base_uri": "https://localhost:8080/"
        },
        "id": "DjQo5ida_b09",
        "outputId": "16baec85-b898-4126-deeb-4834e4edde9e"
      },
      "execution_count": 224,
      "outputs": [
        {
          "output_type": "stream",
          "name": "stdout",
          "text": [
            "mkdir: cannot create directory ‘training’: File exists\n"
          ]
        }
      ]
    },
    {
      "cell_type": "code",
      "source": [
        "model_dir = 'training/'\n",
        "pipeline_config_path = './model_config.config'"
      ],
      "metadata": {
        "id": "r_6EYjdm1dqZ"
      },
      "execution_count": 225,
      "outputs": []
    },
    {
      "cell_type": "code",
      "source": [
        "os.getcwd()"
      ],
      "metadata": {
        "colab": {
          "base_uri": "https://localhost:8080/",
          "height": 36
        },
        "id": "KwT9os-D_RAs",
        "outputId": "4ba81cf9-72c7-4428-9d53-14a8d8071360"
      },
      "execution_count": 226,
      "outputs": [
        {
          "output_type": "execute_result",
          "data": {
            "text/plain": [
              "'/content/models/research'"
            ],
            "application/vnd.google.colaboratory.intrinsic+json": {
              "type": "string"
            }
          },
          "metadata": {},
          "execution_count": 226
        }
      ]
    },
    {
      "cell_type": "markdown",
      "source": [
        "# Train the detector"
      ],
      "metadata": {
        "id": "h3-xM8Ng166v"
      }
    },
    {
      "cell_type": "code",
      "source": [
        "!python /content/models/research/object_detection/model_main_tf2.py \\\n",
        "    --pipeline_config_path={pipeline_config_path} \\\n",
        "    --model_dir={model_dir} \\\n",
        "    --alsologtostderr \\\n",
        "    --num_train_steps={num_steps} \\\n",
        "    --sample_1_of_n_eval_examples=1 \\\n",
        "    --num_eval_steps={num_eval_steps}"
      ],
      "metadata": {
        "colab": {
          "base_uri": "https://localhost:8080/"
        },
        "id": "qvXOEyHB16ox",
        "outputId": "48544352-8a5e-4074-aeff-521ca484e2f4"
      },
      "execution_count": 227,
      "outputs": [
        {
          "output_type": "stream",
          "name": "stdout",
          "text": [
            "2022-05-29 13:32:01.187275: E tensorflow/stream_executor/cuda/cuda_driver.cc:271] failed call to cuInit: CUDA_ERROR_NO_DEVICE: no CUDA-capable device is detected\n",
            "WARNING:tensorflow:There are non-GPU devices in `tf.distribute.Strategy`, not using nccl allreduce.\n",
            "W0529 13:32:01.189289 140422613579648 cross_device_ops.py:1386] There are non-GPU devices in `tf.distribute.Strategy`, not using nccl allreduce.\n",
            "INFO:tensorflow:Using MirroredStrategy with devices ('/job:localhost/replica:0/task:0/device:CPU:0',)\n",
            "I0529 13:32:01.194040 140422613579648 mirrored_strategy.py:374] Using MirroredStrategy with devices ('/job:localhost/replica:0/task:0/device:CPU:0',)\n",
            "INFO:tensorflow:Maybe overwriting train_steps: 8000\n",
            "I0529 13:32:01.198751 140422613579648 config_util.py:552] Maybe overwriting train_steps: 8000\n",
            "INFO:tensorflow:Maybe overwriting use_bfloat16: False\n",
            "I0529 13:32:01.198994 140422613579648 config_util.py:552] Maybe overwriting use_bfloat16: False\n",
            "WARNING:tensorflow:From /usr/local/lib/python3.7/dist-packages/object_detection/model_lib_v2.py:564: StrategyBase.experimental_distribute_datasets_from_function (from tensorflow.python.distribute.distribute_lib) is deprecated and will be removed in a future version.\n",
            "Instructions for updating:\n",
            "rename to distribute_datasets_from_function\n",
            "W0529 13:32:01.404397 140422613579648 deprecation.py:356] From /usr/local/lib/python3.7/dist-packages/object_detection/model_lib_v2.py:564: StrategyBase.experimental_distribute_datasets_from_function (from tensorflow.python.distribute.distribute_lib) is deprecated and will be removed in a future version.\n",
            "Instructions for updating:\n",
            "rename to distribute_datasets_from_function\n",
            "INFO:tensorflow:Reading unweighted datasets: ['train.record']\n",
            "I0529 13:32:01.409459 140422613579648 dataset_builder.py:162] Reading unweighted datasets: ['train.record']\n",
            "INFO:tensorflow:Reading record datasets for input file: ['train.record']\n",
            "I0529 13:32:01.414237 140422613579648 dataset_builder.py:79] Reading record datasets for input file: ['train.record']\n",
            "INFO:tensorflow:Number of filenames to read: 1\n",
            "I0529 13:32:01.414599 140422613579648 dataset_builder.py:80] Number of filenames to read: 1\n",
            "WARNING:tensorflow:num_readers has been reduced to 1 to match input file shards.\n",
            "W0529 13:32:01.414675 140422613579648 dataset_builder.py:87] num_readers has been reduced to 1 to match input file shards.\n",
            "WARNING:tensorflow:From /usr/local/lib/python3.7/dist-packages/object_detection/builders/dataset_builder.py:104: parallel_interleave (from tensorflow.python.data.experimental.ops.interleave_ops) is deprecated and will be removed in a future version.\n",
            "Instructions for updating:\n",
            "Use `tf.data.Dataset.interleave(map_func, cycle_length, block_length, num_parallel_calls=tf.data.AUTOTUNE)` instead. If sloppy execution is desired, use `tf.data.Options.deterministic`.\n",
            "W0529 13:32:01.444895 140422613579648 deprecation.py:356] From /usr/local/lib/python3.7/dist-packages/object_detection/builders/dataset_builder.py:104: parallel_interleave (from tensorflow.python.data.experimental.ops.interleave_ops) is deprecated and will be removed in a future version.\n",
            "Instructions for updating:\n",
            "Use `tf.data.Dataset.interleave(map_func, cycle_length, block_length, num_parallel_calls=tf.data.AUTOTUNE)` instead. If sloppy execution is desired, use `tf.data.Options.deterministic`.\n",
            "WARNING:tensorflow:From /usr/local/lib/python3.7/dist-packages/object_detection/builders/dataset_builder.py:236: DatasetV1.map_with_legacy_function (from tensorflow.python.data.ops.dataset_ops) is deprecated and will be removed in a future version.\n",
            "Instructions for updating:\n",
            "Use `tf.data.Dataset.map()\n",
            "W0529 13:32:01.569952 140422613579648 deprecation.py:356] From /usr/local/lib/python3.7/dist-packages/object_detection/builders/dataset_builder.py:236: DatasetV1.map_with_legacy_function (from tensorflow.python.data.ops.dataset_ops) is deprecated and will be removed in a future version.\n",
            "Instructions for updating:\n",
            "Use `tf.data.Dataset.map()\n",
            "WARNING:tensorflow:From /usr/local/lib/python3.7/dist-packages/tensorflow/python/util/dispatch.py:1082: sparse_to_dense (from tensorflow.python.ops.sparse_ops) is deprecated and will be removed in a future version.\n",
            "Instructions for updating:\n",
            "Create a `tf.sparse.SparseTensor` and use `tf.sparse.to_dense` instead.\n",
            "W0529 13:32:10.327152 140422613579648 deprecation.py:356] From /usr/local/lib/python3.7/dist-packages/tensorflow/python/util/dispatch.py:1082: sparse_to_dense (from tensorflow.python.ops.sparse_ops) is deprecated and will be removed in a future version.\n",
            "Instructions for updating:\n",
            "Create a `tf.sparse.SparseTensor` and use `tf.sparse.to_dense` instead.\n",
            "WARNING:tensorflow:From /usr/local/lib/python3.7/dist-packages/tensorflow/python/util/dispatch.py:1082: sample_distorted_bounding_box (from tensorflow.python.ops.image_ops_impl) is deprecated and will be removed in a future version.\n",
            "Instructions for updating:\n",
            "`seed2` arg is deprecated.Use sample_distorted_bounding_box_v2 instead.\n",
            "W0529 13:32:14.032814 140422613579648 deprecation.py:356] From /usr/local/lib/python3.7/dist-packages/tensorflow/python/util/dispatch.py:1082: sample_distorted_bounding_box (from tensorflow.python.ops.image_ops_impl) is deprecated and will be removed in a future version.\n",
            "Instructions for updating:\n",
            "`seed2` arg is deprecated.Use sample_distorted_bounding_box_v2 instead.\n",
            "WARNING:tensorflow:From /usr/local/lib/python3.7/dist-packages/tensorflow/python/util/dispatch.py:1082: to_float (from tensorflow.python.ops.math_ops) is deprecated and will be removed in a future version.\n",
            "Instructions for updating:\n",
            "Use `tf.cast` instead.\n",
            "W0529 13:32:16.196971 140422613579648 deprecation.py:356] From /usr/local/lib/python3.7/dist-packages/tensorflow/python/util/dispatch.py:1082: to_float (from tensorflow.python.ops.math_ops) is deprecated and will be removed in a future version.\n",
            "Instructions for updating:\n",
            "Use `tf.cast` instead.\n",
            "2022-05-29 13:32:20.063933: W tensorflow/core/framework/dataset.cc:768] Input of GeneratorDatasetOp::Dataset will not be optimized because the dataset does not implement the AsGraphDefInternal() method needed to apply optimizations.\n",
            "/usr/local/lib/python3.7/dist-packages/keras/backend.py:450: UserWarning: `tf.keras.backend.set_learning_phase` is deprecated and will be removed after 2020-10-11. To update it, simply pass a True/False value to the `training` argument of the `__call__` method of your layer or model.\n",
            "  warnings.warn('`tf.keras.backend.set_learning_phase` is deprecated and '\n",
            "2022-05-29 13:32:54.449877: W tensorflow/core/framework/dataset.cc:768] Input of GeneratorDatasetOp::Dataset will not be optimized because the dataset does not implement the AsGraphDefInternal() method needed to apply optimizations.\n",
            "WARNING:tensorflow:From /usr/local/lib/python3.7/dist-packages/tensorflow/python/util/deprecation.py:629: calling map_fn_v2 (from tensorflow.python.ops.map_fn) with dtype is deprecated and will be removed in a future version.\n",
            "Instructions for updating:\n",
            "Use fn_output_signature instead\n",
            "W0529 13:32:55.441702 140420220991232 deprecation.py:560] From /usr/local/lib/python3.7/dist-packages/tensorflow/python/util/deprecation.py:629: calling map_fn_v2 (from tensorflow.python.ops.map_fn) with dtype is deprecated and will be removed in a future version.\n",
            "Instructions for updating:\n",
            "Use fn_output_signature instead\n",
            "^C\n"
          ]
        }
      ]
    },
    {
      "cell_type": "code",
      "source": [
        ""
      ],
      "metadata": {
        "id": "ZhNh9qdN10Ld"
      },
      "execution_count": null,
      "outputs": []
    }
  ]
}