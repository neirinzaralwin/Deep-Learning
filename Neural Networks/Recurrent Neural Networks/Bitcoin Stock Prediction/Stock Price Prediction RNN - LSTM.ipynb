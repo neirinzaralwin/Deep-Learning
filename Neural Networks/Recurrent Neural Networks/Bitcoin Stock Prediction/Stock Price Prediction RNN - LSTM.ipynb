{
 "cells": [
  {
   "cell_type": "markdown",
   "id": "34e1d64b",
   "metadata": {},
   "source": [
    "# Stock Prediction Using RNN's Long short-term memory"
   ]
  },
  {
   "cell_type": "markdown",
   "id": "cfd2ec46",
   "metadata": {},
   "source": [
    "I will use <a href = \"https://pydata.github.io/pandas-datareader/remote_data.html\"> pandas_datareader </a> to read stock price from the populer websites because it can be inserted API keys."
   ]
  },
  {
   "cell_type": "markdown",
   "id": "29fb3c3b",
   "metadata": {},
   "source": [
    "<h2> Steps </h2>"
   ]
  },
  {
   "cell_type": "markdown",
   "id": "eb27d40c",
   "metadata": {},
   "source": [
    "- Data Collection\n",
    "- Data Preprocessing (Split Train Test)\n",
    "- Model Creation\n",
    "- Testing\n",
    "- Predict future 30 days and plot the output"
   ]
  },
  {
   "cell_type": "markdown",
   "id": "ab07fb13",
   "metadata": {},
   "source": [
    "### Data Collection"
   ]
  },
  {
   "cell_type": "code",
   "execution_count": 1,
   "id": "8d2f570f",
   "metadata": {},
   "outputs": [],
   "source": [
    "import pandas_datareader.data as web\n",
    "import pandas as pd\n",
    "import matplotlib.pyplot as plt\n",
    "import numpy as np\n",
    "from sklearn.preprocessing import MinMaxScaler\n",
    "import tensorflow as tf"
   ]
  },
  {
   "cell_type": "code",
   "execution_count": 3,
   "id": "2204db5e",
   "metadata": {},
   "outputs": [],
   "source": [
    "df = web.DataReader('BTC-USD', 'yahoo', start='2019-2-2', end='2022-2-2')"
   ]
  },
  {
   "cell_type": "code",
   "execution_count": 4,
   "id": "a2d41f33",
   "metadata": {},
   "outputs": [],
   "source": [
    "df = df.reset_index()"
   ]
  },
  {
   "cell_type": "code",
   "execution_count": 5,
   "id": "e3bae8e3",
   "metadata": {},
   "outputs": [
    {
     "data": {
      "text/html": [
       "<div>\n",
       "<style scoped>\n",
       "    .dataframe tbody tr th:only-of-type {\n",
       "        vertical-align: middle;\n",
       "    }\n",
       "\n",
       "    .dataframe tbody tr th {\n",
       "        vertical-align: top;\n",
       "    }\n",
       "\n",
       "    .dataframe thead th {\n",
       "        text-align: right;\n",
       "    }\n",
       "</style>\n",
       "<table border=\"1\" class=\"dataframe\">\n",
       "  <thead>\n",
       "    <tr style=\"text-align: right;\">\n",
       "      <th></th>\n",
       "      <th>Date</th>\n",
       "      <th>High</th>\n",
       "      <th>Low</th>\n",
       "      <th>Open</th>\n",
       "      <th>Close</th>\n",
       "      <th>Volume</th>\n",
       "      <th>Adj Close</th>\n",
       "    </tr>\n",
       "  </thead>\n",
       "  <tbody>\n",
       "    <tr>\n",
       "      <th>0</th>\n",
       "      <td>2019-02-01</td>\n",
       "      <td>3501.954102</td>\n",
       "      <td>3431.591553</td>\n",
       "      <td>3460.547119</td>\n",
       "      <td>3487.945312</td>\n",
       "      <td>5422926707</td>\n",
       "      <td>3487.945312</td>\n",
       "    </tr>\n",
       "    <tr>\n",
       "      <th>1</th>\n",
       "      <td>2019-02-02</td>\n",
       "      <td>3523.287354</td>\n",
       "      <td>3467.574707</td>\n",
       "      <td>3484.625977</td>\n",
       "      <td>3521.060791</td>\n",
       "      <td>5071623601</td>\n",
       "      <td>3521.060791</td>\n",
       "    </tr>\n",
       "    <tr>\n",
       "      <th>2</th>\n",
       "      <td>2019-02-03</td>\n",
       "      <td>3521.388184</td>\n",
       "      <td>3447.924316</td>\n",
       "      <td>3516.139648</td>\n",
       "      <td>3464.013428</td>\n",
       "      <td>5043937584</td>\n",
       "      <td>3464.013428</td>\n",
       "    </tr>\n",
       "    <tr>\n",
       "      <th>3</th>\n",
       "      <td>2019-02-04</td>\n",
       "      <td>3476.223877</td>\n",
       "      <td>3442.586914</td>\n",
       "      <td>3467.211670</td>\n",
       "      <td>3459.154053</td>\n",
       "      <td>5332718886</td>\n",
       "      <td>3459.154053</td>\n",
       "    </tr>\n",
       "    <tr>\n",
       "      <th>4</th>\n",
       "      <td>2019-02-05</td>\n",
       "      <td>3478.148193</td>\n",
       "      <td>3451.937012</td>\n",
       "      <td>3454.950928</td>\n",
       "      <td>3466.357422</td>\n",
       "      <td>5227549545</td>\n",
       "      <td>3466.357422</td>\n",
       "    </tr>\n",
       "    <tr>\n",
       "      <th>...</th>\n",
       "      <td>...</td>\n",
       "      <td>...</td>\n",
       "      <td>...</td>\n",
       "      <td>...</td>\n",
       "      <td>...</td>\n",
       "      <td>...</td>\n",
       "      <td>...</td>\n",
       "    </tr>\n",
       "    <tr>\n",
       "      <th>1093</th>\n",
       "      <td>2022-01-29</td>\n",
       "      <td>38576.261719</td>\n",
       "      <td>37406.472656</td>\n",
       "      <td>37780.714844</td>\n",
       "      <td>38138.179688</td>\n",
       "      <td>17194183075</td>\n",
       "      <td>38138.179688</td>\n",
       "    </tr>\n",
       "    <tr>\n",
       "      <th>1094</th>\n",
       "      <td>2022-01-30</td>\n",
       "      <td>38266.339844</td>\n",
       "      <td>37437.710938</td>\n",
       "      <td>38151.917969</td>\n",
       "      <td>37917.601562</td>\n",
       "      <td>14643548444</td>\n",
       "      <td>37917.601562</td>\n",
       "    </tr>\n",
       "    <tr>\n",
       "      <th>1095</th>\n",
       "      <td>2022-01-31</td>\n",
       "      <td>38647.261719</td>\n",
       "      <td>36733.574219</td>\n",
       "      <td>37920.281250</td>\n",
       "      <td>38483.125000</td>\n",
       "      <td>20734730465</td>\n",
       "      <td>38483.125000</td>\n",
       "    </tr>\n",
       "    <tr>\n",
       "      <th>1096</th>\n",
       "      <td>2022-02-01</td>\n",
       "      <td>39115.132812</td>\n",
       "      <td>38113.664062</td>\n",
       "      <td>38481.765625</td>\n",
       "      <td>38743.273438</td>\n",
       "      <td>20288500328</td>\n",
       "      <td>38743.273438</td>\n",
       "    </tr>\n",
       "    <tr>\n",
       "      <th>1097</th>\n",
       "      <td>2022-02-02</td>\n",
       "      <td>38828.359375</td>\n",
       "      <td>37285.761719</td>\n",
       "      <td>38758.101562</td>\n",
       "      <td>37285.761719</td>\n",
       "      <td>18077829120</td>\n",
       "      <td>37285.761719</td>\n",
       "    </tr>\n",
       "  </tbody>\n",
       "</table>\n",
       "<p>1098 rows × 7 columns</p>\n",
       "</div>"
      ],
      "text/plain": [
       "           Date          High           Low          Open         Close  \\\n",
       "0    2019-02-01   3501.954102   3431.591553   3460.547119   3487.945312   \n",
       "1    2019-02-02   3523.287354   3467.574707   3484.625977   3521.060791   \n",
       "2    2019-02-03   3521.388184   3447.924316   3516.139648   3464.013428   \n",
       "3    2019-02-04   3476.223877   3442.586914   3467.211670   3459.154053   \n",
       "4    2019-02-05   3478.148193   3451.937012   3454.950928   3466.357422   \n",
       "...         ...           ...           ...           ...           ...   \n",
       "1093 2022-01-29  38576.261719  37406.472656  37780.714844  38138.179688   \n",
       "1094 2022-01-30  38266.339844  37437.710938  38151.917969  37917.601562   \n",
       "1095 2022-01-31  38647.261719  36733.574219  37920.281250  38483.125000   \n",
       "1096 2022-02-01  39115.132812  38113.664062  38481.765625  38743.273438   \n",
       "1097 2022-02-02  38828.359375  37285.761719  38758.101562  37285.761719   \n",
       "\n",
       "           Volume     Adj Close  \n",
       "0      5422926707   3487.945312  \n",
       "1      5071623601   3521.060791  \n",
       "2      5043937584   3464.013428  \n",
       "3      5332718886   3459.154053  \n",
       "4      5227549545   3466.357422  \n",
       "...           ...           ...  \n",
       "1093  17194183075  38138.179688  \n",
       "1094  14643548444  37917.601562  \n",
       "1095  20734730465  38483.125000  \n",
       "1096  20288500328  38743.273438  \n",
       "1097  18077829120  37285.761719  \n",
       "\n",
       "[1098 rows x 7 columns]"
      ]
     },
     "execution_count": 5,
     "metadata": {},
     "output_type": "execute_result"
    }
   ],
   "source": [
    "df"
   ]
  },
  {
   "cell_type": "code",
   "execution_count": 6,
   "id": "50572b4f",
   "metadata": {},
   "outputs": [
    {
     "data": {
      "text/plain": [
       "0        3487.945312\n",
       "1        3521.060791\n",
       "2        3464.013428\n",
       "3        3459.154053\n",
       "4        3466.357422\n",
       "            ...     \n",
       "1093    38138.179688\n",
       "1094    37917.601562\n",
       "1095    38483.125000\n",
       "1096    38743.273438\n",
       "1097    37285.761719\n",
       "Name: Close, Length: 1098, dtype: float64"
      ]
     },
     "execution_count": 6,
     "metadata": {},
     "output_type": "execute_result"
    }
   ],
   "source": [
    "df1 = df['Close']\n",
    "df1"
   ]
  },
  {
   "cell_type": "code",
   "execution_count": 7,
   "id": "0efad58e",
   "metadata": {},
   "outputs": [
    {
     "data": {
      "text/plain": [
       "(1098,)"
      ]
     },
     "execution_count": 7,
     "metadata": {},
     "output_type": "execute_result"
    }
   ],
   "source": [
    "df1.shape"
   ]
  },
  {
   "cell_type": "code",
   "execution_count": 8,
   "id": "27c3f6ed",
   "metadata": {},
   "outputs": [
    {
     "data": {
      "text/plain": [
       "[<matplotlib.lines.Line2D at 0x1c0fa56c610>]"
      ]
     },
     "execution_count": 8,
     "metadata": {},
     "output_type": "execute_result"
    },
    {
     "data": {
      "image/png": "[encoded data removed]",
      "text/plain": [
       "<Figure size 432x288 with 1 Axes>"
      ]
     },
     "metadata": {
      "needs_background": "light"
     },
     "output_type": "display_data"
    }
   ],
   "source": [
    "plt.plot(df1)"
   ]
  },
  {
   "cell_type": "markdown",
   "id": "42539198",
   "metadata": {},
   "source": [
    "<h3> Data Preprocessing </h3>\n",
    "</br>\n",
    "<b> Scaling </b>\n",
    "</br>\n",
    "<code> LSTM is very sensitive to scale. So, I use MinMaxScaler(). </code>"
   ]
  },
  {
   "cell_type": "code",
   "execution_count": 9,
   "id": "b3583e35",
   "metadata": {},
   "outputs": [],
   "source": [
    "scaler = MinMaxScaler(feature_range = (0,1))\n",
    "# df1 is a dataframe from pandas. So, I convert dataframe to numpy array to handle later\n",
    "# reshape(-1, 1) means 1 colum vector\n",
    "df1 = scaler.fit_transform(np.array(df1).reshape(-1,1))"
   ]
  },
  {
   "cell_type": "code",
   "execution_count": 10,
   "id": "b734d1c6",
   "metadata": {},
   "outputs": [
    {
     "data": {
      "text/plain": [
       "(1098, 1)"
      ]
     },
     "execution_count": 10,
     "metadata": {},
     "output_type": "execute_result"
    }
   ],
   "source": [
    "df1.shape"
   ]
  },
  {
   "cell_type": "code",
   "execution_count": 11,
   "id": "ca65b7d7",
   "metadata": {
    "scrolled": true
   },
   "outputs": [],
   "source": [
    "#how converted array look like\n",
    "# df1"
   ]
  },
  {
   "cell_type": "markdown",
   "id": "0dcd2718",
   "metadata": {},
   "source": [
    "<b> Train Test Split </b>"
   ]
  },
  {
   "cell_type": "code",
   "execution_count": 12,
   "id": "e3e1006b",
   "metadata": {},
   "outputs": [],
   "source": [
    "training_size = int(len(df1)*0.8)\n",
    "test_size = len(df1) - training_size\n",
    "\n",
    "train_data, test_data = df1[0:training_size], df1[training_size: len(df1)]"
   ]
  },
  {
   "cell_type": "code",
   "execution_count": 13,
   "id": "5f233400",
   "metadata": {},
   "outputs": [
    {
     "data": {
      "text/plain": [
       "((878, 1), (220, 1))"
      ]
     },
     "execution_count": 13,
     "metadata": {},
     "output_type": "execute_result"
    }
   ],
   "source": [
    "train_data.shape, test_data.shape"
   ]
  },
  {
   "cell_type": "code",
   "execution_count": 14,
   "id": "bf4865cb",
   "metadata": {},
   "outputs": [],
   "source": [
    "def create_dataset(dataset, time_step = 1):\n",
    "    dataX = []\n",
    "    dataY = []\n",
    "    for i in range(len(dataset)-time_step-1):\n",
    "        a = dataset[i: (i+time_step), 0]\n",
    "        dataX.append(a)\n",
    "        dataY.append(dataset[i + time_step, 0])\n",
    "    return np.array(dataX), np.array(dataY)    "
   ]
  },
  {
   "cell_type": "code",
   "execution_count": 15,
   "id": "c128f6de",
   "metadata": {},
   "outputs": [],
   "source": [
    "time_step = 100\n",
    "X_train, y_train = create_dataset(train_data, time_step)\n",
    "X_test, y_test = create_dataset(test_data, time_step)"
   ]
  },
  {
   "cell_type": "code",
   "execution_count": 16,
   "id": "96426e3b",
   "metadata": {},
   "outputs": [
    {
     "name": "stdout",
     "output_type": "stream",
     "text": [
      "(777, 100)\n",
      "(777,)\n",
      "(119, 100)\n",
      "(119,)\n"
     ]
    },
    {
     "data": {
      "text/plain": [
       "(None, None, None, None)"
      ]
     },
     "execution_count": 16,
     "metadata": {},
     "output_type": "execute_result"
    }
   ],
   "source": [
    "print(X_train.shape), print(y_train.shape), print(X_test.shape), print(y_test.shape)"
   ]
  },
  {
   "cell_type": "markdown",
   "id": "a1e2bca4",
   "metadata": {},
   "source": [
    "I reshape tensorshaped array like [samples, timesteps, features] which is required for LSTM"
   ]
  },
  {
   "cell_type": "code",
   "execution_count": 17,
   "id": "ed83f130",
   "metadata": {},
   "outputs": [],
   "source": [
    "#  [samples, timesteps, features]\n",
    "X_train = X_train.reshape(X_train.shape[0], X_train.shape[1], 1)\n",
    "X_test = X_test.reshape(X_test.shape[0], X_test.shape[1], 1)"
   ]
  },
  {
   "cell_type": "code",
   "execution_count": 18,
   "id": "538b3171",
   "metadata": {},
   "outputs": [
    {
     "data": {
      "text/plain": [
       "(777, 100, 1)"
      ]
     },
     "execution_count": 18,
     "metadata": {},
     "output_type": "execute_result"
    }
   ],
   "source": [
    "X_train.shape"
   ]
  },
  {
   "cell_type": "code",
   "execution_count": 19,
   "id": "a5420ba1",
   "metadata": {},
   "outputs": [
    {
     "data": {
      "text/plain": [
       "(119, 100, 1)"
      ]
     },
     "execution_count": 19,
     "metadata": {},
     "output_type": "execute_result"
    }
   ],
   "source": [
    "X_test.shape"
   ]
  },
  {
   "cell_type": "markdown",
   "id": "d1e5bf82",
   "metadata": {},
   "source": [
    "### Model Creation"
   ]
  },
  {
   "cell_type": "code",
   "execution_count": 20,
   "id": "3d8dfb58",
   "metadata": {},
   "outputs": [],
   "source": [
    "from tensorflow.keras.models import Sequential\n",
    "from tensorflow.keras.layers import Dense\n",
    "from tensorflow.keras.layers import LSTM"
   ]
  },
  {
   "cell_type": "code",
   "execution_count": 21,
   "id": "6f18182f",
   "metadata": {},
   "outputs": [],
   "source": [
    "model = Sequential()\n",
    "model.add(LSTM(80, return_sequences = True, input_shape = (100, 1)))\n",
    "model.add(LSTM(80, return_sequences = True))\n",
    "model.add(LSTM(80))\n",
    "model.add(Dense(1))\n",
    "model.compile(loss='mean_squared_error', optimizer = 'adam')"
   ]
  },
  {
   "cell_type": "code",
   "execution_count": 22,
   "id": "db560b7a",
   "metadata": {},
   "outputs": [
    {
     "name": "stdout",
     "output_type": "stream",
     "text": [
      "Model: \"sequential\"\n",
      "_________________________________________________________________\n",
      "Layer (type)                 Output Shape              Param #   \n",
      "=================================================================\n",
      "lstm (LSTM)                  (None, 100, 80)           26240     \n",
      "_________________________________________________________________\n",
      "lstm_1 (LSTM)                (None, 100, 80)           51520     \n",
      "_________________________________________________________________\n",
      "lstm_2 (LSTM)                (None, 80)                51520     \n",
      "_________________________________________________________________\n",
      "dense (Dense)                (None, 1)                 81        \n",
      "=================================================================\n",
      "Total params: 129,361\n",
      "Trainable params: 129,361\n",
      "Non-trainable params: 0\n",
      "_________________________________________________________________\n"
     ]
    }
   ],
   "source": [
    "model.summary()"
   ]
  },
  {
   "cell_type": "code",
   "execution_count": 23,
   "id": "f6df730b",
   "metadata": {},
   "outputs": [],
   "source": [
    "class MyCallBack(tf.keras.callbacks.Callback):\n",
    "    def on_epoch_end(self, epoch, logs= {}):\n",
    "        if(logs.get(\"val_loss\") < 0.0009):\n",
    "            print(\"\\n loss is low. so stopped training\")\n",
    "            self.model.stop_training=True"
   ]
  },
  {
   "cell_type": "code",
   "execution_count": 24,
   "id": "d8320ef8",
   "metadata": {},
   "outputs": [],
   "source": [
    "callbacks = MyCallBack()"
   ]
  },
  {
   "cell_type": "code",
   "execution_count": 25,
   "id": "7c580e1b",
   "metadata": {
    "scrolled": true
   },
   "outputs": [
    {
     "name": "stdout",
     "output_type": "stream",
     "text": [
      "Epoch 1/100\n",
      "13/13 [==============================] - 3s 217ms/step - loss: 0.0248 - val_loss: 0.0103\n",
      "Epoch 2/100\n",
      "13/13 [==============================] - 2s 161ms/step - loss: 0.0042 - val_loss: 0.0067\n",
      "Epoch 3/100\n",
      "13/13 [==============================] - 2s 164ms/step - loss: 0.0027 - val_loss: 0.0076\n",
      "Epoch 4/100\n",
      "13/13 [==============================] - 3s 202ms/step - loss: 0.0024 - val_loss: 0.0068\n",
      "Epoch 5/100\n",
      "13/13 [==============================] - 3s 194ms/step - loss: 0.0023 - val_loss: 0.0081\n",
      "Epoch 6/100\n",
      "13/13 [==============================] - 2s 189ms/step - loss: 0.0024 - val_loss: 0.0073\n",
      "Epoch 7/100\n",
      "13/13 [==============================] - 3s 196ms/step - loss: 0.0020 - val_loss: 0.0059\n",
      "Epoch 8/100\n",
      "13/13 [==============================] - 3s 200ms/step - loss: 0.0018 - val_loss: 0.0047\n",
      "Epoch 9/100\n",
      "13/13 [==============================] - 2s 186ms/step - loss: 0.0019 - val_loss: 0.0048\n",
      "Epoch 10/100\n",
      "13/13 [==============================] - 2s 177ms/step - loss: 0.0018 - val_loss: 0.0042\n",
      "Epoch 11/100\n",
      "13/13 [==============================] - 3s 207ms/step - loss: 0.0017 - val_loss: 0.0047\n",
      "Epoch 12/100\n",
      "13/13 [==============================] - 2s 192ms/step - loss: 0.0021 - val_loss: 0.0073\n",
      "Epoch 13/100\n",
      "13/13 [==============================] - 3s 194ms/step - loss: 0.0017 - val_loss: 0.0047\n",
      "Epoch 14/100\n",
      "13/13 [==============================] - 3s 195ms/step - loss: 0.0018 - val_loss: 0.0058\n",
      "Epoch 15/100\n",
      "13/13 [==============================] - 3s 196ms/step - loss: 0.0018 - val_loss: 0.0041\n",
      "Epoch 16/100\n",
      "13/13 [==============================] - 3s 207ms/step - loss: 0.0014 - val_loss: 0.0034\n",
      "Epoch 17/100\n",
      "13/13 [==============================] - 3s 204ms/step - loss: 0.0017 - val_loss: 0.0038\n",
      "Epoch 18/100\n",
      "13/13 [==============================] - 2s 189ms/step - loss: 0.0015 - val_loss: 0.0046\n",
      "Epoch 19/100\n",
      "13/13 [==============================] - 3s 202ms/step - loss: 0.0015 - val_loss: 0.0037\n",
      "Epoch 20/100\n",
      "13/13 [==============================] - 3s 196ms/step - loss: 0.0012 - val_loss: 0.0030\n",
      "Epoch 21/100\n",
      "13/13 [==============================] - 3s 196ms/step - loss: 0.0011 - val_loss: 0.0032\n",
      "Epoch 22/100\n",
      "13/13 [==============================] - 3s 194ms/step - loss: 0.0011 - val_loss: 0.0036\n",
      "Epoch 23/100\n",
      "13/13 [==============================] - 3s 197ms/step - loss: 9.6773e-04 - val_loss: 0.0023\n",
      "Epoch 24/100\n",
      "13/13 [==============================] - 3s 195ms/step - loss: 9.1673e-04 - val_loss: 0.0022\n",
      "Epoch 25/100\n",
      "13/13 [==============================] - 3s 195ms/step - loss: 9.3633e-04 - val_loss: 0.0027\n",
      "Epoch 26/100\n",
      "13/13 [==============================] - 3s 193ms/step - loss: 9.7050e-04 - val_loss: 0.0030\n",
      "Epoch 27/100\n",
      "13/13 [==============================] - 3s 193ms/step - loss: 9.6259e-04 - val_loss: 0.0033\n",
      "Epoch 28/100\n",
      "13/13 [==============================] - 2s 192ms/step - loss: 8.6001e-04 - val_loss: 0.0022\n",
      "Epoch 29/100\n",
      "13/13 [==============================] - 3s 198ms/step - loss: 8.2717e-04 - val_loss: 0.0026\n",
      "Epoch 30/100\n",
      "13/13 [==============================] - 3s 194ms/step - loss: 8.3771e-04 - val_loss: 0.0027\n",
      "Epoch 31/100\n",
      "13/13 [==============================] - 3s 205ms/step - loss: 0.0013 - val_loss: 0.0020\n",
      "Epoch 32/100\n",
      "13/13 [==============================] - 3s 207ms/step - loss: 0.0013 - val_loss: 0.0063\n",
      "Epoch 33/100\n",
      "13/13 [==============================] - 3s 198ms/step - loss: 0.0011 - val_loss: 0.0018\n",
      "Epoch 34/100\n",
      "13/13 [==============================] - 3s 204ms/step - loss: 7.0309e-04 - val_loss: 0.0018\n",
      "Epoch 35/100\n",
      "13/13 [==============================] - 3s 198ms/step - loss: 6.9996e-04 - val_loss: 0.0017\n",
      "Epoch 36/100\n",
      "13/13 [==============================] - 3s 193ms/step - loss: 9.4484e-04 - val_loss: 0.0049\n",
      "Epoch 37/100\n",
      "13/13 [==============================] - 2s 189ms/step - loss: 9.2792e-04 - val_loss: 0.0016\n",
      "Epoch 38/100\n",
      "13/13 [==============================] - 3s 195ms/step - loss: 6.9893e-04 - val_loss: 0.0015\n",
      "Epoch 39/100\n",
      "13/13 [==============================] - 3s 201ms/step - loss: 6.1582e-04 - val_loss: 0.0014\n",
      "Epoch 40/100\n",
      "13/13 [==============================] - 2s 191ms/step - loss: 6.6812e-04 - val_loss: 0.0021\n",
      "Epoch 41/100\n",
      "13/13 [==============================] - 3s 204ms/step - loss: 7.5301e-04 - val_loss: 0.0017\n",
      "Epoch 42/100\n",
      "13/13 [==============================] - 3s 207ms/step - loss: 7.6320e-04 - val_loss: 0.0029\n",
      "Epoch 43/100\n",
      "13/13 [==============================] - 3s 197ms/step - loss: 6.9125e-04 - val_loss: 0.0016\n",
      "Epoch 44/100\n",
      "13/13 [==============================] - 3s 198ms/step - loss: 6.5419e-04 - val_loss: 0.0022\n",
      "Epoch 45/100\n",
      "13/13 [==============================] - 3s 199ms/step - loss: 6.4302e-04 - val_loss: 0.0015\n",
      "Epoch 46/100\n",
      "13/13 [==============================] - 3s 197ms/step - loss: 5.7623e-04 - val_loss: 0.0013\n",
      "Epoch 47/100\n",
      "13/13 [==============================] - 3s 195ms/step - loss: 5.7927e-04 - val_loss: 0.0016\n",
      "Epoch 48/100\n",
      "13/13 [==============================] - 3s 197ms/step - loss: 6.7556e-04 - val_loss: 0.0027\n",
      "Epoch 49/100\n",
      "13/13 [==============================] - 3s 196ms/step - loss: 5.4959e-04 - val_loss: 0.0021\n",
      "Epoch 50/100\n",
      "13/13 [==============================] - 3s 206ms/step - loss: 4.9497e-04 - val_loss: 0.0026\n",
      "Epoch 51/100\n",
      "13/13 [==============================] - 3s 197ms/step - loss: 6.3380e-04 - val_loss: 0.0018\n",
      "Epoch 52/100\n",
      "13/13 [==============================] - 3s 197ms/step - loss: 5.0547e-04 - val_loss: 0.0012\n",
      "Epoch 53/100\n",
      "13/13 [==============================] - 3s 201ms/step - loss: 5.0350e-04 - val_loss: 0.0019\n",
      "Epoch 54/100\n",
      "13/13 [==============================] - 3s 205ms/step - loss: 5.4823e-04 - val_loss: 0.0015\n",
      "Epoch 55/100\n",
      "13/13 [==============================] - 2s 171ms/step - loss: 4.5870e-04 - val_loss: 0.0018\n",
      "Epoch 56/100\n",
      "13/13 [==============================] - 2s 169ms/step - loss: 5.5305e-04 - val_loss: 0.0030\n",
      "Epoch 57/100\n",
      "13/13 [==============================] - 2s 168ms/step - loss: 6.2191e-04 - val_loss: 0.0022\n",
      "Epoch 58/100\n",
      "13/13 [==============================] - 2s 174ms/step - loss: 5.9181e-04 - val_loss: 0.0014\n",
      "Epoch 59/100\n",
      "13/13 [==============================] - 2s 173ms/step - loss: 4.9004e-04 - val_loss: 0.0017\n",
      "Epoch 60/100\n",
      "13/13 [==============================] - 2s 169ms/step - loss: 4.4244e-04 - val_loss: 0.0014\n",
      "Epoch 61/100\n",
      "13/13 [==============================] - 2s 178ms/step - loss: 4.6875e-04 - val_loss: 0.0033\n",
      "Epoch 62/100\n",
      "13/13 [==============================] - 2s 175ms/step - loss: 6.3998e-04 - val_loss: 0.0050\n",
      "Epoch 63/100\n",
      "13/13 [==============================] - 2s 175ms/step - loss: 7.8855e-04 - val_loss: 0.0015\n",
      "Epoch 64/100\n",
      "13/13 [==============================] - 2s 173ms/step - loss: 4.6072e-04 - val_loss: 0.0013\n",
      "Epoch 65/100\n",
      "13/13 [==============================] - 2s 173ms/step - loss: 4.1730e-04 - val_loss: 0.0015\n",
      "Epoch 66/100\n",
      "13/13 [==============================] - 2s 171ms/step - loss: 3.8588e-04 - val_loss: 0.0015\n",
      "Epoch 67/100\n",
      "13/13 [==============================] - 2s 168ms/step - loss: 6.3434e-04 - val_loss: 0.0020\n",
      "Epoch 68/100\n",
      "13/13 [==============================] - 2s 171ms/step - loss: 5.1666e-04 - val_loss: 0.0015\n",
      "Epoch 69/100\n",
      "13/13 [==============================] - 2s 171ms/step - loss: 4.4569e-04 - val_loss: 0.0012\n",
      "Epoch 70/100\n",
      "13/13 [==============================] - 2s 173ms/step - loss: 4.1151e-04 - val_loss: 0.0026\n",
      "Epoch 71/100\n",
      "13/13 [==============================] - 2s 175ms/step - loss: 5.5340e-04 - val_loss: 0.0024: 0s - loss: 5.5929e-\n",
      "Epoch 72/100\n",
      "13/13 [==============================] - 2s 179ms/step - loss: 4.2851e-04 - val_loss: 0.0017\n",
      "Epoch 73/100\n",
      "13/13 [==============================] - 2s 169ms/step - loss: 3.9012e-04 - val_loss: 0.0012\n",
      "Epoch 74/100\n",
      "13/13 [==============================] - 2s 171ms/step - loss: 3.8355e-04 - val_loss: 0.0014\n",
      "Epoch 75/100\n",
      "13/13 [==============================] - 2s 171ms/step - loss: 3.6107e-04 - val_loss: 0.0014\n",
      "Epoch 76/100\n",
      "13/13 [==============================] - 2s 168ms/step - loss: 3.6324e-04 - val_loss: 0.0015\n",
      "Epoch 77/100\n",
      "13/13 [==============================] - 2s 168ms/step - loss: 4.1315e-04 - val_loss: 0.0013\n",
      "Epoch 78/100\n",
      "13/13 [==============================] - 2s 175ms/step - loss: 3.3597e-04 - val_loss: 0.0013\n",
      "Epoch 79/100\n",
      "13/13 [==============================] - 2s 172ms/step - loss: 3.6307e-04 - val_loss: 0.0016\n",
      "Epoch 80/100\n",
      "13/13 [==============================] - 2s 170ms/step - loss: 3.6243e-04 - val_loss: 0.0047\n",
      "Epoch 81/100\n",
      "13/13 [==============================] - 2s 169ms/step - loss: 9.9940e-04 - val_loss: 0.0029\n",
      "Epoch 82/100\n",
      "13/13 [==============================] - 2s 172ms/step - loss: 8.8369e-04 - val_loss: 0.0013\n",
      "Epoch 83/100\n",
      "13/13 [==============================] - 2s 172ms/step - loss: 4.4725e-04 - val_loss: 0.0015\n",
      "Epoch 84/100\n",
      "13/13 [==============================] - 2s 175ms/step - loss: 4.9258e-04 - val_loss: 0.0012\n",
      "Epoch 85/100\n",
      "13/13 [==============================] - 2s 173ms/step - loss: 3.8814e-04 - val_loss: 0.0012\n",
      "Epoch 86/100\n",
      "13/13 [==============================] - 2s 170ms/step - loss: 3.4935e-04 - val_loss: 0.0011\n",
      "Epoch 87/100\n",
      "13/13 [==============================] - 2s 172ms/step - loss: 4.0644e-04 - val_loss: 0.0014\n",
      "Epoch 88/100\n",
      "13/13 [==============================] - 2s 176ms/step - loss: 3.5259e-04 - val_loss: 0.0011\n",
      "Epoch 89/100\n",
      "13/13 [==============================] - 2s 174ms/step - loss: 3.1980e-04 - val_loss: 0.0013\n",
      "Epoch 90/100\n",
      "13/13 [==============================] - 2s 170ms/step - loss: 3.4823e-04 - val_loss: 0.0012\n",
      "Epoch 91/100\n",
      "13/13 [==============================] - 2s 176ms/step - loss: 3.3706e-04 - val_loss: 0.0020\n",
      "Epoch 92/100\n",
      "13/13 [==============================] - 2s 170ms/step - loss: 3.6158e-04 - val_loss: 0.0020\n",
      "Epoch 93/100\n",
      "13/13 [==============================] - 2s 172ms/step - loss: 3.2333e-04 - val_loss: 0.0013\n",
      "Epoch 94/100\n",
      "13/13 [==============================] - 2s 168ms/step - loss: 3.6864e-04 - val_loss: 0.0020\n",
      "Epoch 95/100\n",
      "13/13 [==============================] - 2s 166ms/step - loss: 3.4454e-04 - val_loss: 0.0016\n",
      "Epoch 96/100\n",
      "13/13 [==============================] - 2s 173ms/step - loss: 3.6302e-04 - val_loss: 0.0016\n",
      "Epoch 97/100\n",
      "13/13 [==============================] - 2s 172ms/step - loss: 3.2893e-04 - val_loss: 0.0024\n",
      "Epoch 98/100\n",
      "13/13 [==============================] - 2s 175ms/step - loss: 3.8187e-04 - val_loss: 0.0015\n",
      "Epoch 99/100\n",
      "13/13 [==============================] - 2s 174ms/step - loss: 3.7352e-04 - val_loss: 0.0020\n",
      "Epoch 100/100\n",
      "13/13 [==============================] - 2s 178ms/step - loss: 3.3062e-04 - val_loss: 0.0014\n"
     ]
    },
    {
     "data": {
      "text/plain": [
       "<tensorflow.python.keras.callbacks.History at 0x1c0fbe64d60>"
      ]
     },
     "execution_count": 25,
     "metadata": {},
     "output_type": "execute_result"
    }
   ],
   "source": [
    "model.fit(X_train,y_train,validation_data=(X_test,y_test),epochs=100,batch_size=64,verbose=1, callbacks = [callbacks])"
   ]
  },
  {
   "cell_type": "code",
   "execution_count": 26,
   "id": "3f2c2707",
   "metadata": {},
   "outputs": [],
   "source": [
    "train_predict = model.predict(X_train)\n",
    "test_predict = model.predict(X_test)"
   ]
  },
  {
   "cell_type": "code",
   "execution_count": 27,
   "id": "69db4ccf",
   "metadata": {},
   "outputs": [],
   "source": [
    "# Transform original form\n",
    "train_predict = scaler.inverse_transform(train_predict)\n",
    "test_predict = scaler.inverse_transform(test_predict)"
   ]
  },
  {
   "cell_type": "markdown",
   "id": "3f4ecfba",
   "metadata": {},
   "source": [
    "### Testing"
   ]
  },
  {
   "cell_type": "code",
   "execution_count": 28,
   "id": "a05fde96",
   "metadata": {},
   "outputs": [
    {
     "data": {
      "text/plain": [
       "24545.77259953223"
      ]
     },
     "execution_count": 28,
     "metadata": {},
     "output_type": "execute_result"
    }
   ],
   "source": [
    "# Calculate Root Mean Squared Error performance matrix\n",
    "import math\n",
    "from sklearn.metrics import mean_squared_error\n",
    "math.sqrt(mean_squared_error(y_train, train_predict))"
   ]
  },
  {
   "cell_type": "code",
   "execution_count": 29,
   "id": "44cdd2e7",
   "metadata": {},
   "outputs": [
    {
     "data": {
      "text/plain": [
       "52245.73900413695"
      ]
     },
     "execution_count": 29,
     "metadata": {},
     "output_type": "execute_result"
    }
   ],
   "source": [
    "math.sqrt(mean_squared_error(y_test, test_predict))"
   ]
  },
  {
   "cell_type": "code",
   "execution_count": 30,
   "id": "fc47121b",
   "metadata": {},
   "outputs": [
    {
     "data": {
      "image/png": "[encoded data removed]",
      "text/plain": [
       "<Figure size 432x288 with 1 Axes>"
      ]
     },
     "metadata": {
      "needs_background": "light"
     },
     "output_type": "display_data"
    }
   ],
   "source": [
    "### Plotting\n",
    "\n",
    "look_back=100\n",
    "trainPredictPlot = np.empty_like(df1)\n",
    "trainPredictPlot[:, :] = np.nan\n",
    "trainPredictPlot[look_back:len(train_predict)+look_back, :] = train_predict\n",
    "# shift test predictions for plotting\n",
    "testPredictPlot = np.empty_like(df1)\n",
    "testPredictPlot[:, :] = np.nan\n",
    "testPredictPlot[len(train_predict)+(look_back*2)+1:len(df1)-1, :] = test_predict\n",
    "# plot baseline and predictions\n",
    "plt.plot(scaler.inverse_transform(df1))\n",
    "plt.plot(trainPredictPlot)\n",
    "plt.plot(testPredictPlot)\n",
    "plt.xlabel('Days')\n",
    "plt.ylabel('USD')\n",
    "plt.legend(['Actual Stock', 'Predicted Stock (Trained)', 'Predicted Stock (Test)'])\n",
    "plt.show()"
   ]
  },
  {
   "cell_type": "markdown",
   "id": "0a14d0e0",
   "metadata": {},
   "source": [
    "### Predict Future 30 days' stock value"
   ]
  },
  {
   "cell_type": "code",
   "execution_count": 31,
   "id": "63b3a23a",
   "metadata": {},
   "outputs": [
    {
     "data": {
      "text/plain": [
       "220"
      ]
     },
     "execution_count": 31,
     "metadata": {},
     "output_type": "execute_result"
    }
   ],
   "source": [
    "len(test_data)"
   ]
  },
  {
   "cell_type": "code",
   "execution_count": 32,
   "id": "ab022b22",
   "metadata": {},
   "outputs": [
    {
     "data": {
      "text/plain": [
       "(1, 100)"
      ]
     },
     "execution_count": 32,
     "metadata": {},
     "output_type": "execute_result"
    }
   ],
   "source": [
    "x_input = test_data[120:].reshape(1,-1)\n",
    "x_input.shape"
   ]
  },
  {
   "cell_type": "code",
   "execution_count": 33,
   "id": "34398138",
   "metadata": {},
   "outputs": [
    {
     "data": {
      "text/plain": [
       "array([[0.88774611, 0.85842581, 0.89177221, 0.91679783, 0.9115127 ,\n",
       "        0.90263163, 0.89772959, 0.93235773, 0.92836262, 0.90470859,\n",
       "        0.89961948, 0.90588131, 0.93392528, 1.        , 0.99072737,\n",
       "        0.95992358, 0.95921809, 0.9468439 , 0.9517309 , 0.96727326,\n",
       "        0.93752342, 0.88458957, 0.88781186, 0.83442217, 0.85277171,\n",
       "        0.87735769, 0.86229211, 0.82424803, 0.84419252, 0.82410991,\n",
       "        0.83960461, 0.78186631, 0.80127356, 0.83919595, 0.84789366,\n",
       "        0.83540849, 0.83890563, 0.82718609, 0.78231015, 0.71377775,\n",
       "        0.71639816, 0.73531397, 0.73714451, 0.73410107, 0.68995595,\n",
       "        0.68327317, 0.71629936, 0.72776668, 0.67539028, 0.67344462,\n",
       "        0.70904045, 0.68985161, 0.66704747, 0.67712476, 0.67491551,\n",
       "        0.67761566, 0.70966211, 0.70486058, 0.73846064, 0.73904749,\n",
       "        0.73293323, 0.73884989, 0.73621463, 0.68865832, 0.67082769,\n",
       "        0.68225739, 0.66867292, 0.69018491, 0.68486142, 0.67103661,\n",
       "        0.66230097, 0.62601195, 0.61965242, 0.59467045, 0.59741389,\n",
       "        0.60018259, 0.59877471, 0.61302796, 0.63193549, 0.61077939,\n",
       "        0.61869819, 0.61990908, 0.61891917, 0.60546485, 0.60741416,\n",
       "        0.59757575, 0.58099551, 0.51518165, 0.4929419 , 0.51236851,\n",
       "        0.51825193, 0.52292215, 0.52133439, 0.52579325, 0.53586219,\n",
       "        0.54137664, 0.5379391 , 0.54675236, 0.55080657, 0.52809235]])"
      ]
     },
     "execution_count": 33,
     "metadata": {},
     "output_type": "execute_result"
    }
   ],
   "source": [
    "x_input"
   ]
  },
  {
   "cell_type": "code",
   "execution_count": 34,
   "id": "f8673537",
   "metadata": {},
   "outputs": [
    {
     "data": {
      "text/plain": [
       "[0.8877461133623467,\n",
       " 0.8584258116665233,\n",
       " 0.8917722064462994,\n",
       " 0.9167978302830643,\n",
       " 0.9115127004088263,\n",
       " 0.9026316270473939,\n",
       " 0.8977295896458987,\n",
       " 0.9323577279523867,\n",
       " 0.9283626207366409,\n",
       " 0.9047085933567912,\n",
       " 0.899619484102644,\n",
       " 0.9058813080230738,\n",
       " 0.9339252841534237,\n",
       " 0.9999999999999999,\n",
       " 0.9907273724061377,\n",
       " 0.9599235842224282,\n",
       " 0.959218092618008,\n",
       " 0.9468438952809756,\n",
       " 0.9517308963181347,\n",
       " 0.9672732617083931,\n",
       " 0.9375234191755011,\n",
       " 0.8845895726191945,\n",
       " 0.8878118594088368,\n",
       " 0.8344221735968655,\n",
       " 0.8527717125443441,\n",
       " 0.877357690133191,\n",
       " 0.8622921053319237,\n",
       " 0.8242480337784924,\n",
       " 0.8441925231130455,\n",
       " 0.8241099062048942,\n",
       " 0.8396046057114473,\n",
       " 0.7818663059319081,\n",
       " 0.8012735648402806,\n",
       " 0.8391959453317362,\n",
       " 0.847893660274624,\n",
       " 0.8354084860461549,\n",
       " 0.8389056278357072,\n",
       " 0.827186090669003,\n",
       " 0.7823101526216852,\n",
       " 0.7137777521557588,\n",
       " 0.716398158240172,\n",
       " 0.7353139654510309,\n",
       " 0.7371445058380283,\n",
       " 0.7341010726452266,\n",
       " 0.6899559506054214,\n",
       " 0.6832731693595481,\n",
       " 0.7162993565425299,\n",
       " 0.7277666845697818,\n",
       " 0.6753902792613548,\n",
       " 0.6734446224170307,\n",
       " 0.7090404451263026,\n",
       " 0.6898516091946029,\n",
       " 0.6670474712175756,\n",
       " 0.6771247573693138,\n",
       " 0.6749155075793397,\n",
       " 0.6776156611831065,\n",
       " 0.7096621105214479,\n",
       " 0.7048605793447259,\n",
       " 0.7384606442872096,\n",
       " 0.7390474886281027,\n",
       " 0.7329332280564618,\n",
       " 0.7388498852328186,\n",
       " 0.7362146254119762,\n",
       " 0.6886583184508076,\n",
       " 0.670827686262849,\n",
       " 0.6822573929412762,\n",
       " 0.6686729204651052,\n",
       " 0.6901849051247262,\n",
       " 0.6848614233900356,\n",
       " 0.671036612588362,\n",
       " 0.6623009719168045,\n",
       " 0.626011954548845,\n",
       " 0.6196524246982146,\n",
       " 0.5946704489312029,\n",
       " 0.597413885348909,\n",
       " 0.6001825852937386,\n",
       " 0.598774706759316,\n",
       " 0.6130279626306168,\n",
       " 0.6319354907096956,\n",
       " 0.6107793869646866,\n",
       " 0.6186981938845736,\n",
       " 0.6199090777834019,\n",
       " 0.6189191736519432,\n",
       " 0.605464853997435,\n",
       " 0.6074141633998973,\n",
       " 0.5975757545504063,\n",
       " 0.580995514765139,\n",
       " 0.5151816524456091,\n",
       " 0.4929418955769241,\n",
       " 0.5123685130434297,\n",
       " 0.5182519319407275,\n",
       " 0.5229221536523763,\n",
       " 0.5213343866296405,\n",
       " 0.5257932469770173,\n",
       " 0.5358621931210064,\n",
       " 0.541376642770363,\n",
       " 0.5379390985544347,\n",
       " 0.5467523560864319,\n",
       " 0.5508065738680498,\n",
       " 0.5280923496971945]"
      ]
     },
     "execution_count": 34,
     "metadata": {},
     "output_type": "execute_result"
    }
   ],
   "source": [
    "temp_input = x_input.tolist()\n",
    "temp_input = temp_input[0]\n",
    "temp_input"
   ]
  },
  {
   "cell_type": "markdown",
   "id": "62499b0f",
   "metadata": {},
   "source": [
    "### preidction for next 30 days"
   ]
  },
  {
   "cell_type": "code",
   "execution_count": 35,
   "id": "16b1e7c8",
   "metadata": {},
   "outputs": [
    {
     "name": "stdout",
     "output_type": "stream",
     "text": [
      "[0.5551905]\n",
      "101\n",
      "1 day input [0.85842581 0.89177221 0.91679783 0.9115127  0.90263163 0.89772959\n",
      " 0.93235773 0.92836262 0.90470859 0.89961948 0.90588131 0.93392528\n",
      " 1.         0.99072737 0.95992358 0.95921809 0.9468439  0.9517309\n",
      " 0.96727326 0.93752342 0.88458957 0.88781186 0.83442217 0.85277171\n",
      " 0.87735769 0.86229211 0.82424803 0.84419252 0.82410991 0.83960461\n",
      " 0.78186631 0.80127356 0.83919595 0.84789366 0.83540849 0.83890563\n",
      " 0.82718609 0.78231015 0.71377775 0.71639816 0.73531397 0.73714451\n",
      " 0.73410107 0.68995595 0.68327317 0.71629936 0.72776668 0.67539028\n",
      " 0.67344462 0.70904045 0.68985161 0.66704747 0.67712476 0.67491551\n",
      " 0.67761566 0.70966211 0.70486058 0.73846064 0.73904749 0.73293323\n",
      " 0.73884989 0.73621463 0.68865832 0.67082769 0.68225739 0.66867292\n",
      " 0.69018491 0.68486142 0.67103661 0.66230097 0.62601195 0.61965242\n",
      " 0.59467045 0.59741389 0.60018259 0.59877471 0.61302796 0.63193549\n",
      " 0.61077939 0.61869819 0.61990908 0.61891917 0.60546485 0.60741416\n",
      " 0.59757575 0.58099551 0.51518165 0.4929419  0.51236851 0.51825193\n",
      " 0.52292215 0.52133439 0.52579325 0.53586219 0.54137664 0.5379391\n",
      " 0.54675236 0.55080657 0.52809235 0.5551905 ]\n",
      "1 day output [[0.55929697]]\n",
      "2 day input [0.89177221 0.91679783 0.9115127  0.90263163 0.89772959 0.93235773\n",
      " 0.92836262 0.90470859 0.89961948 0.90588131 0.93392528 1.\n",
      " 0.99072737 0.95992358 0.95921809 0.9468439  0.9517309  0.96727326\n",
      " 0.93752342 0.88458957 0.88781186 0.83442217 0.85277171 0.87735769\n",
      " 0.86229211 0.82424803 0.84419252 0.82410991 0.83960461 0.78186631\n",
      " 0.80127356 0.83919595 0.84789366 0.83540849 0.83890563 0.82718609\n",
      " 0.78231015 0.71377775 0.71639816 0.73531397 0.73714451 0.73410107\n",
      " 0.68995595 0.68327317 0.71629936 0.72776668 0.67539028 0.67344462\n",
      " 0.70904045 0.68985161 0.66704747 0.67712476 0.67491551 0.67761566\n",
      " 0.70966211 0.70486058 0.73846064 0.73904749 0.73293323 0.73884989\n",
      " 0.73621463 0.68865832 0.67082769 0.68225739 0.66867292 0.69018491\n",
      " 0.68486142 0.67103661 0.66230097 0.62601195 0.61965242 0.59467045\n",
      " 0.59741389 0.60018259 0.59877471 0.61302796 0.63193549 0.61077939\n",
      " 0.61869819 0.61990908 0.61891917 0.60546485 0.60741416 0.59757575\n",
      " 0.58099551 0.51518165 0.4929419  0.51236851 0.51825193 0.52292215\n",
      " 0.52133439 0.52579325 0.53586219 0.54137664 0.5379391  0.54675236\n",
      " 0.55080657 0.52809235 0.5551905  0.55929697]\n",
      "2 day output [[0.56878775]]\n",
      "3 day input [0.91679783 0.9115127  0.90263163 0.89772959 0.93235773 0.92836262\n",
      " 0.90470859 0.89961948 0.90588131 0.93392528 1.         0.99072737\n",
      " 0.95992358 0.95921809 0.9468439  0.9517309  0.96727326 0.93752342\n",
      " 0.88458957 0.88781186 0.83442217 0.85277171 0.87735769 0.86229211\n",
      " 0.82424803 0.84419252 0.82410991 0.83960461 0.78186631 0.80127356\n",
      " 0.83919595 0.84789366 0.83540849 0.83890563 0.82718609 0.78231015\n",
      " 0.71377775 0.71639816 0.73531397 0.73714451 0.73410107 0.68995595\n",
      " 0.68327317 0.71629936 0.72776668 0.67539028 0.67344462 0.70904045\n",
      " 0.68985161 0.66704747 0.67712476 0.67491551 0.67761566 0.70966211\n",
      " 0.70486058 0.73846064 0.73904749 0.73293323 0.73884989 0.73621463\n",
      " 0.68865832 0.67082769 0.68225739 0.66867292 0.69018491 0.68486142\n",
      " 0.67103661 0.66230097 0.62601195 0.61965242 0.59467045 0.59741389\n",
      " 0.60018259 0.59877471 0.61302796 0.63193549 0.61077939 0.61869819\n",
      " 0.61990908 0.61891917 0.60546485 0.60741416 0.59757575 0.58099551\n",
      " 0.51518165 0.4929419  0.51236851 0.51825193 0.52292215 0.52133439\n",
      " 0.52579325 0.53586219 0.54137664 0.5379391  0.54675236 0.55080657\n",
      " 0.52809235 0.5551905  0.55929697 0.56878775]\n",
      "3 day output [[0.57971966]]\n",
      "4 day input [0.9115127  0.90263163 0.89772959 0.93235773 0.92836262 0.90470859\n",
      " 0.89961948 0.90588131 0.93392528 1.         0.99072737 0.95992358\n",
      " 0.95921809 0.9468439  0.9517309  0.96727326 0.93752342 0.88458957\n",
      " 0.88781186 0.83442217 0.85277171 0.87735769 0.86229211 0.82424803\n",
      " 0.84419252 0.82410991 0.83960461 0.78186631 0.80127356 0.83919595\n",
      " 0.84789366 0.83540849 0.83890563 0.82718609 0.78231015 0.71377775\n",
      " 0.71639816 0.73531397 0.73714451 0.73410107 0.68995595 0.68327317\n",
      " 0.71629936 0.72776668 0.67539028 0.67344462 0.70904045 0.68985161\n",
      " 0.66704747 0.67712476 0.67491551 0.67761566 0.70966211 0.70486058\n",
      " 0.73846064 0.73904749 0.73293323 0.73884989 0.73621463 0.68865832\n",
      " 0.67082769 0.68225739 0.66867292 0.69018491 0.68486142 0.67103661\n",
      " 0.66230097 0.62601195 0.61965242 0.59467045 0.59741389 0.60018259\n",
      " 0.59877471 0.61302796 0.63193549 0.61077939 0.61869819 0.61990908\n",
      " 0.61891917 0.60546485 0.60741416 0.59757575 0.58099551 0.51518165\n",
      " 0.4929419  0.51236851 0.51825193 0.52292215 0.52133439 0.52579325\n",
      " 0.53586219 0.54137664 0.5379391  0.54675236 0.55080657 0.52809235\n",
      " 0.5551905  0.55929697 0.56878775 0.57971966]\n",
      "4 day output [[0.59049886]]\n",
      "5 day input [0.90263163 0.89772959 0.93235773 0.92836262 0.90470859 0.89961948\n",
      " 0.90588131 0.93392528 1.         0.99072737 0.95992358 0.95921809\n",
      " 0.9468439  0.9517309  0.96727326 0.93752342 0.88458957 0.88781186\n",
      " 0.83442217 0.85277171 0.87735769 0.86229211 0.82424803 0.84419252\n",
      " 0.82410991 0.83960461 0.78186631 0.80127356 0.83919595 0.84789366\n",
      " 0.83540849 0.83890563 0.82718609 0.78231015 0.71377775 0.71639816\n",
      " 0.73531397 0.73714451 0.73410107 0.68995595 0.68327317 0.71629936\n",
      " 0.72776668 0.67539028 0.67344462 0.70904045 0.68985161 0.66704747\n",
      " 0.67712476 0.67491551 0.67761566 0.70966211 0.70486058 0.73846064\n",
      " 0.73904749 0.73293323 0.73884989 0.73621463 0.68865832 0.67082769\n",
      " 0.68225739 0.66867292 0.69018491 0.68486142 0.67103661 0.66230097\n",
      " 0.62601195 0.61965242 0.59467045 0.59741389 0.60018259 0.59877471\n",
      " 0.61302796 0.63193549 0.61077939 0.61869819 0.61990908 0.61891917\n",
      " 0.60546485 0.60741416 0.59757575 0.58099551 0.51518165 0.4929419\n",
      " 0.51236851 0.51825193 0.52292215 0.52133439 0.52579325 0.53586219\n",
      " 0.54137664 0.5379391  0.54675236 0.55080657 0.52809235 0.5551905\n",
      " 0.55929697 0.56878775 0.57971966 0.59049886]\n",
      "5 day output [[0.6005267]]\n",
      "6 day input [0.89772959 0.93235773 0.92836262 0.90470859 0.89961948 0.90588131\n",
      " 0.93392528 1.         0.99072737 0.95992358 0.95921809 0.9468439\n",
      " 0.9517309  0.96727326 0.93752342 0.88458957 0.88781186 0.83442217\n",
      " 0.85277171 0.87735769 0.86229211 0.82424803 0.84419252 0.82410991\n",
      " 0.83960461 0.78186631 0.80127356 0.83919595 0.84789366 0.83540849\n",
      " 0.83890563 0.82718609 0.78231015 0.71377775 0.71639816 0.73531397\n",
      " 0.73714451 0.73410107 0.68995595 0.68327317 0.71629936 0.72776668\n",
      " 0.67539028 0.67344462 0.70904045 0.68985161 0.66704747 0.67712476\n",
      " 0.67491551 0.67761566 0.70966211 0.70486058 0.73846064 0.73904749\n",
      " 0.73293323 0.73884989 0.73621463 0.68865832 0.67082769 0.68225739\n",
      " 0.66867292 0.69018491 0.68486142 0.67103661 0.66230097 0.62601195\n",
      " 0.61965242 0.59467045 0.59741389 0.60018259 0.59877471 0.61302796\n",
      " 0.63193549 0.61077939 0.61869819 0.61990908 0.61891917 0.60546485\n",
      " 0.60741416 0.59757575 0.58099551 0.51518165 0.4929419  0.51236851\n",
      " 0.51825193 0.52292215 0.52133439 0.52579325 0.53586219 0.54137664\n",
      " 0.5379391  0.54675236 0.55080657 0.52809235 0.5551905  0.55929697\n",
      " 0.56878775 0.57971966 0.59049886 0.60052669]\n",
      "6 day output [[0.60955167]]\n",
      "7 day input [0.93235773 0.92836262 0.90470859 0.89961948 0.90588131 0.93392528\n",
      " 1.         0.99072737 0.95992358 0.95921809 0.9468439  0.9517309\n",
      " 0.96727326 0.93752342 0.88458957 0.88781186 0.83442217 0.85277171\n",
      " 0.87735769 0.86229211 0.82424803 0.84419252 0.82410991 0.83960461\n",
      " 0.78186631 0.80127356 0.83919595 0.84789366 0.83540849 0.83890563\n",
      " 0.82718609 0.78231015 0.71377775 0.71639816 0.73531397 0.73714451\n",
      " 0.73410107 0.68995595 0.68327317 0.71629936 0.72776668 0.67539028\n",
      " 0.67344462 0.70904045 0.68985161 0.66704747 0.67712476 0.67491551\n",
      " 0.67761566 0.70966211 0.70486058 0.73846064 0.73904749 0.73293323\n",
      " 0.73884989 0.73621463 0.68865832 0.67082769 0.68225739 0.66867292\n",
      " 0.69018491 0.68486142 0.67103661 0.66230097 0.62601195 0.61965242\n",
      " 0.59467045 0.59741389 0.60018259 0.59877471 0.61302796 0.63193549\n",
      " 0.61077939 0.61869819 0.61990908 0.61891917 0.60546485 0.60741416\n",
      " 0.59757575 0.58099551 0.51518165 0.4929419  0.51236851 0.51825193\n",
      " 0.52292215 0.52133439 0.52579325 0.53586219 0.54137664 0.5379391\n",
      " 0.54675236 0.55080657 0.52809235 0.5551905  0.55929697 0.56878775\n",
      " 0.57971966 0.59049886 0.60052669 0.60955167]\n",
      "7 day output [[0.6174881]]\n",
      "8 day input [0.92836262 0.90470859 0.89961948 0.90588131 0.93392528 1.\n",
      " 0.99072737 0.95992358 0.95921809 0.9468439  0.9517309  0.96727326\n",
      " 0.93752342 0.88458957 0.88781186 0.83442217 0.85277171 0.87735769\n",
      " 0.86229211 0.82424803 0.84419252 0.82410991 0.83960461 0.78186631\n",
      " 0.80127356 0.83919595 0.84789366 0.83540849 0.83890563 0.82718609\n",
      " 0.78231015 0.71377775 0.71639816 0.73531397 0.73714451 0.73410107\n",
      " 0.68995595 0.68327317 0.71629936 0.72776668 0.67539028 0.67344462\n",
      " 0.70904045 0.68985161 0.66704747 0.67712476 0.67491551 0.67761566\n",
      " 0.70966211 0.70486058 0.73846064 0.73904749 0.73293323 0.73884989\n",
      " 0.73621463 0.68865832 0.67082769 0.68225739 0.66867292 0.69018491\n",
      " 0.68486142 0.67103661 0.66230097 0.62601195 0.61965242 0.59467045\n",
      " 0.59741389 0.60018259 0.59877471 0.61302796 0.63193549 0.61077939\n",
      " 0.61869819 0.61990908 0.61891917 0.60546485 0.60741416 0.59757575\n",
      " 0.58099551 0.51518165 0.4929419  0.51236851 0.51825193 0.52292215\n",
      " 0.52133439 0.52579325 0.53586219 0.54137664 0.5379391  0.54675236\n",
      " 0.55080657 0.52809235 0.5551905  0.55929697 0.56878775 0.57971966\n",
      " 0.59049886 0.60052669 0.60955167 0.61748809]\n",
      "8 day output [[0.62434673]]\n",
      "9 day input [0.90470859 0.89961948 0.90588131 0.93392528 1.         0.99072737\n",
      " 0.95992358 0.95921809 0.9468439  0.9517309  0.96727326 0.93752342\n",
      " 0.88458957 0.88781186 0.83442217 0.85277171 0.87735769 0.86229211\n",
      " 0.82424803 0.84419252 0.82410991 0.83960461 0.78186631 0.80127356\n",
      " 0.83919595 0.84789366 0.83540849 0.83890563 0.82718609 0.78231015\n",
      " 0.71377775 0.71639816 0.73531397 0.73714451 0.73410107 0.68995595\n",
      " 0.68327317 0.71629936 0.72776668 0.67539028 0.67344462 0.70904045\n",
      " 0.68985161 0.66704747 0.67712476 0.67491551 0.67761566 0.70966211\n",
      " 0.70486058 0.73846064 0.73904749 0.73293323 0.73884989 0.73621463\n",
      " 0.68865832 0.67082769 0.68225739 0.66867292 0.69018491 0.68486142\n",
      " 0.67103661 0.66230097 0.62601195 0.61965242 0.59467045 0.59741389\n",
      " 0.60018259 0.59877471 0.61302796 0.63193549 0.61077939 0.61869819\n",
      " 0.61990908 0.61891917 0.60546485 0.60741416 0.59757575 0.58099551\n",
      " 0.51518165 0.4929419  0.51236851 0.51825193 0.52292215 0.52133439\n",
      " 0.52579325 0.53586219 0.54137664 0.5379391  0.54675236 0.55080657\n",
      " 0.52809235 0.5551905  0.55929697 0.56878775 0.57971966 0.59049886\n",
      " 0.60052669 0.60955167 0.61748809 0.62434673]\n",
      "9 day output [[0.63019174]]\n",
      "10 day input [0.89961948 0.90588131 0.93392528 1.         0.99072737 0.95992358\n",
      " 0.95921809 0.9468439  0.9517309  0.96727326 0.93752342 0.88458957\n",
      " 0.88781186 0.83442217 0.85277171 0.87735769 0.86229211 0.82424803\n",
      " 0.84419252 0.82410991 0.83960461 0.78186631 0.80127356 0.83919595\n",
      " 0.84789366 0.83540849 0.83890563 0.82718609 0.78231015 0.71377775\n",
      " 0.71639816 0.73531397 0.73714451 0.73410107 0.68995595 0.68327317\n",
      " 0.71629936 0.72776668 0.67539028 0.67344462 0.70904045 0.68985161\n",
      " 0.66704747 0.67712476 0.67491551 0.67761566 0.70966211 0.70486058\n",
      " 0.73846064 0.73904749 0.73293323 0.73884989 0.73621463 0.68865832\n",
      " 0.67082769 0.68225739 0.66867292 0.69018491 0.68486142 0.67103661\n",
      " 0.66230097 0.62601195 0.61965242 0.59467045 0.59741389 0.60018259\n",
      " 0.59877471 0.61302796 0.63193549 0.61077939 0.61869819 0.61990908\n",
      " 0.61891917 0.60546485 0.60741416 0.59757575 0.58099551 0.51518165\n",
      " 0.4929419  0.51236851 0.51825193 0.52292215 0.52133439 0.52579325\n",
      " 0.53586219 0.54137664 0.5379391  0.54675236 0.55080657 0.52809235\n",
      " 0.5551905  0.55929697 0.56878775 0.57971966 0.59049886 0.60052669\n",
      " 0.60955167 0.61748809 0.62434673 0.63019174]\n",
      "10 day output [[0.63509095]]\n",
      "11 day input [0.90588131 0.93392528 1.         0.99072737 0.95992358 0.95921809\n",
      " 0.9468439  0.9517309  0.96727326 0.93752342 0.88458957 0.88781186\n",
      " 0.83442217 0.85277171 0.87735769 0.86229211 0.82424803 0.84419252\n",
      " 0.82410991 0.83960461 0.78186631 0.80127356 0.83919595 0.84789366\n",
      " 0.83540849 0.83890563 0.82718609 0.78231015 0.71377775 0.71639816\n",
      " 0.73531397 0.73714451 0.73410107 0.68995595 0.68327317 0.71629936\n",
      " 0.72776668 0.67539028 0.67344462 0.70904045 0.68985161 0.66704747\n",
      " 0.67712476 0.67491551 0.67761566 0.70966211 0.70486058 0.73846064\n",
      " 0.73904749 0.73293323 0.73884989 0.73621463 0.68865832 0.67082769\n",
      " 0.68225739 0.66867292 0.69018491 0.68486142 0.67103661 0.66230097\n",
      " 0.62601195 0.61965242 0.59467045 0.59741389 0.60018259 0.59877471\n",
      " 0.61302796 0.63193549 0.61077939 0.61869819 0.61990908 0.61891917\n",
      " 0.60546485 0.60741416 0.59757575 0.58099551 0.51518165 0.4929419\n",
      " 0.51236851 0.51825193 0.52292215 0.52133439 0.52579325 0.53586219\n",
      " 0.54137664 0.5379391  0.54675236 0.55080657 0.52809235 0.5551905\n",
      " 0.55929697 0.56878775 0.57971966 0.59049886 0.60052669 0.60955167\n",
      " 0.61748809 0.62434673 0.63019174 0.63509095]\n",
      "11 day output [[0.6390921]]\n",
      "12 day input [0.93392528 1.         0.99072737 0.95992358 0.95921809 0.9468439\n",
      " 0.9517309  0.96727326 0.93752342 0.88458957 0.88781186 0.83442217\n",
      " 0.85277171 0.87735769 0.86229211 0.82424803 0.84419252 0.82410991\n",
      " 0.83960461 0.78186631 0.80127356 0.83919595 0.84789366 0.83540849\n",
      " 0.83890563 0.82718609 0.78231015 0.71377775 0.71639816 0.73531397\n",
      " 0.73714451 0.73410107 0.68995595 0.68327317 0.71629936 0.72776668\n",
      " 0.67539028 0.67344462 0.70904045 0.68985161 0.66704747 0.67712476\n",
      " 0.67491551 0.67761566 0.70966211 0.70486058 0.73846064 0.73904749\n",
      " 0.73293323 0.73884989 0.73621463 0.68865832 0.67082769 0.68225739\n",
      " 0.66867292 0.69018491 0.68486142 0.67103661 0.66230097 0.62601195\n",
      " 0.61965242 0.59467045 0.59741389 0.60018259 0.59877471 0.61302796\n",
      " 0.63193549 0.61077939 0.61869819 0.61990908 0.61891917 0.60546485\n",
      " 0.60741416 0.59757575 0.58099551 0.51518165 0.4929419  0.51236851\n",
      " 0.51825193 0.52292215 0.52133439 0.52579325 0.53586219 0.54137664\n",
      " 0.5379391  0.54675236 0.55080657 0.52809235 0.5551905  0.55929697\n",
      " 0.56878775 0.57971966 0.59049886 0.60052669 0.60955167 0.61748809\n",
      " 0.62434673 0.63019174 0.63509095 0.63909209]\n",
      "12 day output [[0.64222205]]\n",
      "13 day input [1.         0.99072737 0.95992358 0.95921809 0.9468439  0.9517309\n",
      " 0.96727326 0.93752342 0.88458957 0.88781186 0.83442217 0.85277171\n",
      " 0.87735769 0.86229211 0.82424803 0.84419252 0.82410991 0.83960461\n",
      " 0.78186631 0.80127356 0.83919595 0.84789366 0.83540849 0.83890563\n",
      " 0.82718609 0.78231015 0.71377775 0.71639816 0.73531397 0.73714451\n",
      " 0.73410107 0.68995595 0.68327317 0.71629936 0.72776668 0.67539028\n",
      " 0.67344462 0.70904045 0.68985161 0.66704747 0.67712476 0.67491551\n",
      " 0.67761566 0.70966211 0.70486058 0.73846064 0.73904749 0.73293323\n",
      " 0.73884989 0.73621463 0.68865832 0.67082769 0.68225739 0.66867292\n",
      " 0.69018491 0.68486142 0.67103661 0.66230097 0.62601195 0.61965242\n",
      " 0.59467045 0.59741389 0.60018259 0.59877471 0.61302796 0.63193549\n",
      " 0.61077939 0.61869819 0.61990908 0.61891917 0.60546485 0.60741416\n",
      " 0.59757575 0.58099551 0.51518165 0.4929419  0.51236851 0.51825193\n",
      " 0.52292215 0.52133439 0.52579325 0.53586219 0.54137664 0.5379391\n",
      " 0.54675236 0.55080657 0.52809235 0.5551905  0.55929697 0.56878775\n",
      " 0.57971966 0.59049886 0.60052669 0.60955167 0.61748809 0.62434673\n",
      " 0.63019174 0.63509095 0.63909209 0.64222205]\n",
      "13 day output [[0.64449805]]\n",
      "14 day input [0.99072737 0.95992358 0.95921809 0.9468439  0.9517309  0.96727326\n",
      " 0.93752342 0.88458957 0.88781186 0.83442217 0.85277171 0.87735769\n",
      " 0.86229211 0.82424803 0.84419252 0.82410991 0.83960461 0.78186631\n",
      " 0.80127356 0.83919595 0.84789366 0.83540849 0.83890563 0.82718609\n",
      " 0.78231015 0.71377775 0.71639816 0.73531397 0.73714451 0.73410107\n",
      " 0.68995595 0.68327317 0.71629936 0.72776668 0.67539028 0.67344462\n",
      " 0.70904045 0.68985161 0.66704747 0.67712476 0.67491551 0.67761566\n",
      " 0.70966211 0.70486058 0.73846064 0.73904749 0.73293323 0.73884989\n",
      " 0.73621463 0.68865832 0.67082769 0.68225739 0.66867292 0.69018491\n",
      " 0.68486142 0.67103661 0.66230097 0.62601195 0.61965242 0.59467045\n",
      " 0.59741389 0.60018259 0.59877471 0.61302796 0.63193549 0.61077939\n",
      " 0.61869819 0.61990908 0.61891917 0.60546485 0.60741416 0.59757575\n",
      " 0.58099551 0.51518165 0.4929419  0.51236851 0.51825193 0.52292215\n",
      " 0.52133439 0.52579325 0.53586219 0.54137664 0.5379391  0.54675236\n",
      " 0.55080657 0.52809235 0.5551905  0.55929697 0.56878775 0.57971966\n",
      " 0.59049886 0.60052669 0.60955167 0.61748809 0.62434673 0.63019174\n",
      " 0.63509095 0.63909209 0.64222205 0.64449805]\n",
      "14 day output [[0.64594996]]\n",
      "15 day input [0.95992358 0.95921809 0.9468439  0.9517309  0.96727326 0.93752342\n",
      " 0.88458957 0.88781186 0.83442217 0.85277171 0.87735769 0.86229211\n",
      " 0.82424803 0.84419252 0.82410991 0.83960461 0.78186631 0.80127356\n",
      " 0.83919595 0.84789366 0.83540849 0.83890563 0.82718609 0.78231015\n",
      " 0.71377775 0.71639816 0.73531397 0.73714451 0.73410107 0.68995595\n",
      " 0.68327317 0.71629936 0.72776668 0.67539028 0.67344462 0.70904045\n",
      " 0.68985161 0.66704747 0.67712476 0.67491551 0.67761566 0.70966211\n",
      " 0.70486058 0.73846064 0.73904749 0.73293323 0.73884989 0.73621463\n",
      " 0.68865832 0.67082769 0.68225739 0.66867292 0.69018491 0.68486142\n",
      " 0.67103661 0.66230097 0.62601195 0.61965242 0.59467045 0.59741389\n",
      " 0.60018259 0.59877471 0.61302796 0.63193549 0.61077939 0.61869819\n",
      " 0.61990908 0.61891917 0.60546485 0.60741416 0.59757575 0.58099551\n",
      " 0.51518165 0.4929419  0.51236851 0.51825193 0.52292215 0.52133439\n",
      " 0.52579325 0.53586219 0.54137664 0.5379391  0.54675236 0.55080657\n",
      " 0.52809235 0.5551905  0.55929697 0.56878775 0.57971966 0.59049886\n",
      " 0.60052669 0.60955167 0.61748809 0.62434673 0.63019174 0.63509095\n",
      " 0.63909209 0.64222205 0.64449805 0.64594996]\n",
      "15 day output [[0.6466482]]\n",
      "16 day input [0.95921809 0.9468439  0.9517309  0.96727326 0.93752342 0.88458957\n",
      " 0.88781186 0.83442217 0.85277171 0.87735769 0.86229211 0.82424803\n",
      " 0.84419252 0.82410991 0.83960461 0.78186631 0.80127356 0.83919595\n",
      " 0.84789366 0.83540849 0.83890563 0.82718609 0.78231015 0.71377775\n",
      " 0.71639816 0.73531397 0.73714451 0.73410107 0.68995595 0.68327317\n",
      " 0.71629936 0.72776668 0.67539028 0.67344462 0.70904045 0.68985161\n",
      " 0.66704747 0.67712476 0.67491551 0.67761566 0.70966211 0.70486058\n",
      " 0.73846064 0.73904749 0.73293323 0.73884989 0.73621463 0.68865832\n",
      " 0.67082769 0.68225739 0.66867292 0.69018491 0.68486142 0.67103661\n",
      " 0.66230097 0.62601195 0.61965242 0.59467045 0.59741389 0.60018259\n",
      " 0.59877471 0.61302796 0.63193549 0.61077939 0.61869819 0.61990908\n",
      " 0.61891917 0.60546485 0.60741416 0.59757575 0.58099551 0.51518165\n",
      " 0.4929419  0.51236851 0.51825193 0.52292215 0.52133439 0.52579325\n",
      " 0.53586219 0.54137664 0.5379391  0.54675236 0.55080657 0.52809235\n",
      " 0.5551905  0.55929697 0.56878775 0.57971966 0.59049886 0.60052669\n",
      " 0.60955167 0.61748809 0.62434673 0.63019174 0.63509095 0.63909209\n",
      " 0.64222205 0.64449805 0.64594996 0.64664823]\n",
      "16 day output [[0.6467073]]\n",
      "17 day input [0.9468439  0.9517309  0.96727326 0.93752342 0.88458957 0.88781186\n",
      " 0.83442217 0.85277171 0.87735769 0.86229211 0.82424803 0.84419252\n",
      " 0.82410991 0.83960461 0.78186631 0.80127356 0.83919595 0.84789366\n",
      " 0.83540849 0.83890563 0.82718609 0.78231015 0.71377775 0.71639816\n",
      " 0.73531397 0.73714451 0.73410107 0.68995595 0.68327317 0.71629936\n",
      " 0.72776668 0.67539028 0.67344462 0.70904045 0.68985161 0.66704747\n",
      " 0.67712476 0.67491551 0.67761566 0.70966211 0.70486058 0.73846064\n",
      " 0.73904749 0.73293323 0.73884989 0.73621463 0.68865832 0.67082769\n",
      " 0.68225739 0.66867292 0.69018491 0.68486142 0.67103661 0.66230097\n",
      " 0.62601195 0.61965242 0.59467045 0.59741389 0.60018259 0.59877471\n",
      " 0.61302796 0.63193549 0.61077939 0.61869819 0.61990908 0.61891917\n",
      " 0.60546485 0.60741416 0.59757575 0.58099551 0.51518165 0.4929419\n",
      " 0.51236851 0.51825193 0.52292215 0.52133439 0.52579325 0.53586219\n",
      " 0.54137664 0.5379391  0.54675236 0.55080657 0.52809235 0.5551905\n",
      " 0.55929697 0.56878775 0.57971966 0.59049886 0.60052669 0.60955167\n",
      " 0.61748809 0.62434673 0.63019174 0.63509095 0.63909209 0.64222205\n",
      " 0.64449805 0.64594996 0.64664823 0.6467073 ]\n",
      "17 day output [[0.6462851]]\n",
      "18 day input [0.9517309  0.96727326 0.93752342 0.88458957 0.88781186 0.83442217\n",
      " 0.85277171 0.87735769 0.86229211 0.82424803 0.84419252 0.82410991\n",
      " 0.83960461 0.78186631 0.80127356 0.83919595 0.84789366 0.83540849\n",
      " 0.83890563 0.82718609 0.78231015 0.71377775 0.71639816 0.73531397\n",
      " 0.73714451 0.73410107 0.68995595 0.68327317 0.71629936 0.72776668\n",
      " 0.67539028 0.67344462 0.70904045 0.68985161 0.66704747 0.67712476\n",
      " 0.67491551 0.67761566 0.70966211 0.70486058 0.73846064 0.73904749\n",
      " 0.73293323 0.73884989 0.73621463 0.68865832 0.67082769 0.68225739\n",
      " 0.66867292 0.69018491 0.68486142 0.67103661 0.66230097 0.62601195\n",
      " 0.61965242 0.59467045 0.59741389 0.60018259 0.59877471 0.61302796\n",
      " 0.63193549 0.61077939 0.61869819 0.61990908 0.61891917 0.60546485\n",
      " 0.60741416 0.59757575 0.58099551 0.51518165 0.4929419  0.51236851\n",
      " 0.51825193 0.52292215 0.52133439 0.52579325 0.53586219 0.54137664\n",
      " 0.5379391  0.54675236 0.55080657 0.52809235 0.5551905  0.55929697\n",
      " 0.56878775 0.57971966 0.59049886 0.60052669 0.60955167 0.61748809\n",
      " 0.62434673 0.63019174 0.63509095 0.63909209 0.64222205 0.64449805\n",
      " 0.64594996 0.64664823 0.6467073  0.64628512]\n",
      "18 day output [[0.64557785]]\n",
      "19 day input [0.96727326 0.93752342 0.88458957 0.88781186 0.83442217 0.85277171\n",
      " 0.87735769 0.86229211 0.82424803 0.84419252 0.82410991 0.83960461\n",
      " 0.78186631 0.80127356 0.83919595 0.84789366 0.83540849 0.83890563\n",
      " 0.82718609 0.78231015 0.71377775 0.71639816 0.73531397 0.73714451\n",
      " 0.73410107 0.68995595 0.68327317 0.71629936 0.72776668 0.67539028\n",
      " 0.67344462 0.70904045 0.68985161 0.66704747 0.67712476 0.67491551\n",
      " 0.67761566 0.70966211 0.70486058 0.73846064 0.73904749 0.73293323\n",
      " 0.73884989 0.73621463 0.68865832 0.67082769 0.68225739 0.66867292\n",
      " 0.69018491 0.68486142 0.67103661 0.66230097 0.62601195 0.61965242\n",
      " 0.59467045 0.59741389 0.60018259 0.59877471 0.61302796 0.63193549\n",
      " 0.61077939 0.61869819 0.61990908 0.61891917 0.60546485 0.60741416\n",
      " 0.59757575 0.58099551 0.51518165 0.4929419  0.51236851 0.51825193\n",
      " 0.52292215 0.52133439 0.52579325 0.53586219 0.54137664 0.5379391\n",
      " 0.54675236 0.55080657 0.52809235 0.5551905  0.55929697 0.56878775\n",
      " 0.57971966 0.59049886 0.60052669 0.60955167 0.61748809 0.62434673\n",
      " 0.63019174 0.63509095 0.63909209 0.64222205 0.64449805 0.64594996\n",
      " 0.64664823 0.6467073  0.64628512 0.64557785]\n",
      "19 day output [[0.6447999]]\n",
      "20 day input [0.93752342 0.88458957 0.88781186 0.83442217 0.85277171 0.87735769\n",
      " 0.86229211 0.82424803 0.84419252 0.82410991 0.83960461 0.78186631\n",
      " 0.80127356 0.83919595 0.84789366 0.83540849 0.83890563 0.82718609\n",
      " 0.78231015 0.71377775 0.71639816 0.73531397 0.73714451 0.73410107\n",
      " 0.68995595 0.68327317 0.71629936 0.72776668 0.67539028 0.67344462\n",
      " 0.70904045 0.68985161 0.66704747 0.67712476 0.67491551 0.67761566\n",
      " 0.70966211 0.70486058 0.73846064 0.73904749 0.73293323 0.73884989\n",
      " 0.73621463 0.68865832 0.67082769 0.68225739 0.66867292 0.69018491\n",
      " 0.68486142 0.67103661 0.66230097 0.62601195 0.61965242 0.59467045\n",
      " 0.59741389 0.60018259 0.59877471 0.61302796 0.63193549 0.61077939\n",
      " 0.61869819 0.61990908 0.61891917 0.60546485 0.60741416 0.59757575\n",
      " 0.58099551 0.51518165 0.4929419  0.51236851 0.51825193 0.52292215\n",
      " 0.52133439 0.52579325 0.53586219 0.54137664 0.5379391  0.54675236\n",
      " 0.55080657 0.52809235 0.5551905  0.55929697 0.56878775 0.57971966\n",
      " 0.59049886 0.60052669 0.60955167 0.61748809 0.62434673 0.63019174\n",
      " 0.63509095 0.63909209 0.64222205 0.64449805 0.64594996 0.64664823\n",
      " 0.6467073  0.64628512 0.64557785 0.64479989]\n",
      "20 day output [[0.6441678]]\n",
      "21 day input [0.88458957 0.88781186 0.83442217 0.85277171 0.87735769 0.86229211\n",
      " 0.82424803 0.84419252 0.82410991 0.83960461 0.78186631 0.80127356\n",
      " 0.83919595 0.84789366 0.83540849 0.83890563 0.82718609 0.78231015\n",
      " 0.71377775 0.71639816 0.73531397 0.73714451 0.73410107 0.68995595\n",
      " 0.68327317 0.71629936 0.72776668 0.67539028 0.67344462 0.70904045\n",
      " 0.68985161 0.66704747 0.67712476 0.67491551 0.67761566 0.70966211\n",
      " 0.70486058 0.73846064 0.73904749 0.73293323 0.73884989 0.73621463\n",
      " 0.68865832 0.67082769 0.68225739 0.66867292 0.69018491 0.68486142\n",
      " 0.67103661 0.66230097 0.62601195 0.61965242 0.59467045 0.59741389\n",
      " 0.60018259 0.59877471 0.61302796 0.63193549 0.61077939 0.61869819\n",
      " 0.61990908 0.61891917 0.60546485 0.60741416 0.59757575 0.58099551\n",
      " 0.51518165 0.4929419  0.51236851 0.51825193 0.52292215 0.52133439\n",
      " 0.52579325 0.53586219 0.54137664 0.5379391  0.54675236 0.55080657\n",
      " 0.52809235 0.5551905  0.55929697 0.56878775 0.57971966 0.59049886\n",
      " 0.60052669 0.60955167 0.61748809 0.62434673 0.63019174 0.63509095\n",
      " 0.63909209 0.64222205 0.64449805 0.64594996 0.64664823 0.6467073\n",
      " 0.64628512 0.64557785 0.64479989 0.64416778]\n",
      "21 day output [[0.6438889]]\n",
      "22 day input [0.88781186 0.83442217 0.85277171 0.87735769 0.86229211 0.82424803\n",
      " 0.84419252 0.82410991 0.83960461 0.78186631 0.80127356 0.83919595\n",
      " 0.84789366 0.83540849 0.83890563 0.82718609 0.78231015 0.71377775\n",
      " 0.71639816 0.73531397 0.73714451 0.73410107 0.68995595 0.68327317\n",
      " 0.71629936 0.72776668 0.67539028 0.67344462 0.70904045 0.68985161\n",
      " 0.66704747 0.67712476 0.67491551 0.67761566 0.70966211 0.70486058\n",
      " 0.73846064 0.73904749 0.73293323 0.73884989 0.73621463 0.68865832\n",
      " 0.67082769 0.68225739 0.66867292 0.69018491 0.68486142 0.67103661\n",
      " 0.66230097 0.62601195 0.61965242 0.59467045 0.59741389 0.60018259\n",
      " 0.59877471 0.61302796 0.63193549 0.61077939 0.61869819 0.61990908\n",
      " 0.61891917 0.60546485 0.60741416 0.59757575 0.58099551 0.51518165\n",
      " 0.4929419  0.51236851 0.51825193 0.52292215 0.52133439 0.52579325\n",
      " 0.53586219 0.54137664 0.5379391  0.54675236 0.55080657 0.52809235\n",
      " 0.5551905  0.55929697 0.56878775 0.57971966 0.59049886 0.60052669\n",
      " 0.60955167 0.61748809 0.62434673 0.63019174 0.63509095 0.63909209\n",
      " 0.64222205 0.64449805 0.64594996 0.64664823 0.6467073  0.64628512\n",
      " 0.64557785 0.64479989 0.64416778 0.64388889]\n",
      "22 day output [[0.64414686]]\n",
      "23 day input [0.83442217 0.85277171 0.87735769 0.86229211 0.82424803 0.84419252\n",
      " 0.82410991 0.83960461 0.78186631 0.80127356 0.83919595 0.84789366\n",
      " 0.83540849 0.83890563 0.82718609 0.78231015 0.71377775 0.71639816\n",
      " 0.73531397 0.73714451 0.73410107 0.68995595 0.68327317 0.71629936\n",
      " 0.72776668 0.67539028 0.67344462 0.70904045 0.68985161 0.66704747\n",
      " 0.67712476 0.67491551 0.67761566 0.70966211 0.70486058 0.73846064\n",
      " 0.73904749 0.73293323 0.73884989 0.73621463 0.68865832 0.67082769\n",
      " 0.68225739 0.66867292 0.69018491 0.68486142 0.67103661 0.66230097\n",
      " 0.62601195 0.61965242 0.59467045 0.59741389 0.60018259 0.59877471\n",
      " 0.61302796 0.63193549 0.61077939 0.61869819 0.61990908 0.61891917\n",
      " 0.60546485 0.60741416 0.59757575 0.58099551 0.51518165 0.4929419\n",
      " 0.51236851 0.51825193 0.52292215 0.52133439 0.52579325 0.53586219\n",
      " 0.54137664 0.5379391  0.54675236 0.55080657 0.52809235 0.5551905\n",
      " 0.55929697 0.56878775 0.57971966 0.59049886 0.60052669 0.60955167\n",
      " 0.61748809 0.62434673 0.63019174 0.63509095 0.63909209 0.64222205\n",
      " 0.64449805 0.64594996 0.64664823 0.6467073  0.64628512 0.64557785\n",
      " 0.64479989 0.64416778 0.64388889 0.64414686]\n",
      "23 day output [[0.64508694]]\n",
      "24 day input [0.85277171 0.87735769 0.86229211 0.82424803 0.84419252 0.82410991\n",
      " 0.83960461 0.78186631 0.80127356 0.83919595 0.84789366 0.83540849\n",
      " 0.83890563 0.82718609 0.78231015 0.71377775 0.71639816 0.73531397\n",
      " 0.73714451 0.73410107 0.68995595 0.68327317 0.71629936 0.72776668\n",
      " 0.67539028 0.67344462 0.70904045 0.68985161 0.66704747 0.67712476\n",
      " 0.67491551 0.67761566 0.70966211 0.70486058 0.73846064 0.73904749\n",
      " 0.73293323 0.73884989 0.73621463 0.68865832 0.67082769 0.68225739\n",
      " 0.66867292 0.69018491 0.68486142 0.67103661 0.66230097 0.62601195\n",
      " 0.61965242 0.59467045 0.59741389 0.60018259 0.59877471 0.61302796\n",
      " 0.63193549 0.61077939 0.61869819 0.61990908 0.61891917 0.60546485\n",
      " 0.60741416 0.59757575 0.58099551 0.51518165 0.4929419  0.51236851\n",
      " 0.51825193 0.52292215 0.52133439 0.52579325 0.53586219 0.54137664\n",
      " 0.5379391  0.54675236 0.55080657 0.52809235 0.5551905  0.55929697\n",
      " 0.56878775 0.57971966 0.59049886 0.60052669 0.60955167 0.61748809\n",
      " 0.62434673 0.63019174 0.63509095 0.63909209 0.64222205 0.64449805\n",
      " 0.64594996 0.64664823 0.6467073  0.64628512 0.64557785 0.64479989\n",
      " 0.64416778 0.64388889 0.64414686 0.64508694]\n",
      "24 day output [[0.64682966]]\n",
      "25 day input [0.87735769 0.86229211 0.82424803 0.84419252 0.82410991 0.83960461\n",
      " 0.78186631 0.80127356 0.83919595 0.84789366 0.83540849 0.83890563\n",
      " 0.82718609 0.78231015 0.71377775 0.71639816 0.73531397 0.73714451\n",
      " 0.73410107 0.68995595 0.68327317 0.71629936 0.72776668 0.67539028\n",
      " 0.67344462 0.70904045 0.68985161 0.66704747 0.67712476 0.67491551\n",
      " 0.67761566 0.70966211 0.70486058 0.73846064 0.73904749 0.73293323\n",
      " 0.73884989 0.73621463 0.68865832 0.67082769 0.68225739 0.66867292\n",
      " 0.69018491 0.68486142 0.67103661 0.66230097 0.62601195 0.61965242\n",
      " 0.59467045 0.59741389 0.60018259 0.59877471 0.61302796 0.63193549\n",
      " 0.61077939 0.61869819 0.61990908 0.61891917 0.60546485 0.60741416\n",
      " 0.59757575 0.58099551 0.51518165 0.4929419  0.51236851 0.51825193\n",
      " 0.52292215 0.52133439 0.52579325 0.53586219 0.54137664 0.5379391\n",
      " 0.54675236 0.55080657 0.52809235 0.5551905  0.55929697 0.56878775\n",
      " 0.57971966 0.59049886 0.60052669 0.60955167 0.61748809 0.62434673\n",
      " 0.63019174 0.63509095 0.63909209 0.64222205 0.64449805 0.64594996\n",
      " 0.64664823 0.6467073  0.64628512 0.64557785 0.64479989 0.64416778\n",
      " 0.64388889 0.64414686 0.64508694 0.64682966]\n",
      "25 day output [[0.6494507]]\n",
      "26 day input [0.86229211 0.82424803 0.84419252 0.82410991 0.83960461 0.78186631\n",
      " 0.80127356 0.83919595 0.84789366 0.83540849 0.83890563 0.82718609\n",
      " 0.78231015 0.71377775 0.71639816 0.73531397 0.73714451 0.73410107\n",
      " 0.68995595 0.68327317 0.71629936 0.72776668 0.67539028 0.67344462\n",
      " 0.70904045 0.68985161 0.66704747 0.67712476 0.67491551 0.67761566\n",
      " 0.70966211 0.70486058 0.73846064 0.73904749 0.73293323 0.73884989\n",
      " 0.73621463 0.68865832 0.67082769 0.68225739 0.66867292 0.69018491\n",
      " 0.68486142 0.67103661 0.66230097 0.62601195 0.61965242 0.59467045\n",
      " 0.59741389 0.60018259 0.59877471 0.61302796 0.63193549 0.61077939\n",
      " 0.61869819 0.61990908 0.61891917 0.60546485 0.60741416 0.59757575\n",
      " 0.58099551 0.51518165 0.4929419  0.51236851 0.51825193 0.52292215\n",
      " 0.52133439 0.52579325 0.53586219 0.54137664 0.5379391  0.54675236\n",
      " 0.55080657 0.52809235 0.5551905  0.55929697 0.56878775 0.57971966\n",
      " 0.59049886 0.60052669 0.60955167 0.61748809 0.62434673 0.63019174\n",
      " 0.63509095 0.63909209 0.64222205 0.64449805 0.64594996 0.64664823\n",
      " 0.6467073  0.64628512 0.64557785 0.64479989 0.64416778 0.64388889\n",
      " 0.64414686 0.64508694 0.64682966 0.64945072]\n",
      "26 day output [[0.6529972]]\n",
      "27 day input [0.82424803 0.84419252 0.82410991 0.83960461 0.78186631 0.80127356\n",
      " 0.83919595 0.84789366 0.83540849 0.83890563 0.82718609 0.78231015\n",
      " 0.71377775 0.71639816 0.73531397 0.73714451 0.73410107 0.68995595\n",
      " 0.68327317 0.71629936 0.72776668 0.67539028 0.67344462 0.70904045\n",
      " 0.68985161 0.66704747 0.67712476 0.67491551 0.67761566 0.70966211\n",
      " 0.70486058 0.73846064 0.73904749 0.73293323 0.73884989 0.73621463\n",
      " 0.68865832 0.67082769 0.68225739 0.66867292 0.69018491 0.68486142\n",
      " 0.67103661 0.66230097 0.62601195 0.61965242 0.59467045 0.59741389\n",
      " 0.60018259 0.59877471 0.61302796 0.63193549 0.61077939 0.61869819\n",
      " 0.61990908 0.61891917 0.60546485 0.60741416 0.59757575 0.58099551\n",
      " 0.51518165 0.4929419  0.51236851 0.51825193 0.52292215 0.52133439\n",
      " 0.52579325 0.53586219 0.54137664 0.5379391  0.54675236 0.55080657\n",
      " 0.52809235 0.5551905  0.55929697 0.56878775 0.57971966 0.59049886\n",
      " 0.60052669 0.60955167 0.61748809 0.62434673 0.63019174 0.63509095\n",
      " 0.63909209 0.64222205 0.64449805 0.64594996 0.64664823 0.6467073\n",
      " 0.64628512 0.64557785 0.64479989 0.64416778 0.64388889 0.64414686\n",
      " 0.64508694 0.64682966 0.64945072 0.6529972 ]\n",
      "27 day output [[0.6574905]]\n",
      "28 day input [0.84419252 0.82410991 0.83960461 0.78186631 0.80127356 0.83919595\n",
      " 0.84789366 0.83540849 0.83890563 0.82718609 0.78231015 0.71377775\n",
      " 0.71639816 0.73531397 0.73714451 0.73410107 0.68995595 0.68327317\n",
      " 0.71629936 0.72776668 0.67539028 0.67344462 0.70904045 0.68985161\n",
      " 0.66704747 0.67712476 0.67491551 0.67761566 0.70966211 0.70486058\n",
      " 0.73846064 0.73904749 0.73293323 0.73884989 0.73621463 0.68865832\n",
      " 0.67082769 0.68225739 0.66867292 0.69018491 0.68486142 0.67103661\n",
      " 0.66230097 0.62601195 0.61965242 0.59467045 0.59741389 0.60018259\n",
      " 0.59877471 0.61302796 0.63193549 0.61077939 0.61869819 0.61990908\n",
      " 0.61891917 0.60546485 0.60741416 0.59757575 0.58099551 0.51518165\n",
      " 0.4929419  0.51236851 0.51825193 0.52292215 0.52133439 0.52579325\n",
      " 0.53586219 0.54137664 0.5379391  0.54675236 0.55080657 0.52809235\n",
      " 0.5551905  0.55929697 0.56878775 0.57971966 0.59049886 0.60052669\n",
      " 0.60955167 0.61748809 0.62434673 0.63019174 0.63509095 0.63909209\n",
      " 0.64222205 0.64449805 0.64594996 0.64664823 0.6467073  0.64628512\n",
      " 0.64557785 0.64479989 0.64416778 0.64388889 0.64414686 0.64508694\n",
      " 0.64682966 0.64945072 0.6529972  0.65749049]\n",
      "28 day output [[0.662923]]\n",
      "29 day input [0.82410991 0.83960461 0.78186631 0.80127356 0.83919595 0.84789366\n",
      " 0.83540849 0.83890563 0.82718609 0.78231015 0.71377775 0.71639816\n",
      " 0.73531397 0.73714451 0.73410107 0.68995595 0.68327317 0.71629936\n",
      " 0.72776668 0.67539028 0.67344462 0.70904045 0.68985161 0.66704747\n",
      " 0.67712476 0.67491551 0.67761566 0.70966211 0.70486058 0.73846064\n",
      " 0.73904749 0.73293323 0.73884989 0.73621463 0.68865832 0.67082769\n",
      " 0.68225739 0.66867292 0.69018491 0.68486142 0.67103661 0.66230097\n",
      " 0.62601195 0.61965242 0.59467045 0.59741389 0.60018259 0.59877471\n",
      " 0.61302796 0.63193549 0.61077939 0.61869819 0.61990908 0.61891917\n",
      " 0.60546485 0.60741416 0.59757575 0.58099551 0.51518165 0.4929419\n",
      " 0.51236851 0.51825193 0.52292215 0.52133439 0.52579325 0.53586219\n",
      " 0.54137664 0.5379391  0.54675236 0.55080657 0.52809235 0.5551905\n",
      " 0.55929697 0.56878775 0.57971966 0.59049886 0.60052669 0.60955167\n",
      " 0.61748809 0.62434673 0.63019174 0.63509095 0.63909209 0.64222205\n",
      " 0.64449805 0.64594996 0.64664823 0.6467073  0.64628512 0.64557785\n",
      " 0.64479989 0.64416778 0.64388889 0.64414686 0.64508694 0.64682966\n",
      " 0.64945072 0.6529972  0.65749049 0.66292298]\n",
      "29 day output [[0.66925526]]\n",
      "[[0.5551905035972595], [0.5592969655990601], [0.5687877535820007], [0.5797196626663208], [0.5904988646507263], [0.6005266904830933], [0.6095516681671143], [0.6174880862236023], [0.6243467330932617], [0.6301917433738708], [0.6350909471511841], [0.6390920877456665], [0.6422220468521118], [0.6444980502128601], [0.6459499597549438], [0.6466482281684875], [0.64670729637146], [0.6462851166725159], [0.6455778479576111], [0.6447998881340027], [0.6441677808761597], [0.6438888907432556], [0.6441468596458435], [0.645086944103241], [0.6468296647071838], [0.6494507193565369], [0.6529971957206726], [0.6574904918670654], [0.6629229784011841], [0.669255256652832]]\n"
     ]
    }
   ],
   "source": [
    "from numpy import array\n",
    "\n",
    "lst_output = []\n",
    "n_steps = 100\n",
    "i = 0\n",
    "\n",
    "while(i < 30):\n",
    "    if(len(temp_input)> 100):\n",
    "        x_input = np.array(temp_input[1:])\n",
    "        print(\"{} day input {}\".format(i, x_input))\n",
    "        x_input = x_input.reshape(1,-1)\n",
    "        x_input = x_input.reshape((1, n_steps, 1))\n",
    "        yhat = model.predict(x_input, verbose = 0)\n",
    "        print(\"{} day output {}\".format(i, yhat))\n",
    "        temp_input.extend(yhat[0].tolist())\n",
    "        temp_input = temp_input[1:]\n",
    "        \n",
    "        lst_output.extend(yhat.tolist())\n",
    "        i = i+1\n",
    "    else:\n",
    "        x_input = x_input.reshape((1, n_steps, 1))\n",
    "        yhat = model.predict(x_input, verbose = 0)\n",
    "        print(yhat[0])\n",
    "        temp_input.extend(yhat[0].tolist())\n",
    "        print(len(temp_input))\n",
    "        lst_output.extend(yhat.tolist())\n",
    "        i= i+1\n",
    "        \n",
    "print(lst_output)        "
   ]
  },
  {
   "cell_type": "code",
   "execution_count": 36,
   "id": "47d6b9b4",
   "metadata": {},
   "outputs": [],
   "source": [
    "day_new = np.arange(1, 101) #100 days\n",
    "day_pred = np.arange(101, 131) # 30 days"
   ]
  },
  {
   "cell_type": "code",
   "execution_count": 37,
   "id": "b1e57dde",
   "metadata": {},
   "outputs": [],
   "source": [
    "import matplotlib.pyplot as plt"
   ]
  },
  {
   "cell_type": "code",
   "execution_count": 38,
   "id": "946337b7",
   "metadata": {},
   "outputs": [
    {
     "data": {
      "text/plain": [
       "1098"
      ]
     },
     "execution_count": 38,
     "metadata": {},
     "output_type": "execute_result"
    }
   ],
   "source": [
    "len(df1)"
   ]
  },
  {
   "cell_type": "code",
   "execution_count": 39,
   "id": "4debdb5a",
   "metadata": {},
   "outputs": [],
   "source": [
    "new_df = df1.tolist()\n",
    "new_df.extend(lst_output)"
   ]
  },
  {
   "cell_type": "code",
   "execution_count": 43,
   "id": "2b8b3c5f",
   "metadata": {},
   "outputs": [
    {
     "data": {
      "text/plain": [
       "<matplotlib.legend.Legend at 0x1c0fa16bfa0>"
      ]
     },
     "execution_count": 43,
     "metadata": {},
     "output_type": "execute_result"
    },
    {
     "data": {
      "image/png": "[encoded data removed]",
      "text/plain": [
       "<Figure size 1080x360 with 1 Axes>"
      ]
     },
     "metadata": {
      "needs_background": "light"
     },
     "output_type": "display_data"
    }
   ],
   "source": [
    "plt.figure(figsize=(15,5))\n",
    "plt.plot(day_new, scaler.inverse_transform(df1[998:]), color = 'skyblue')\n",
    "plt.plot(day_pred, scaler.inverse_transform(lst_output), color = 'green')\n",
    "plt.legend(['original','future stock'])"
   ]
  },
  {
   "cell_type": "markdown",
   "id": "1a277165",
   "metadata": {},
   "source": [
    "<b> overview the plot </b>"
   ]
  },
  {
   "cell_type": "code",
   "execution_count": 42,
   "id": "0fc15bb6",
   "metadata": {},
   "outputs": [
    {
     "data": {
      "text/plain": [
       "[<matplotlib.lines.Line2D at 0x1c0f9d8e3a0>]"
      ]
     },
     "execution_count": 42,
     "metadata": {},
     "output_type": "execute_result"
    },
    {
     "data": {
      "image/png": "[encoded data removed]",
      "text/plain": [
       "<Figure size 1440x360 with 1 Axes>"
      ]
     },
     "metadata": {
      "needs_background": "light"
     },
     "output_type": "display_data"
    }
   ],
   "source": [
    "new_df = df1.tolist()\n",
    "new_df.extend(lst_output)\n",
    "plt.figure(figsize=(20,5))\n",
    "plt.plot(new_df[500:])\n"
   ]
  }
 ],
 "metadata": {
  "kernelspec": {
   "display_name": "Python 3 (ipykernel)",
   "language": "python",
   "name": "python3"
  },
  "language_info": {
   "codemirror_mode": {
    "name": "ipython",
    "version": 3
   },
   "file_extension": ".py",
   "mimetype": "text/x-python",
   "name": "python",
   "nbconvert_exporter": "python",
   "pygments_lexer": "ipython3",
   "version": "3.8.11"
  }
 },
 "nbformat": 4,
 "nbformat_minor": 5
}
