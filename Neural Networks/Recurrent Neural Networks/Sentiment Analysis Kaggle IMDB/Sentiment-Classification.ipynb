{
 "cells": [
  {
   "cell_type": "code",
   "execution_count": 1,
   "id": "1391eb82",
   "metadata": {},
   "outputs": [
    {
     "name": "stderr",
     "output_type": "stream",
     "text": [
      "[nltk_data] Downloading package punkt to\n",
      "[nltk_data]     C:\\Users\\zaral\\AppData\\Roaming\\nltk_data...\n",
      "[nltk_data]   Package punkt is already up-to-date!\n"
     ]
    }
   ],
   "source": [
    "import pandas as pd\n",
    "import numpy as np\n",
    "import matplotlib.pyplot as plt\n",
    "import seaborn as sns\n",
    "import nltk\n",
    "nltk.download('punkt')\n",
    "\n",
    "from nltk.tokenize import word_tokenize\n",
    "from keras.preprocessing.text import Tokenizer\n",
    "from keras.preprocessing.sequence import pad_sequences\n",
    "from keras.models import Sequential\n",
    "from keras.layers import Embedding, LSTM, Dense, Dropout\n",
    "from sklearn.preprocessing import LabelEncoder\n",
    "\n",
    "import warnings\n",
    "warnings.filterwarnings('ignore')\n",
    "sns.set()"
   ]
  },
  {
   "cell_type": "code",
   "execution_count": 2,
   "id": "c9472c81",
   "metadata": {},
   "outputs": [
    {
     "data": {
      "text/html": [
       "<div>\n",
       "<style scoped>\n",
       "    .dataframe tbody tr th:only-of-type {\n",
       "        vertical-align: middle;\n",
       "    }\n",
       "\n",
       "    .dataframe tbody tr th {\n",
       "        vertical-align: top;\n",
       "    }\n",
       "\n",
       "    .dataframe thead th {\n",
       "        text-align: right;\n",
       "    }\n",
       "</style>\n",
       "<table border=\"1\" class=\"dataframe\">\n",
       "  <thead>\n",
       "    <tr style=\"text-align: right;\">\n",
       "      <th></th>\n",
       "      <th>review</th>\n",
       "      <th>sentiment</th>\n",
       "    </tr>\n",
       "  </thead>\n",
       "  <tbody>\n",
       "    <tr>\n",
       "      <th>0</th>\n",
       "      <td>One of the other reviewers has mentioned that ...</td>\n",
       "      <td>positive</td>\n",
       "    </tr>\n",
       "    <tr>\n",
       "      <th>1</th>\n",
       "      <td>A wonderful little production. &lt;br /&gt;&lt;br /&gt;The...</td>\n",
       "      <td>positive</td>\n",
       "    </tr>\n",
       "    <tr>\n",
       "      <th>2</th>\n",
       "      <td>I thought this was a wonderful way to spend ti...</td>\n",
       "      <td>positive</td>\n",
       "    </tr>\n",
       "    <tr>\n",
       "      <th>3</th>\n",
       "      <td>Basically there's a family where a little boy ...</td>\n",
       "      <td>negative</td>\n",
       "    </tr>\n",
       "    <tr>\n",
       "      <th>4</th>\n",
       "      <td>Petter Mattei's \"Love in the Time of Money\" is...</td>\n",
       "      <td>positive</td>\n",
       "    </tr>\n",
       "  </tbody>\n",
       "</table>\n",
       "</div>"
      ],
      "text/plain": [
       "                                              review sentiment\n",
       "0  One of the other reviewers has mentioned that ...  positive\n",
       "1  A wonderful little production. <br /><br />The...  positive\n",
       "2  I thought this was a wonderful way to spend ti...  positive\n",
       "3  Basically there's a family where a little boy ...  negative\n",
       "4  Petter Mattei's \"Love in the Time of Money\" is...  positive"
      ]
     },
     "execution_count": 2,
     "metadata": {},
     "output_type": "execute_result"
    }
   ],
   "source": [
    "imdb = pd.read_csv('IMDB Dataset.csv')\n",
    "imdb.head()"
   ]
  },
  {
   "cell_type": "code",
   "execution_count": 3,
   "id": "096e721c",
   "metadata": {},
   "outputs": [
    {
     "data": {
      "text/plain": [
       "positive    25000\n",
       "negative    25000\n",
       "Name: sentiment, dtype: int64"
      ]
     },
     "execution_count": 3,
     "metadata": {},
     "output_type": "execute_result"
    }
   ],
   "source": [
    "imdb.sentiment.value_counts()"
   ]
  },
  {
   "cell_type": "code",
   "execution_count": 4,
   "id": "a93151c7",
   "metadata": {},
   "outputs": [],
   "source": [
    "corpus = []\n",
    "for text in imdb['review']:\n",
    "    words = [ word for word in word_tokenize(text)]\n",
    "    corpus.append(words)"
   ]
  },
  {
   "cell_type": "code",
   "execution_count": 5,
   "id": "f9649253",
   "metadata": {},
   "outputs": [
    {
     "data": {
      "text/plain": [
       "['One',\n",
       " 'of',\n",
       " 'the',\n",
       " 'other',\n",
       " 'reviewers',\n",
       " 'has',\n",
       " 'mentioned',\n",
       " 'that',\n",
       " 'after',\n",
       " 'watching',\n",
       " 'just',\n",
       " '1',\n",
       " 'Oz',\n",
       " 'episode',\n",
       " 'you',\n",
       " \"'ll\",\n",
       " 'be',\n",
       " 'hooked',\n",
       " '.',\n",
       " 'They',\n",
       " 'are',\n",
       " 'right',\n",
       " ',',\n",
       " 'as',\n",
       " 'this',\n",
       " 'is',\n",
       " 'exactly',\n",
       " 'what',\n",
       " 'happened',\n",
       " 'with',\n",
       " 'me.',\n",
       " '<',\n",
       " 'br',\n",
       " '/',\n",
       " '>',\n",
       " '<',\n",
       " 'br',\n",
       " '/',\n",
       " '>',\n",
       " 'The',\n",
       " 'first',\n",
       " 'thing',\n",
       " 'that',\n",
       " 'struck',\n",
       " 'me',\n",
       " 'about',\n",
       " 'Oz',\n",
       " 'was',\n",
       " 'its',\n",
       " 'brutality',\n",
       " 'and',\n",
       " 'unflinching',\n",
       " 'scenes',\n",
       " 'of',\n",
       " 'violence',\n",
       " ',',\n",
       " 'which',\n",
       " 'set',\n",
       " 'in',\n",
       " 'right',\n",
       " 'from',\n",
       " 'the',\n",
       " 'word',\n",
       " 'GO',\n",
       " '.',\n",
       " 'Trust',\n",
       " 'me',\n",
       " ',',\n",
       " 'this',\n",
       " 'is',\n",
       " 'not',\n",
       " 'a',\n",
       " 'show',\n",
       " 'for',\n",
       " 'the',\n",
       " 'faint',\n",
       " 'hearted',\n",
       " 'or',\n",
       " 'timid',\n",
       " '.',\n",
       " 'This',\n",
       " 'show',\n",
       " 'pulls',\n",
       " 'no',\n",
       " 'punches',\n",
       " 'with',\n",
       " 'regards',\n",
       " 'to',\n",
       " 'drugs',\n",
       " ',',\n",
       " 'sex',\n",
       " 'or',\n",
       " 'violence',\n",
       " '.',\n",
       " 'Its',\n",
       " 'is',\n",
       " 'hardcore',\n",
       " ',',\n",
       " 'in',\n",
       " 'the',\n",
       " 'classic',\n",
       " 'use',\n",
       " 'of',\n",
       " 'the',\n",
       " 'word.',\n",
       " '<',\n",
       " 'br',\n",
       " '/',\n",
       " '>',\n",
       " '<',\n",
       " 'br',\n",
       " '/',\n",
       " '>',\n",
       " 'It',\n",
       " 'is',\n",
       " 'called',\n",
       " 'OZ',\n",
       " 'as',\n",
       " 'that',\n",
       " 'is',\n",
       " 'the',\n",
       " 'nickname',\n",
       " 'given',\n",
       " 'to',\n",
       " 'the',\n",
       " 'Oswald',\n",
       " 'Maximum',\n",
       " 'Security',\n",
       " 'State',\n",
       " 'Penitentary',\n",
       " '.',\n",
       " 'It',\n",
       " 'focuses',\n",
       " 'mainly',\n",
       " 'on',\n",
       " 'Emerald',\n",
       " 'City',\n",
       " ',',\n",
       " 'an',\n",
       " 'experimental',\n",
       " 'section',\n",
       " 'of',\n",
       " 'the',\n",
       " 'prison',\n",
       " 'where',\n",
       " 'all',\n",
       " 'the',\n",
       " 'cells',\n",
       " 'have',\n",
       " 'glass',\n",
       " 'fronts',\n",
       " 'and',\n",
       " 'face',\n",
       " 'inwards',\n",
       " ',',\n",
       " 'so',\n",
       " 'privacy',\n",
       " 'is',\n",
       " 'not',\n",
       " 'high',\n",
       " 'on',\n",
       " 'the',\n",
       " 'agenda',\n",
       " '.',\n",
       " 'Em',\n",
       " 'City',\n",
       " 'is',\n",
       " 'home',\n",
       " 'to',\n",
       " 'many',\n",
       " '..',\n",
       " 'Aryans',\n",
       " ',',\n",
       " 'Muslims',\n",
       " ',',\n",
       " 'gangstas',\n",
       " ',',\n",
       " 'Latinos',\n",
       " ',',\n",
       " 'Christians',\n",
       " ',',\n",
       " 'Italians',\n",
       " ',',\n",
       " 'Irish',\n",
       " 'and',\n",
       " 'more',\n",
       " '....',\n",
       " 'so',\n",
       " 'scuffles',\n",
       " ',',\n",
       " 'death',\n",
       " 'stares',\n",
       " ',',\n",
       " 'dodgy',\n",
       " 'dealings',\n",
       " 'and',\n",
       " 'shady',\n",
       " 'agreements',\n",
       " 'are',\n",
       " 'never',\n",
       " 'far',\n",
       " 'away.',\n",
       " '<',\n",
       " 'br',\n",
       " '/',\n",
       " '>',\n",
       " '<',\n",
       " 'br',\n",
       " '/',\n",
       " '>',\n",
       " 'I',\n",
       " 'would',\n",
       " 'say',\n",
       " 'the',\n",
       " 'main',\n",
       " 'appeal',\n",
       " 'of',\n",
       " 'the',\n",
       " 'show',\n",
       " 'is',\n",
       " 'due',\n",
       " 'to',\n",
       " 'the',\n",
       " 'fact',\n",
       " 'that',\n",
       " 'it',\n",
       " 'goes',\n",
       " 'where',\n",
       " 'other',\n",
       " 'shows',\n",
       " 'would',\n",
       " \"n't\",\n",
       " 'dare',\n",
       " '.',\n",
       " 'Forget',\n",
       " 'pretty',\n",
       " 'pictures',\n",
       " 'painted',\n",
       " 'for',\n",
       " 'mainstream',\n",
       " 'audiences',\n",
       " ',',\n",
       " 'forget',\n",
       " 'charm',\n",
       " ',',\n",
       " 'forget',\n",
       " 'romance',\n",
       " '...',\n",
       " 'OZ',\n",
       " 'does',\n",
       " \"n't\",\n",
       " 'mess',\n",
       " 'around',\n",
       " '.',\n",
       " 'The',\n",
       " 'first',\n",
       " 'episode',\n",
       " 'I',\n",
       " 'ever',\n",
       " 'saw',\n",
       " 'struck',\n",
       " 'me',\n",
       " 'as',\n",
       " 'so',\n",
       " 'nasty',\n",
       " 'it',\n",
       " 'was',\n",
       " 'surreal',\n",
       " ',',\n",
       " 'I',\n",
       " 'could',\n",
       " \"n't\",\n",
       " 'say',\n",
       " 'I',\n",
       " 'was',\n",
       " 'ready',\n",
       " 'for',\n",
       " 'it',\n",
       " ',',\n",
       " 'but',\n",
       " 'as',\n",
       " 'I',\n",
       " 'watched',\n",
       " 'more',\n",
       " ',',\n",
       " 'I',\n",
       " 'developed',\n",
       " 'a',\n",
       " 'taste',\n",
       " 'for',\n",
       " 'Oz',\n",
       " ',',\n",
       " 'and',\n",
       " 'got',\n",
       " 'accustomed',\n",
       " 'to',\n",
       " 'the',\n",
       " 'high',\n",
       " 'levels',\n",
       " 'of',\n",
       " 'graphic',\n",
       " 'violence',\n",
       " '.',\n",
       " 'Not',\n",
       " 'just',\n",
       " 'violence',\n",
       " ',',\n",
       " 'but',\n",
       " 'injustice',\n",
       " '(',\n",
       " 'crooked',\n",
       " 'guards',\n",
       " 'who',\n",
       " \"'ll\",\n",
       " 'be',\n",
       " 'sold',\n",
       " 'out',\n",
       " 'for',\n",
       " 'a',\n",
       " 'nickel',\n",
       " ',',\n",
       " 'inmates',\n",
       " 'who',\n",
       " \"'ll\",\n",
       " 'kill',\n",
       " 'on',\n",
       " 'order',\n",
       " 'and',\n",
       " 'get',\n",
       " 'away',\n",
       " 'with',\n",
       " 'it',\n",
       " ',',\n",
       " 'well',\n",
       " 'mannered',\n",
       " ',',\n",
       " 'middle',\n",
       " 'class',\n",
       " 'inmates',\n",
       " 'being',\n",
       " 'turned',\n",
       " 'into',\n",
       " 'prison',\n",
       " 'bitches',\n",
       " 'due',\n",
       " 'to',\n",
       " 'their',\n",
       " 'lack',\n",
       " 'of',\n",
       " 'street',\n",
       " 'skills',\n",
       " 'or',\n",
       " 'prison',\n",
       " 'experience',\n",
       " ')',\n",
       " 'Watching',\n",
       " 'Oz',\n",
       " ',',\n",
       " 'you',\n",
       " 'may',\n",
       " 'become',\n",
       " 'comfortable',\n",
       " 'with',\n",
       " 'what',\n",
       " 'is',\n",
       " 'uncomfortable',\n",
       " 'viewing',\n",
       " '....',\n",
       " 'thats',\n",
       " 'if',\n",
       " 'you',\n",
       " 'can',\n",
       " 'get',\n",
       " 'in',\n",
       " 'touch',\n",
       " 'with',\n",
       " 'your',\n",
       " 'darker',\n",
       " 'side',\n",
       " '.']"
      ]
     },
     "execution_count": 5,
     "metadata": {},
     "output_type": "execute_result"
    }
   ],
   "source": [
    "corpus[0]"
   ]
  },
  {
   "cell_type": "code",
   "execution_count": 6,
   "id": "134a0a33",
   "metadata": {},
   "outputs": [
    {
     "name": "stdout",
     "output_type": "stream",
     "text": [
      "50000\n"
     ]
    }
   ],
   "source": [
    "num_words = len(corpus)\n",
    "print(num_words)"
   ]
  },
  {
   "cell_type": "code",
   "execution_count": 7,
   "id": "bb2f299c",
   "metadata": {},
   "outputs": [],
   "source": [
    "train_size = int(imdb.shape[0] * 0.8)\n",
    "X_train = imdb.review[:train_size]\n",
    "y_train = imdb.sentiment[:train_size]\n",
    "\n",
    "X_test = imdb.review[train_size:]\n",
    "y_test = imdb.sentiment[train_size:]"
   ]
  },
  {
   "cell_type": "code",
   "execution_count": 8,
   "id": "3a4b19ba",
   "metadata": {},
   "outputs": [],
   "source": [
    "tokenizer = Tokenizer(num_words)\n",
    "tokenizer.fit_on_texts(X_train)\n",
    "X_train = tokenizer.texts_to_sequences(X_train)\n",
    "X_train = pad_sequences(X_train, maxlen = 128, truncating = 'post', padding = 'post')"
   ]
  },
  {
   "cell_type": "code",
   "execution_count": 10,
   "id": "d05d3e2d",
   "metadata": {},
   "outputs": [
    {
     "data": {
      "text/plain": [
       "(array([   27,     4,     1,    80,  2102,    45,  1073,    12,   100,\n",
       "          147,    39,   316,  2968,   409,   459,    26,  3173,    33,\n",
       "           23,   200,    14,    11,     6,   614,    48,   606,    16,\n",
       "           68,     7,     7,     1,    87,   148,    12,  3256,    68,\n",
       "           41,  2968,    13,    92,  5626,     2, 16202,   134,     4,\n",
       "          569,    60,   271,     8,   200,    36,     1,   673,   139,\n",
       "         1712,    68,    11,     6,    21,     3,   118,    15,     1,\n",
       "         7870,  2257,    38, 11540,    11,   118,  2495,    54,  5662,\n",
       "           16,  5182,     5,  1438,   377,    38,   569,    92,     6,\n",
       "         3730,     8,     1,   360,   353,     4,     1,   673,     7,\n",
       "            7,     9,     6,   431,  2968,    14,    12,     6,     1,\n",
       "        11736,   356,     5,     1, 14689,  6526,  2594,  1087,     9,\n",
       "         2661,  1432,    20, 22583,   534,    32,  4795,  2451,     4,\n",
       "            1,  1193,   117,    29,     1,  6893,    25,  2874, 12191,\n",
       "            2,   392]),\n",
       " 128)"
      ]
     },
     "execution_count": 10,
     "metadata": {},
     "output_type": "execute_result"
    }
   ],
   "source": [
    "X_train[0], len(X_train[0])"
   ]
  },
  {
   "cell_type": "code",
   "execution_count": 11,
   "id": "84921dcb",
   "metadata": {},
   "outputs": [],
   "source": [
    "X_test = tokenizer.texts_to_sequences(X_test)\n",
    "X_test = pad_sequences(X_test, maxlen= 128, truncating = 'post', padding = 'post')"
   ]
  },
  {
   "cell_type": "code",
   "execution_count": 12,
   "id": "80ea42e8",
   "metadata": {},
   "outputs": [
    {
     "data": {
      "text/plain": [
       "(array([   87,   122,    10,   180,     5,   132,    12,    10,  7131,\n",
       "         3717,    20,     1,  1001,  2285,     2,    10,   255,     1,\n",
       "           17,  2431,    10,  1311,     5,   103,     1,   222,  6349,\n",
       "            4,     3,    19,    11,    17,   974,     3,   351,     5,\n",
       "          215,  1011,   415,     9,    13,   215,  1380,    56,   235,\n",
       "          402,   300,     4,   316,    23,   257,    19,   961,    12,\n",
       "        22250,    12,    33,    66,    61,   212,    53,    16,    11,\n",
       "          113,    13,   497,     2,     1,   102,    70,  5358,    15,\n",
       "            1,    88,   172,     1,   473,   824,     8,     1,    64,\n",
       "           67,    54,    49,  2406,    30,    29,    33,    90,    40,\n",
       "        35787,    83,    46,   438,     4,     3,    74,   220,     2,\n",
       "           10,   115,    21,    63,    12,    30,    29,   268,    10,\n",
       "         1059,   137,    10,    78,    21,   119,    28,    13,     1,\n",
       "           88,   175,     5,   728,  3423,   108,     8,     1,    17,\n",
       "           10,   115]),\n",
       " 128)"
      ]
     },
     "execution_count": 12,
     "metadata": {},
     "output_type": "execute_result"
    }
   ],
   "source": [
    "X_test[0], len(X_test[0])"
   ]
  },
  {
   "cell_type": "code",
   "execution_count": 13,
   "id": "a9152e89",
   "metadata": {},
   "outputs": [
    {
     "name": "stdout",
     "output_type": "stream",
     "text": [
      "(40000, 128) (40000,)\n",
      "(10000, 128) (10000,)\n"
     ]
    }
   ],
   "source": [
    "print(X_train.shape, y_train.shape)\n",
    "print(X_test.shape, y_test.shape)"
   ]
  },
  {
   "cell_type": "code",
   "execution_count": 14,
   "id": "e73e93b5",
   "metadata": {},
   "outputs": [],
   "source": [
    "le = LabelEncoder()\n",
    "y_train = le.fit_transform(y_train)\n",
    "y_test = le.transform(y_test)"
   ]
  },
  {
   "cell_type": "code",
   "execution_count": 15,
   "id": "eef6d633",
   "metadata": {},
   "outputs": [],
   "source": [
    "model = Sequential()\n",
    "\n",
    "model.add(Embedding(input_dim = num_words, output_dim = 100, input_length = 128, trainable = True))\n",
    "model.add(LSTM(100, dropout= 0.1, return_sequences = True))\n",
    "model.add(LSTM(100, dropout = 0.1))\n",
    "model.add(Dense(1, activation = 'sigmoid'))\n",
    "\n",
    "model.compile(loss = 'binary_crossentropy', optimizer = 'adam', metrics = ['accuracy'])"
   ]
  },
  {
   "cell_type": "code",
   "execution_count": 16,
   "id": "37510603",
   "metadata": {},
   "outputs": [
    {
     "name": "stdout",
     "output_type": "stream",
     "text": [
      "Model: \"sequential\"\n",
      "_________________________________________________________________\n",
      "Layer (type)                 Output Shape              Param #   \n",
      "=================================================================\n",
      "embedding (Embedding)        (None, 128, 100)          5000000   \n",
      "_________________________________________________________________\n",
      "lstm (LSTM)                  (None, 128, 100)          80400     \n",
      "_________________________________________________________________\n",
      "lstm_1 (LSTM)                (None, 100)               80400     \n",
      "_________________________________________________________________\n",
      "dense (Dense)                (None, 1)                 101       \n",
      "=================================================================\n",
      "Total params: 5,160,901\n",
      "Trainable params: 5,160,901\n",
      "Non-trainable params: 0\n",
      "_________________________________________________________________\n"
     ]
    }
   ],
   "source": [
    "model.summary()"
   ]
  },
  {
   "cell_type": "code",
   "execution_count": 25,
   "id": "2ec33142",
   "metadata": {},
   "outputs": [
    {
     "name": "stdout",
     "output_type": "stream",
     "text": [
      "Epoch 1/5\n",
      "313/313 [==============================] - 125s 398ms/step - loss: 0.0179 - accuracy: 0.9955 - val_loss: 0.7719 - val_accuracy: 0.8476\n",
      "Epoch 2/5\n",
      "313/313 [==============================] - 123s 394ms/step - loss: 0.0804 - accuracy: 0.9761 - val_loss: 0.5677 - val_accuracy: 0.8318\n",
      "Epoch 3/5\n",
      "313/313 [==============================] - 122s 390ms/step - loss: 0.0739 - accuracy: 0.9739 - val_loss: 0.6449 - val_accuracy: 0.8423\n",
      "Epoch 4/5\n",
      "313/313 [==============================] - 123s 393ms/step - loss: 0.0286 - accuracy: 0.9912 - val_loss: 0.7807 - val_accuracy: 0.8425\n",
      "Epoch 5/5\n",
      "313/313 [==============================] - 123s 394ms/step - loss: 0.0257 - accuracy: 0.9925 - val_loss: 0.6734 - val_accuracy: 0.8365\n"
     ]
    }
   ],
   "source": [
    "history = model.fit(X_train, y_train, epochs = 5, batch_size = 128, validation_data = (X_test, y_test))"
   ]
  },
  {
   "cell_type": "code",
   "execution_count": 26,
   "id": "d93a92ab",
   "metadata": {},
   "outputs": [
    {
     "data": {
      "image/png": "[encoded data removed]",
      "text/plain": [
       "<Figure size 1152x360 with 1 Axes>"
      ]
     },
     "metadata": {},
     "output_type": "display_data"
    }
   ],
   "source": [
    "plt.figure(figsize = (16, 5))\n",
    "epochs = range(1, len(history.history['accuracy']) + 1)\n",
    "plt.plot(epochs, history.history['loss'], 'b', label = 'Training Loss', color = 'red')\n",
    "plt.plot(epochs, history.history['val_loss'], 'b', label = 'Validation Loss')\n",
    "plt.legend()\n",
    "plt.show()"
   ]
  },
  {
   "cell_type": "code",
   "execution_count": 27,
   "id": "796a802a",
   "metadata": {},
   "outputs": [
    {
     "data": {
      "image/png": "[encoded data removed]",
      "text/plain": [
       "<Figure size 1152x360 with 1 Axes>"
      ]
     },
     "metadata": {},
     "output_type": "display_data"
    }
   ],
   "source": [
    "plt.figure(figsize = (16, 5))\n",
    "epochs = range(1, len(history.history['accuracy']) + 1)\n",
    "plt.plot(epochs, history.history['accuracy'], 'b', label = 'Training Accuracy', color = 'red')\n",
    "plt.plot(epochs, history.history['val_accuracy'], 'b', label = 'Validation Accuracy')\n",
    "plt.legend()\n",
    "plt.show()"
   ]
  },
  {
   "cell_type": "code",
   "execution_count": 28,
   "id": "63e965db",
   "metadata": {},
   "outputs": [
    {
     "name": "stdout",
     "output_type": "stream",
     "text": [
      "This movie was not good at all. It had some good parts like the acting was pretty good but the story was not impressing at all.\n",
      "Probability of Positive: [0.5359301]\n"
     ]
    }
   ],
   "source": [
    "validation_sentence = ['This movie was not good at all. It had some good parts like the acting was pretty good but the story was not impressing at all.']\n",
    "validation_sentence_tokened = tokenizer.texts_to_sequences(validation_sentence)\n",
    "validation_sentence_padded = pad_sequences(validation_sentence_tokened, maxlen = 128, truncating= 'post', padding = 'post')\n",
    "\n",
    "print(validation_sentence[0])\n",
    "print('Probability of Positive: {}'.format(model.predict(validation_sentence_padded)[0]))"
   ]
  },
  {
   "cell_type": "code",
   "execution_count": 29,
   "id": "1054ebef",
   "metadata": {},
   "outputs": [
    {
     "name": "stdout",
     "output_type": "stream",
     "text": [
      "I can watch this movie forever just because of the beauty in its cinematography\n",
      "Probability of Positive: [0.92042655]\n"
     ]
    }
   ],
   "source": [
    "validation_sentence = ['I can watch this movie forever just because of the beauty in its cinematography']\n",
    "validation_sentence_tokened = tokenizer.texts_to_sequences(validation_sentence)\n",
    "validation_sentence_padded = pad_sequences(validation_sentence_tokened, maxlen = 128, truncating= 'post', padding = 'post')\n",
    "\n",
    "print(validation_sentence[0])\n",
    "print('Probability of Positive: {}'.format(model.predict(validation_sentence_padded)[0]))"
   ]
  },
  {
   "cell_type": "code",
   "execution_count": 30,
   "id": "15868880",
   "metadata": {},
   "outputs": [
    {
     "name": "stdout",
     "output_type": "stream",
     "text": [
      "This is the best movie I have ever watched before\n",
      "Probability of Positive: [0.9342745]\n"
     ]
    }
   ],
   "source": [
    "validation_sentence = ['This is the best movie I have ever watched before']\n",
    "validation_sentence_tokened = tokenizer.texts_to_sequences(validation_sentence)\n",
    "validation_sentence_padded = pad_sequences(validation_sentence_tokened, maxlen = 128, truncating= 'post', padding = 'post')\n",
    "\n",
    "print(validation_sentence[0])\n",
    "print('Probability of Positive: {}'.format(model.predict(validation_sentence_padded)[0]))"
   ]
  },
  {
   "cell_type": "code",
   "execution_count": 33,
   "id": "2e4c38ca",
   "metadata": {},
   "outputs": [
    {
     "name": "stdout",
     "output_type": "stream",
     "text": [
      "Honestly, I do not like this moive that much.\n",
      "Probability of Positive: [0.36767805]\n"
     ]
    }
   ],
   "source": [
    "validation_sentence = ['Honestly, I do not like this moive that much.']\n",
    "validation_sentence_tokened = tokenizer.texts_to_sequences(validation_sentence)\n",
    "validation_sentence_padded = pad_sequences(validation_sentence_tokened, maxlen = 128, truncating= 'post', padding = 'post')\n",
    "\n",
    "print(validation_sentence[0])\n",
    "print('Probability of Positive: {}'.format(model.predict(validation_sentence_padded)[0]))"
   ]
  },
  {
   "cell_type": "code",
   "execution_count": null,
   "id": "84504158",
   "metadata": {},
   "outputs": [],
   "source": []
  }
 ],
 "metadata": {
  "kernelspec": {
   "display_name": "Python 3 (ipykernel)",
   "language": "python",
   "name": "python3"
  },
  "language_info": {
   "codemirror_mode": {
    "name": "ipython",
    "version": 3
   },
   "file_extension": ".py",
   "mimetype": "text/x-python",
   "name": "python",
   "nbconvert_exporter": "python",
   "pygments_lexer": "ipython3",
   "version": "3.8.11"
  }
 },
 "nbformat": 4,
 "nbformat_minor": 5
}
